{
 "cells": [
  {
   "cell_type": "code",
   "execution_count": null,
   "metadata": {},
   "outputs": [],
   "source": [
    "import os\n",
    "import torch\n",
    "\n",
    "device = \"cuda\" if torch.cuda.is_available() else \"cpu\"\n",
    "\n",
    "\n",
    "train_set_path = \"../../../datasets/train_set.csv\"\n",
    "test_set_path = \"../../../datasets/test_set.csv\"\n",
    "\n",
    "existing_model_path = \"../../../autoencoder/autoencoder.pth\"\n",
    "\n",
    "tuning_metric = \"f1\"  # f1 or accuracy\n",
    "test_run = True\n",
    "\n",
    "if test_run:\n",
    "    use_sample = True\n",
    "    train_frac = 0.01\n",
    "    with_storage = False\n",
    "    trials = 10\n",
    "else:\n",
    "    os.makedirs(\"optuna_storage\", exist_ok=True)\n",
    "    storage_path = \"sqlite:///optuna_storage/dbscan_study.db\"\n",
    "    use_sample = True\n",
    "    train_frac = 0.3\n",
    "    with_storage = False\n",
    "    trials = 100"
   ]
  },
  {
   "cell_type": "markdown",
   "metadata": {},
   "source": [
    "# Autoencoder Setup"
   ]
  },
  {
   "cell_type": "code",
   "execution_count": null,
   "metadata": {},
   "outputs": [],
   "source": [
    "from torch.utils.data import DataLoader, TensorDataset\n",
    "import numpy as np\n",
    "\n",
    "\n",
    "def extract_encoded_features(X_data, autoencoder, device, batch_size=256):\n",
    "    # Convert to PyTorch tensor and prepare data loader\n",
    "    X_tensor = torch.FloatTensor(X_data)\n",
    "    X_dataset = TensorDataset(X_tensor)\n",
    "    X_loader = DataLoader(X_dataset, batch_size=batch_size)\n",
    "\n",
    "    # Extract encoded features\n",
    "    X_encoded = []\n",
    "    with torch.no_grad():\n",
    "        for data in X_loader:\n",
    "            data_x = data[0].to(device)\n",
    "            encoded = autoencoder.encode(data_x)\n",
    "            X_encoded.append(encoded.cpu().numpy())\n",
    "\n",
    "    return np.vstack(X_encoded)"
   ]
  },
  {
   "cell_type": "code",
   "execution_count": null,
   "metadata": {},
   "outputs": [],
   "source": [
    "from autoencoder import BatchNormAutoencoder\n",
    "\n",
    "\n",
    "existing_model_architecture = {\n",
    "    \"input_dim\": 15,\n",
    "    \"hidden_dims\": [13, 11],\n",
    "    \"latent_dim\": 9,\n",
    "    \"activation_type\": \"ReLU\",\n",
    "    \"negative_slope\": 0,\n",
    "    \"output_activation_type\": \"Sigmoid\",\n",
    "}\n",
    "\n",
    "autoencoder = BatchNormAutoencoder(\n",
    "    input_dim=existing_model_architecture[\"input_dim\"],\n",
    "    hidden_dims=existing_model_architecture[\"hidden_dims\"],\n",
    "    latent_dim=existing_model_architecture[\"latent_dim\"],\n",
    "    activation_type=existing_model_architecture[\"activation_type\"],\n",
    "    negative_slope=existing_model_architecture[\"negative_slope\"],\n",
    "    output_activation_type=existing_model_architecture[\"output_activation_type\"],\n",
    ").to(device)\n",
    "\n",
    "# Load best model\n",
    "checkpoint = torch.load(existing_model_path)\n",
    "autoencoder.load_state_dict(checkpoint[\"model_state_dict\"])\n",
    "\n",
    "autoencoder.eval()"
   ]
  },
  {
   "cell_type": "markdown",
   "metadata": {},
   "source": [
    "# Dataset setup"
   ]
  },
  {
   "cell_type": "markdown",
   "metadata": {},
   "source": [
    "Import train dataset"
   ]
  },
  {
   "cell_type": "code",
   "execution_count": null,
   "metadata": {},
   "outputs": [],
   "source": [
    "import pandas as pd\n",
    "\n",
    "train_dataset = pd.read_csv(train_set_path)\n",
    "\n",
    "if use_sample:\n",
    "    train_dataset = train_dataset.sample(frac=train_frac, random_state=42)\n",
    "\n",
    "X_train = train_dataset.drop(columns=[\"attack_binary\", \"attack_categorical\"]).values\n",
    "y_train = train_dataset[\"attack_binary\"].values\n",
    "\n",
    "print(f\"train set count: {train_dataset.shape[0]:,}\")\n",
    "print(f\"unique values: {train_dataset['attack_categorical'].unique()}\")\n",
    "train_dataset.head(3)"
   ]
  },
  {
   "cell_type": "markdown",
   "metadata": {},
   "source": [
    "import test set"
   ]
  },
  {
   "cell_type": "code",
   "execution_count": null,
   "metadata": {},
   "outputs": [],
   "source": [
    "test_dataset = pd.read_csv(test_set_path)\n",
    "\n",
    "if test_run:\n",
    "    test_dataset = test_dataset.sample(\n",
    "        frac=train_frac * 2, random_state=42\n",
    "    ).reset_index(drop=True)\n",
    "\n",
    "\n",
    "print(f\"test set count: {test_dataset.shape[0]:,}\")\n",
    "\n",
    "print(f\"unique values: {test_dataset['attack_categorical'].value_counts()}\")\n",
    "\n",
    "test_dataset.head(3)"
   ]
  },
  {
   "cell_type": "markdown",
   "metadata": {},
   "source": [
    "splitting into validation and test set"
   ]
  },
  {
   "cell_type": "code",
   "execution_count": null,
   "metadata": {},
   "outputs": [],
   "source": [
    "from sklearn.model_selection import train_test_split\n",
    "\n",
    "test_df, val_df = train_test_split(\n",
    "    test_dataset,\n",
    "    test_size=0.5,\n",
    "    random_state=42,\n",
    "    stratify=test_dataset[\"attack_categorical\"],\n",
    ")"
   ]
  },
  {
   "cell_type": "markdown",
   "metadata": {},
   "source": [
    "test set"
   ]
  },
  {
   "cell_type": "code",
   "execution_count": null,
   "metadata": {},
   "outputs": [],
   "source": [
    "# Splitting into X and y\n",
    "X_test = test_df.drop(columns=[\"attack_binary\", \"attack_categorical\"]).values\n",
    "y_test = test_df[\"attack_binary\"].values\n",
    "y_test_class = test_df[\"attack_categorical\"].values\n",
    "\n",
    "print(f\"test set count: {test_df.shape[0]:,}\")\n",
    "print(f\"unique values: {test_df['attack_categorical'].value_counts()}\")\n",
    "test_df.head(3)"
   ]
  },
  {
   "cell_type": "markdown",
   "metadata": {},
   "source": [
    "validation set"
   ]
  },
  {
   "cell_type": "code",
   "execution_count": null,
   "metadata": {},
   "outputs": [],
   "source": [
    "# Splitting into X and y\n",
    "X_val = val_df.drop(columns=[\"attack_binary\", \"attack_categorical\"]).values\n",
    "y_val = val_df[\"attack_binary\"].values\n",
    "y_val_class = val_df[\"attack_categorical\"].values\n",
    "\n",
    "print(f\"test set count: {val_df.shape[0]:,}\")\n",
    "print(f\"unique values: {val_df['attack_categorical'].value_counts()}\")\n",
    "val_df.head(3)"
   ]
  },
  {
   "cell_type": "markdown",
   "metadata": {},
   "source": [
    "Applying  SMOTE to validation set"
   ]
  },
  {
   "cell_type": "code",
   "execution_count": null,
   "metadata": {},
   "outputs": [],
   "source": [
    "from imblearn.over_sampling import SMOTE\n",
    "import numpy as np\n",
    "\n",
    "# First, display the original distribution\n",
    "print(\"Before SMOTE:\")\n",
    "print(f\"Val set count: {X_val.shape[0]:,}\")\n",
    "before_counts = pd.Series(y_val_class).value_counts()\n",
    "print(before_counts)\n",
    "\n",
    "# Apply SMOTE to training data using class labels\n",
    "if test_run:\n",
    "    sampling_strategy = {\n",
    "        \"dos\": 100,\n",
    "        \"portScan\": 100,\n",
    "        \"bruteForce\": 100,\n",
    "        \"pingScan\": 100,\n",
    "    }\n",
    "else:\n",
    "    sampling_strategy = {\n",
    "        \"dos\": 4000,\n",
    "        \"portScan\": 4000,\n",
    "        \"bruteForce\": 4000,\n",
    "        \"pingScan\": 4000,\n",
    "    }\n",
    "smote = SMOTE(random_state=42, k_neighbors=3, sampling_strategy=sampling_strategy)\n",
    "X_val_resampled, y_val_resampled = smote.fit_resample(X_val, y_val_class)\n",
    "\n",
    "# Display the distribution after SMOTE\n",
    "print(\"\\nAfter SMOTE:\")\n",
    "print(f\"Val set count: {X_val_resampled.shape[0]:,}\")\n",
    "after_counts = pd.Series(y_val_resampled).value_counts()\n",
    "print(after_counts)\n",
    "\n",
    "# If you need binary labels for further processing, convert back\n",
    "y_val_resampled = np.where(y_val_resampled == \"benign\", 1, -1)"
   ]
  },
  {
   "cell_type": "markdown",
   "metadata": {},
   "source": [
    "# Hyperparameter tuning"
   ]
  },
  {
   "cell_type": "markdown",
   "metadata": {},
   "source": [
    "objective function, maximizing the f1-score"
   ]
  },
  {
   "cell_type": "code",
   "execution_count": null,
   "metadata": {},
   "outputs": [],
   "source": [
    "X_train_encoded = extract_encoded_features(X_train, autoencoder, device)\n",
    "X_val_encoded = extract_encoded_features(X_val_resampled, autoencoder, device)\n",
    "X_test_encoded = extract_encoded_features(X_test, autoencoder, device)\n",
    "print(X_train_encoded.shape)\n",
    "print(X_val_encoded.shape)\n",
    "print(X_test_encoded.shape)"
   ]
  },
  {
   "cell_type": "code",
   "execution_count": null,
   "metadata": {},
   "outputs": [],
   "source": [
    "from sklearn.svm import OneClassSVM\n",
    "from sklearn.metrics import f1_score, accuracy_score, precision_score, recall_score\n",
    "import optuna\n",
    "\n",
    "\n",
    "def objective(trial):\n",
    "    nu = trial.suggest_float(\"nu\", 0.01, 0.5)\n",
    "    gamma = trial.suggest_float(\"gamma\", 0.01, 1.0)\n",
    "\n",
    "    ocsvm = OneClassSVM(kernel=\"rbf\", nu=nu, gamma=gamma)\n",
    "    ocsvm.fit(X_train_encoded)\n",
    "\n",
    "    y_pred_val = ocsvm.predict(X_val_encoded)\n",
    "    y_pred_test = ocsvm.predict(X_test_encoded)\n",
    "\n",
    "    acc_val = accuracy_score(y_val_resampled, y_pred_val)\n",
    "    f1_val = f1_score(y_val_resampled, y_pred_val, pos_label=-1)\n",
    "    precision_val = precision_score(y_val_resampled, y_pred_val, pos_label=-1)\n",
    "    recall_val = recall_score(y_val_resampled, y_pred_val, pos_label=-1)\n",
    "    print(\"Validation Results:\")\n",
    "    print(\n",
    "        {\n",
    "            \"accuracy\": f\"{acc_val * 100:.2f}\",\n",
    "            \"f1\": f\"{f1_val * 100:.2f}\",\n",
    "            \"precision\": f\"{precision_val * 100:.2f}\",\n",
    "            \"recall\": f\"{recall_val * 100:.2f}\",\n",
    "        }\n",
    "    )\n",
    "\n",
    "    print(\"\\nTest Results:\")\n",
    "    acc_test = accuracy_score(y_test, y_pred_test)\n",
    "    f1_test = f1_score(y_test, y_pred_test, pos_label=-1)\n",
    "    precision_test = precision_score(y_test, y_pred_test, pos_label=-1)\n",
    "    recall_test = recall_score(y_test, y_pred_test, pos_label=-1)\n",
    "    print(\n",
    "        {\n",
    "            \"accuracy\": f\"{acc_test * 100:.2f}\",\n",
    "            \"f1\": f\"{f1_test * 100:.2f}\",\n",
    "            \"precision\": f\"{precision_test * 100:.2f}\",\n",
    "            \"recall\": f\"{recall_test * 100:.2f}\",\n",
    "        }\n",
    "    )\n",
    "\n",
    "    if tuning_metric == \"f1\":\n",
    "        return f1_val\n",
    "    elif tuning_metric == \"accuracy\":\n",
    "        return acc_val\n",
    "    else:\n",
    "        raise ValueError(\"Invalid tuning metric\")\n",
    "\n",
    "\n",
    "if with_storage:\n",
    "    storage_path = \"sqlite:////work/base_ocsvm_study.db\"\n",
    "    study = optuna.create_study(\n",
    "        direction=\"maximize\",\n",
    "        storage=storage_path,\n",
    "        study_name=\"base_ocsvm_study\",\n",
    "        load_if_exists=True,\n",
    "    )\n",
    "    study.optimize(objective, n_trials=trials)\n",
    "else:\n",
    "    study = optuna.create_study(direction=\"maximize\")\n",
    "    study.optimize(objective, n_trials=trials)\n",
    "\n",
    "\n",
    "print(f\"Best score: {study.best_value:.3f}\")\n",
    "print(f\"Best parameters: {study.best_params}\")"
   ]
  },
  {
   "cell_type": "code",
   "execution_count": null,
   "metadata": {},
   "outputs": [],
   "source": [
    "import optuna\n",
    "from plotly.io import show\n",
    "\n",
    "fig = optuna.visualization.plot_optimization_history(study)\n",
    "show(fig)"
   ]
  },
  {
   "cell_type": "code",
   "execution_count": null,
   "metadata": {},
   "outputs": [],
   "source": [
    "fig = optuna.visualization.plot_edf([study])\n",
    "show(fig)"
   ]
  },
  {
   "cell_type": "markdown",
   "metadata": {},
   "source": [
    "# Train the final model"
   ]
  },
  {
   "cell_type": "code",
   "execution_count": null,
   "metadata": {},
   "outputs": [],
   "source": [
    "nu = study.best_params[\"nu\"]\n",
    "gamma = study.best_params[\"gamma\"]\n",
    "\n",
    "best_ocsvm = OneClassSVM(kernel=\"rbf\", nu=nu, gamma=gamma)\n",
    "\n",
    "best_ocsvm.fit(X_train_encoded)"
   ]
  },
  {
   "cell_type": "markdown",
   "metadata": {},
   "source": [
    "# Evaluating the model"
   ]
  },
  {
   "cell_type": "code",
   "execution_count": null,
   "metadata": {},
   "outputs": [],
   "source": [
    "y_pred = best_ocsvm.predict(X_test_encoded)"
   ]
  },
  {
   "cell_type": "code",
   "execution_count": null,
   "metadata": {},
   "outputs": [],
   "source": [
    "from sklearn.metrics import confusion_matrix\n",
    "import seaborn as sns\n",
    "import matplotlib.pyplot as plt\n",
    "\n",
    "cm = confusion_matrix(y_test, y_pred, labels=[-1, 1])\n",
    "\n",
    "\n",
    "def plot_confusion_matrix(cm, labels, title):\n",
    "    plt.figure(figsize=(5, 4))\n",
    "    sns.heatmap(\n",
    "        cm, annot=True, fmt=\"d\", cmap=\"Blues\", xticklabels=labels, yticklabels=labels\n",
    "    )\n",
    "    plt.xlabel(\"Predicted Label\")\n",
    "    plt.ylabel(\"Actual Label\")\n",
    "    plt.title(title)\n",
    "    plt.show()\n",
    "\n",
    "\n",
    "plot_confusion_matrix(cm, [\"Anomaly\", \"Normal\"], \"Confusion Matrix (Anomaly vs Normal)\")"
   ]
  },
  {
   "cell_type": "code",
   "execution_count": null,
   "metadata": {},
   "outputs": [],
   "source": [
    "import seaborn as sns\n",
    "import matplotlib.pyplot as plt\n",
    "\n",
    "\n",
    "def plot_confusion_matrix(cm, labels, title):\n",
    "    plt.figure(figsize=(5, 4))\n",
    "    sns.heatmap(\n",
    "        cm, annot=True, fmt=\"d\", cmap=\"Blues\", xticklabels=labels, yticklabels=labels\n",
    "    )\n",
    "    plt.xlabel(\"Predicted Label\")\n",
    "    plt.ylabel(\"Actual Label\")\n",
    "    plt.title(title)\n",
    "    plt.show()\n",
    "\n",
    "\n",
    "plot_confusion_matrix(cm, [\"Anomaly\", \"Normal\"], \"Confusion Matrix (Anomaly vs Normal)\")"
   ]
  },
  {
   "cell_type": "code",
   "execution_count": null,
   "metadata": {},
   "outputs": [],
   "source": [
    "from sklearn.metrics import (\n",
    "    classification_report,\n",
    "    precision_score,\n",
    "    recall_score,\n",
    "    f1_score,\n",
    "    accuracy_score,\n",
    ")\n",
    "\n",
    "print(\"Classification Report:\")\n",
    "print(classification_report(y_test, y_pred, target_names=[\"Anomaly\", \"Normal\"]))\n",
    "\n",
    "precision = precision_score(y_test, y_pred, pos_label=-1)\n",
    "recall = recall_score(y_test, y_pred, pos_label=-1)\n",
    "f1 = f1_score(y_test, y_pred, pos_label=-1)\n",
    "acc = accuracy_score(y_test, y_pred)\n",
    "\n",
    "print(f\"Precision: {precision}\")\n",
    "print(f\"Recall: {recall}\")\n",
    "print(f\"F1 Score: {f1}\")\n",
    "print(f\"Accuracy: {acc}\")"
   ]
  },
  {
   "cell_type": "code",
   "execution_count": null,
   "metadata": {},
   "outputs": [],
   "source": [
    "import numpy as np\n",
    "\n",
    "\n",
    "def create_multiclass_cm(y_true_class, y_pred_binary):\n",
    "    \"\"\"\n",
    "    Create a confusion matrix showing how each attack class was classified.\n",
    "\n",
    "    For attack classes (DoS, Probe, R2L, U2R), correct detection is when y_pred = -1 (anomaly)\n",
    "    For normal class, correct detection is when y_pred = 1 (normal)\n",
    "    \"\"\"\n",
    "    classes = np.unique(y_true_class)\n",
    "    cm = np.zeros((len(classes), 2))\n",
    "\n",
    "    for i, cls in enumerate(classes):\n",
    "        # Get predictions for this class\n",
    "        cls_indices = y_true_class == cls\n",
    "        preds = y_pred_binary[cls_indices]\n",
    "\n",
    "        # Count correct and incorrect predictions\n",
    "        if cls == \"normal\":\n",
    "            cm[i, 0] = np.sum(preds == -1)  # incorrectly detected as anomaly\n",
    "            cm[i, 1] = np.sum(preds == 1)  # correctly detected as normal\n",
    "        else:\n",
    "            cm[i, 0] = np.sum(preds == -1)  # correctly detected as anomaly\n",
    "            cm[i, 1] = np.sum(preds == 1)  # incorrectly detected as normal\n",
    "\n",
    "    return cm, classes\n",
    "\n",
    "\n",
    "# Create and plot the multi-class confusion matrix\n",
    "cm_multi, classes = create_multiclass_cm(y_test_class, y_pred)\n",
    "\n",
    "plt.figure(figsize=(10, 8))\n",
    "sns.heatmap(\n",
    "    cm_multi,\n",
    "    annot=True,\n",
    "    fmt=\"g\",\n",
    "    cmap=\"Blues\",\n",
    "    xticklabels=[\"Detected as Anomaly\", \"Detected as Normal\"],\n",
    "    yticklabels=classes,\n",
    ")\n",
    "plt.ylabel(\"True Attack Class\")\n",
    "plt.title(\"Confusion Matrix by Attack Class\")\n",
    "plt.tight_layout()\n",
    "plt.show()"
   ]
  },
  {
   "cell_type": "code",
   "execution_count": null,
   "metadata": {},
   "outputs": [],
   "source": [
    "# Calculate detection rates for each class\n",
    "print(\"Detection rates by class:\")\n",
    "class_metrics = {}\n",
    "for cls in np.unique(y_test_class):\n",
    "    # Get indices for this class\n",
    "    class_indices = y_test_class == cls\n",
    "\n",
    "    # True values and predictions for this class\n",
    "    y_true_cls = y_test[class_indices]\n",
    "    y_pred_cls = y_pred[class_indices]\n",
    "\n",
    "    # Calculate metrics\n",
    "    if cls == \"Normal\":\n",
    "        # For normal class, we want to detect 1 (normal)\n",
    "        correct = np.sum((y_pred_cls == 1))\n",
    "        precision = precision_score(\n",
    "            y_true_cls, y_pred_cls, pos_label=1, zero_division=0\n",
    "        )\n",
    "        recall = recall_score(y_true_cls, y_pred_cls, pos_label=1, zero_division=0)\n",
    "    else:\n",
    "        # For attack classes, we want to detect -1 (anomaly)\n",
    "        correct = np.sum((y_pred_cls == -1))\n",
    "        precision = precision_score(\n",
    "            y_true_cls, y_pred_cls, pos_label=-1, zero_division=0\n",
    "        )\n",
    "        recall = recall_score(y_true_cls, y_pred_cls, pos_label=-1, zero_division=0)\n",
    "\n",
    "    total = len(y_pred_cls)\n",
    "    detection_rate = correct / total\n",
    "    f1 = f1_score(\n",
    "        y_true_cls, y_pred_cls, pos_label=-1 if cls != \"Normal\" else 1, zero_division=0\n",
    "    )\n",
    "\n",
    "    class_metrics[cls] = {\n",
    "        \"detection_rate\": detection_rate,\n",
    "        \"precision\": precision,\n",
    "        \"recall\": recall,\n",
    "        \"f1_score\": f1,\n",
    "        \"count\": total,\n",
    "        \"correctly_detected\": correct,\n",
    "    }\n",
    "\n",
    "    print(f\"{cls}: {detection_rate:.4f} ({correct}/{total})\")"
   ]
  }
 ],
 "metadata": {
  "kernelspec": {
   "display_name": "venv",
   "language": "python",
   "name": "python3"
  },
  "language_info": {
   "codemirror_mode": {
    "name": "ipython",
    "version": 3
   },
   "file_extension": ".py",
   "mimetype": "text/x-python",
   "name": "python",
   "nbconvert_exporter": "python",
   "pygments_lexer": "ipython3",
   "version": "3.12.3"
  }
 },
 "nbformat": 4,
 "nbformat_minor": 2
}
