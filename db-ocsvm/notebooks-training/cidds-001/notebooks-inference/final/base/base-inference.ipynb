{
 "cells": [
  {
   "cell_type": "code",
   "execution_count": null,
   "metadata": {},
   "outputs": [],
   "source": [
    "import torch\n",
    "\n",
    "device = \"cuda\" if torch.cuda.is_available() else \"cpu\"\n",
    "\n",
    "train_set_path = \"../../../datasets/train_set.csv\"\n",
    "test_set_path = \"../../../datasets/test_set.csv\"\n",
    "train_set_sample = 0.3\n",
    "\n",
    "use_val_set = False\n",
    "\n",
    "nu = 0.3787645885136912\n",
    "gamma = 0.7602707654909351"
   ]
  },
  {
   "cell_type": "markdown",
   "metadata": {},
   "source": [
    "# Autoencoder Setup"
   ]
  },
  {
   "cell_type": "code",
   "execution_count": null,
   "metadata": {},
   "outputs": [],
   "source": [
    "from torch.utils.data import DataLoader, TensorDataset\n",
    "import numpy as np\n",
    "\n",
    "\n",
    "def extract_encoded_features(X_data, autoencoder, device, batch_size=256):\n",
    "    # Convert to PyTorch tensor and prepare data loader\n",
    "    X_tensor = torch.FloatTensor(X_data)\n",
    "    X_dataset = TensorDataset(X_tensor)\n",
    "    X_loader = DataLoader(X_dataset, batch_size=batch_size)\n",
    "\n",
    "    # Extract encoded features\n",
    "    X_encoded = []\n",
    "    with torch.no_grad():\n",
    "        for data in X_loader:\n",
    "            data_x = data[0].to(device)\n",
    "            encoded = autoencoder.encode(data_x)\n",
    "            X_encoded.append(encoded.cpu().numpy())\n",
    "\n",
    "    return np.vstack(X_encoded)"
   ]
  },
  {
   "cell_type": "code",
   "execution_count": null,
   "metadata": {},
   "outputs": [],
   "source": [
    "from autoencoder import BatchNormAutoencoder\n",
    "\n",
    "existing_model_path = \"../../../autoencoder/autoencoder.pth\"\n",
    "\n",
    "existing_model_architecture = {\n",
    "    \"input_dim\": 15,\n",
    "    \"hidden_dims\": [13, 11],\n",
    "    \"latent_dim\": 9,\n",
    "    \"activation_type\": \"ReLU\",\n",
    "    \"negative_slope\": 1,\n",
    "    \"output_activation_type\": \"Sigmoid\",\n",
    "}\n",
    "\n",
    "autoencoder = BatchNormAutoencoder(\n",
    "    input_dim=existing_model_architecture[\"input_dim\"],\n",
    "    hidden_dims=existing_model_architecture[\"hidden_dims\"],\n",
    "    latent_dim=existing_model_architecture[\"latent_dim\"],\n",
    "    activation_type=existing_model_architecture[\"activation_type\"],\n",
    "    negative_slope=existing_model_architecture[\"negative_slope\"],\n",
    "    output_activation_type=existing_model_architecture[\"output_activation_type\"],\n",
    ").to(device)\n",
    "\n",
    "# Load best model\n",
    "checkpoint = torch.load(existing_model_path)\n",
    "autoencoder.load_state_dict(checkpoint[\"model_state_dict\"])\n",
    "\n",
    "autoencoder.eval()"
   ]
  },
  {
   "cell_type": "code",
   "execution_count": null,
   "metadata": {},
   "outputs": [],
   "source": [
    "def export_encoder_to_onnx(model, input_dim, file_path):\n",
    "    model.eval()\n",
    "    # Create dummy input tensor for ONNX export\n",
    "    dummy_input = torch.randn(1, input_dim, device=device)\n",
    "\n",
    "    # Create a wrapper class that only calls the encode method\n",
    "    class EncoderOnly(torch.nn.Module):\n",
    "        def __init__(self, autoencoder):\n",
    "            super(EncoderOnly, self).__init__()\n",
    "            self.autoencoder = autoencoder\n",
    "\n",
    "        def forward(self, x):\n",
    "            return self.autoencoder.encode(x)\n",
    "\n",
    "    encoder_only = EncoderOnly(model)\n",
    "\n",
    "    # Export the encoder model\n",
    "    torch.onnx.export(\n",
    "        encoder_only,\n",
    "        dummy_input,\n",
    "        file_path,\n",
    "        export_params=True,\n",
    "        opset_version=17,\n",
    "        do_constant_folding=True,\n",
    "        input_names=[\"input\"],\n",
    "        output_names=[\"output\"],\n",
    "        dynamic_axes={\n",
    "            \"input\": {0: \"batch_size\"},\n",
    "            \"output\": {0: \"batch_size\"},\n",
    "        },\n",
    "    )\n",
    "    print(f\"Encoder model exported to ONNX: {file_path}\")"
   ]
  },
  {
   "cell_type": "code",
   "execution_count": null,
   "metadata": {},
   "outputs": [],
   "source": [
    "# Export just the encoder part\n",
    "import os\n",
    "\n",
    "os.makedirs(\"saved_models/onnx\", exist_ok=True)\n",
    "\n",
    "\n",
    "encoder_onnx_path = \"saved_models/onnx/autoencoder_encoder_cidds_001.onnx\"\n",
    "\n",
    "\n",
    "export_encoder_to_onnx(\n",
    "    autoencoder, existing_model_architecture[\"input_dim\"], encoder_onnx_path\n",
    ")"
   ]
  },
  {
   "cell_type": "code",
   "execution_count": null,
   "metadata": {},
   "outputs": [],
   "source": [
    "# Function to export model to ONNX format\n",
    "def export_to_onnx(model, input_dim, file_path):\n",
    "    model.eval()\n",
    "    # Create dummy input tensor for ONNX export\n",
    "    dummy_input = torch.randn(1, input_dim, device=device)\n",
    "\n",
    "    # Export the model\n",
    "    torch.onnx.export(\n",
    "        model,  # model being run\n",
    "        dummy_input,  # model input (or a tuple for multiple inputs)\n",
    "        file_path,  # where to save the model\n",
    "        export_params=True,  # store the trained parameter weights inside the model file\n",
    "        opset_version=17,  # the ONNX version to export the model to\n",
    "        do_constant_folding=True,  # whether to execute constant folding for optimization\n",
    "        input_names=[\"input\"],  # the model's input names\n",
    "        output_names=[\"output\"],  # the model's output names\n",
    "        dynamic_axes={\n",
    "            \"input\": {0: \"batch_size\"},  # variable length axes\n",
    "            \"output\": {0: \"batch_size\"},\n",
    "        },\n",
    "    )\n",
    "    print(f\"Model exported to ONNX: {file_path}\")"
   ]
  },
  {
   "cell_type": "code",
   "execution_count": null,
   "metadata": {},
   "outputs": [],
   "source": [
    "onnx_path = \"saved_models/onnx/autoencoder_cidds_001.onnx\"\n",
    "export_to_onnx(autoencoder, existing_model_architecture[\"input_dim\"], onnx_path)"
   ]
  },
  {
   "cell_type": "markdown",
   "metadata": {},
   "source": [
    "# Training"
   ]
  },
  {
   "cell_type": "code",
   "execution_count": null,
   "metadata": {},
   "outputs": [],
   "source": [
    "import pandas as pd\n",
    "\n",
    "train_dataset = pd.read_csv(train_set_path)\n",
    "train_dataset = train_dataset.sample(\n",
    "    frac=train_set_sample, random_state=42\n",
    ").reset_index(drop=True)\n",
    "\n",
    "print(f\"train set count: {train_dataset.shape[0]:,}\")\n",
    "train_dataset.head(3)"
   ]
  },
  {
   "cell_type": "code",
   "execution_count": null,
   "metadata": {},
   "outputs": [],
   "source": [
    "X_train = train_dataset.drop(columns=[\"attack_binary\", \"attack_categorical\"]).values\n",
    "X_train_encoded = extract_encoded_features(X_train, autoencoder, device)\n",
    "y_train = train_dataset[\"attack_categorical\"].values\n",
    "\n",
    "print(X_train.shape, X_train_encoded.shape)"
   ]
  },
  {
   "cell_type": "code",
   "execution_count": null,
   "metadata": {},
   "outputs": [],
   "source": [
    "from sklearn.svm import OneClassSVM\n",
    "import time\n",
    "\n",
    "ocsvm = OneClassSVM(kernel=\"rbf\", gamma=gamma, nu=nu, verbose=True)\n",
    "\n",
    "# Start timer\n",
    "start_time = time.time()\n",
    "\n",
    "# Train the model on the normal data sample\n",
    "ocsvm.fit(X_train_encoded)\n",
    "\n",
    "# End timer\n",
    "end_time = time.time()"
   ]
  },
  {
   "cell_type": "code",
   "execution_count": null,
   "metadata": {},
   "outputs": [],
   "source": [
    "# Calculate and print training time\n",
    "training_time = end_time - start_time\n",
    "print(f\"Training time: {training_time:.6f} seconds\")"
   ]
  },
  {
   "cell_type": "markdown",
   "metadata": {},
   "source": [
    "# Testing"
   ]
  },
  {
   "cell_type": "markdown",
   "metadata": {},
   "source": [
    "Preparing test set"
   ]
  },
  {
   "cell_type": "code",
   "execution_count": null,
   "metadata": {},
   "outputs": [],
   "source": [
    "test_set = pd.read_csv(test_set_path)\n",
    "print(f\"test set count: {test_set.shape[0]:,}\")"
   ]
  },
  {
   "cell_type": "code",
   "execution_count": null,
   "metadata": {},
   "outputs": [],
   "source": [
    "from sklearn.model_selection import train_test_split\n",
    "\n",
    "test_df, val_df = train_test_split(\n",
    "    test_set,\n",
    "    test_size=0.5,\n",
    "    random_state=42,\n",
    "    stratify=test_set[\"attack_categorical\"],\n",
    ")"
   ]
  },
  {
   "cell_type": "code",
   "execution_count": null,
   "metadata": {},
   "outputs": [],
   "source": [
    "from imblearn.over_sampling import SMOTE\n",
    "\n",
    "if use_val_set:\n",
    "    test_df = val_df"
   ]
  },
  {
   "cell_type": "code",
   "execution_count": null,
   "metadata": {},
   "outputs": [],
   "source": [
    "print(\"Test Set:\", test_df.shape)"
   ]
  },
  {
   "cell_type": "code",
   "execution_count": null,
   "metadata": {},
   "outputs": [],
   "source": [
    "# Export test_df to a CSV file\n",
    "output_path = \"testing_dataset/simulation_test_set.csv\"\n",
    "\n",
    "os.makedirs(os.path.dirname(output_path), exist_ok=True)\n",
    "\n",
    "\n",
    "test_df.to_csv(output_path, index=False)\n",
    "\n",
    "\n",
    "\n",
    "print(f\"Test data exported to: {output_path}\")"
   ]
  },
  {
   "cell_type": "code",
   "execution_count": null,
   "metadata": {},
   "outputs": [],
   "source": [
    "# Splitting into X and y\n",
    "X_test = test_df.drop(columns=[\"attack_binary\", \"attack_categorical\"]).values\n",
    "y_test = test_df[\"attack_binary\"].values\n",
    "y_test_class = test_df[\"attack_categorical\"].values\n",
    "\n",
    "if use_val_set:\n",
    "    print(\"Using validation set for testing.\")\n",
    "    sampling_strategy = {\n",
    "        \"dos\": 4000,\n",
    "        \"portScan\": 4000,\n",
    "        \"bruteForce\": 4000,\n",
    "        \"pingScan\": 4000,\n",
    "    }\n",
    "    smote = SMOTE(random_state=42, k_neighbors=3, sampling_strategy=sampling_strategy)\n",
    "    X_test, y_test_class = smote.fit_resample(X_test, y_test_class)\n",
    "    y_test = np.where(y_test_class == \"benign\", 1, -1)\n",
    "\n",
    "X_test_encoded = extract_encoded_features(X_test, autoencoder, device)\n",
    "\n",
    "print(f\"test set count: {X_test.shape[0]:,}\")\n",
    "print(f\"unique values: {pd.Series(y_test_class).value_counts()}\")\n",
    "test_df.head(3)"
   ]
  },
  {
   "cell_type": "markdown",
   "metadata": {},
   "source": [
    "Perform prediction"
   ]
  },
  {
   "cell_type": "code",
   "execution_count": null,
   "metadata": {},
   "outputs": [],
   "source": [
    "# Start timer\n",
    "start_time = time.time()\n",
    "\n",
    "y_pred = ocsvm.predict(X_test_encoded)\n",
    "\n",
    "# End timer\n",
    "end_time = time.time()"
   ]
  },
  {
   "cell_type": "code",
   "execution_count": null,
   "metadata": {},
   "outputs": [],
   "source": [
    "# Calculate and print training time\n",
    "predict_time = end_time - start_time\n",
    "print(f\"Inference time: {predict_time:.6f} seconds\")"
   ]
  },
  {
   "cell_type": "code",
   "execution_count": null,
   "metadata": {},
   "outputs": [],
   "source": [
    "from skl2onnx import convert_sklearn\n",
    "from skl2onnx.common.data_types import FloatTensorType\n",
    "import onnx\n",
    "\n",
    "# Define the input dimensions\n",
    "# For your autoencoder latent space, this would be 9 based on your notebook\n",
    "feature_count = X_train_encoded.shape[1]  # Which is 9 in your case\n",
    "\n",
    "# Define the initial types for the model inputs\n",
    "initial_types = [(\"float_input\", FloatTensorType([None, feature_count]))]\n",
    "\n",
    "# Convert the sklearn model to ONNX\n",
    "onnx_model = convert_sklearn(ocsvm, initial_types=initial_types, target_opset=15)\n",
    "\n",
    "# Save the model\n",
    "base_ocsvm_onnx_path = \"saved_models/onnx/base_ocsvm_cidds_001.onnx\"\n",
    "onnx.save_model(onnx_model, base_ocsvm_onnx_path)\n",
    "print(f\"OCSVM model exported to ONNX: {base_ocsvm_onnx_path}\")"
   ]
  },
  {
   "cell_type": "code",
   "execution_count": null,
   "metadata": {},
   "outputs": [],
   "source": [
    "import onnxruntime as rt\n",
    "import numpy as np\n",
    "\n",
    "# Create an ONNX Runtime session\n",
    "session = rt.InferenceSession(base_ocsvm_onnx_path)\n",
    "\n",
    "# Prepare some test data\n",
    "# test_data = X_test_encoded[:5]  # Take a few samples for testing\n",
    "test_data = X_test_encoded[:5]  # Take a few samples for testing\n",
    "input_name = session.get_inputs()[0].name\n",
    "output_name = session.get_outputs()[0].name\n",
    "\n",
    "# Run inference\n",
    "test_pred_onnx = session.run(\n",
    "    [output_name], {input_name: X_test_encoded.astype(np.float32)}\n",
    ")[0]\n",
    "\n",
    "# If output is not -1/1, remap:\n",
    "if set(np.unique(test_pred_onnx)).issubset({0, 1}):\n",
    "    # Map 0 -> -1 (anomaly), 1 -> 1 (normal)\n",
    "    test_pred_onnx = np.where(test_pred_onnx == 0, -1, 1)\n",
    "elif test_pred_onnx.ndim > 1 and test_pred_onnx.shape[1] == 1:\n",
    "    # Flatten if needed\n",
    "    test_pred_onnx = test_pred_onnx.ravel()\n",
    "\n",
    "# Compare with original model predictions\n",
    "test_pred_sklearn = y_pred"
   ]
  },
  {
   "cell_type": "code",
   "execution_count": null,
   "metadata": {},
   "outputs": [],
   "source": [
    "import seaborn as sns\n",
    "import matplotlib.pyplot as plt\n",
    "from sklearn.metrics import confusion_matrix\n",
    "\n",
    "cm = confusion_matrix(y_test, test_pred_onnx, labels=[-1, 1])\n",
    "\n",
    "\n",
    "def plot_confusion_matrix(cm, labels, title):\n",
    "    plt.figure(figsize=(5, 4))\n",
    "    sns.heatmap(\n",
    "        cm, annot=True, fmt=\"d\", cmap=\"Blues\", xticklabels=labels, yticklabels=labels\n",
    "    )\n",
    "    plt.xlabel(\"Predicted Label\")\n",
    "    plt.ylabel(\"Actual Label\")\n",
    "    plt.title(title)\n",
    "    plt.show()\n",
    "\n",
    "\n",
    "print(\"Confusion Matrix of ONNX OCSVM Predictions\")\n",
    "plot_confusion_matrix(cm, [\"Anomaly\", \"Normal\"], \"Confusion Matrix (Anomaly vs Normal)\")"
   ]
  },
  {
   "cell_type": "code",
   "execution_count": null,
   "metadata": {},
   "outputs": [],
   "source": [
    "import seaborn as sns\n",
    "import matplotlib.pyplot as plt\n",
    "from sklearn.metrics import confusion_matrix\n",
    "\n",
    "cm = confusion_matrix(y_test, test_pred_sklearn, labels=[-1, 1])\n",
    "\n",
    "\n",
    "def plot_confusion_matrix(cm, labels, title):\n",
    "    plt.figure(figsize=(5, 4))\n",
    "    sns.heatmap(\n",
    "        cm, annot=True, fmt=\"d\", cmap=\"Blues\", xticklabels=labels, yticklabels=labels\n",
    "    )\n",
    "    plt.xlabel(\"Predicted Label\")\n",
    "    plt.ylabel(\"Actual Label\")\n",
    "    plt.title(title)\n",
    "    plt.show()\n",
    "\n",
    "\n",
    "print(\"Confusion Matrix of SKLearn OCSVM Predictions\")\n",
    "plot_confusion_matrix(cm, [\"Anomaly\", \"Normal\"], \"Confusion Matrix (Anomaly vs Normal)\")"
   ]
  },
  {
   "cell_type": "code",
   "execution_count": null,
   "metadata": {},
   "outputs": [],
   "source": [
    "from sklearn.metrics import (\n",
    "    classification_report,\n",
    "    precision_score,\n",
    "    recall_score,\n",
    "    f1_score,\n",
    "    accuracy_score,\n",
    ")\n",
    "\n",
    "print(\"Classification Report ONNX:\")\n",
    "print(classification_report(y_test, test_pred_onnx, target_names=[\"Anomaly\", \"Normal\"]))\n",
    "\n",
    "precision = precision_score(y_test, y_pred, pos_label=-1)\n",
    "recall = recall_score(y_test, y_pred, pos_label=-1)\n",
    "f1 = f1_score(y_test, y_pred, pos_label=-1)\n",
    "\n",
    "print(f\"Precision: {precision * 100:.2f}%\")\n",
    "print(f\"Recall: {recall * 100:.2f}%\")\n",
    "print(f\"F1 Score: {f1 * 100:.2f}%\")\n",
    "print(f\"Accuracy: {accuracy_score(y_test, y_pred) * 100:.2f}%\")"
   ]
  },
  {
   "cell_type": "code",
   "execution_count": null,
   "metadata": {},
   "outputs": [],
   "source": [
    "from sklearn.metrics import (\n",
    "    classification_report,\n",
    "    precision_score,\n",
    "    recall_score,\n",
    "    f1_score,\n",
    "    accuracy_score,\n",
    ")\n",
    "\n",
    "print(\"Classification Report SKLEARN:\")\n",
    "print(classification_report(y_test, test_pred_sklearn, target_names=[\"Anomaly\", \"Normal\"]))\n",
    "\n",
    "precision = precision_score(y_test, y_pred, pos_label=-1)\n",
    "recall = recall_score(y_test, y_pred, pos_label=-1)\n",
    "f1 = f1_score(y_test, y_pred, pos_label=-1)\n",
    "\n",
    "print(f\"Precision: {precision * 100:.2f}%\")\n",
    "print(f\"Recall: {recall * 100:.2f}%\")\n",
    "print(f\"F1 Score: {f1 * 100:.2f}%\")\n",
    "print(f\"Accuracy: {accuracy_score(y_test, y_pred) * 100:.2f}%\")"
   ]
  },
  {
   "cell_type": "code",
   "execution_count": null,
   "metadata": {},
   "outputs": [],
   "source": [
    "import numpy as np\n",
    "\n",
    "\n",
    "def create_multiclass_cm(y_true_class, y_pred_binary):\n",
    "    \"\"\"\n",
    "    Create a confusion matrix showing how each attack class was classified.\n",
    "\n",
    "    For attack classes (DoS, Probe, R2L, U2R), correct detection is when y_pred = -1 (anomaly)\n",
    "    For normal class, correct detection is when y_pred = 1 (normal)\n",
    "    \"\"\"\n",
    "    classes = np.unique(y_true_class)\n",
    "    cm = np.zeros((len(classes), 2))\n",
    "\n",
    "    for i, cls in enumerate(classes):\n",
    "        # Get predictions for this class\n",
    "        cls_indices = y_true_class == cls\n",
    "        preds = y_pred_binary[cls_indices]\n",
    "\n",
    "        # Count correct and incorrect predictions\n",
    "        if cls == \"normal\":\n",
    "            cm[i, 0] = np.sum(preds == -1)  # incorrectly detected as anomaly\n",
    "            cm[i, 1] = np.sum(preds == 1)  # correctly detected as normal\n",
    "        else:\n",
    "            cm[i, 0] = np.sum(preds == -1)  # correctly detected as anomaly\n",
    "            cm[i, 1] = np.sum(preds == 1)  # incorrectly detected as normal\n",
    "\n",
    "    return cm, classes\n",
    "\n",
    "\n",
    "# Create and plot the multi-class confusion matrix\n",
    "cm_multi, classes = create_multiclass_cm(y_test_class, y_pred)\n",
    "\n",
    "plt.figure(figsize=(10, 8))\n",
    "sns.heatmap(\n",
    "    cm_multi,\n",
    "    annot=True,\n",
    "    fmt=\"g\",\n",
    "    cmap=\"Blues\",\n",
    "    xticklabels=[\"Detected as Anomaly\", \"Detected as Normal\"],\n",
    "    yticklabels=classes,\n",
    ")\n",
    "plt.ylabel(\"True Attack Class\")\n",
    "plt.title(\"Confusion Matrix by Attack Class\")\n",
    "plt.tight_layout()\n",
    "plt.show()"
   ]
  },
  {
   "cell_type": "code",
   "execution_count": null,
   "metadata": {},
   "outputs": [],
   "source": [
    "# Calculate detection rates for each class\n",
    "print(\"Detection rates by class:\")\n",
    "class_metrics = {}\n",
    "for cls in np.unique(y_test_class):\n",
    "    # Get indices for this class\n",
    "    class_indices = y_test_class == cls\n",
    "\n",
    "    # True values and predictions for this class\n",
    "    y_true_cls = y_test[class_indices]\n",
    "    y_pred_cls = y_pred[class_indices]\n",
    "\n",
    "    # Calculate metrics\n",
    "    if cls == \"Normal\":\n",
    "        # For normal class, we want to detect 1 (normal)\n",
    "        correct = np.sum((y_pred_cls == 1))\n",
    "        precision = precision_score(\n",
    "            y_true_cls, y_pred_cls, pos_label=1, zero_division=0\n",
    "        )\n",
    "        recall = recall_score(y_true_cls, y_pred_cls, pos_label=1, zero_division=0)\n",
    "    else:\n",
    "        # For attack classes, we want to detect -1 (anomaly)\n",
    "        correct = np.sum((y_pred_cls == -1))\n",
    "        precision = precision_score(\n",
    "            y_true_cls, y_pred_cls, pos_label=-1, zero_division=0\n",
    "        )\n",
    "        recall = recall_score(y_true_cls, y_pred_cls, pos_label=-1, zero_division=0)\n",
    "\n",
    "    total = len(y_pred_cls)\n",
    "    detection_rate = correct / total\n",
    "    f1 = f1_score(\n",
    "        y_true_cls, y_pred_cls, pos_label=-1 if cls != \"Normal\" else 1, zero_division=0\n",
    "    )\n",
    "\n",
    "    class_metrics[cls] = {\n",
    "        \"detection_rate\": detection_rate,\n",
    "        \"precision\": precision,\n",
    "        \"recall\": recall,\n",
    "        \"f1_score\": f1,\n",
    "        \"count\": total,\n",
    "        \"correctly_detected\": correct,\n",
    "    }\n",
    "\n",
    "    print(f\"{cls}: {detection_rate:.4f} ({correct}/{total})\")"
   ]
  }
 ],
 "metadata": {
  "kernelspec": {
   "display_name": "venv",
   "language": "python",
   "name": "python3"
  },
  "language_info": {
   "codemirror_mode": {
    "name": "ipython",
    "version": 3
   },
   "file_extension": ".py",
   "mimetype": "text/x-python",
   "name": "python",
   "nbconvert_exporter": "python",
   "pygments_lexer": "ipython3",
   "version": "3.12.3"
  }
 },
 "nbformat": 4,
 "nbformat_minor": 2
}
