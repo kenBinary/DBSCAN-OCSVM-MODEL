{
 "cells": [
  {
   "cell_type": "code",
   "execution_count": null,
   "metadata": {},
   "outputs": [],
   "source": [
    "import torch\n",
    "\n",
    "sample_size = 0.3  # Original is 0.3\n",
    "\n",
    "use_val_set = False\n",
    "\n",
    "device = \"cuda\" if torch.cuda.is_available() else \"cpu\"\n",
    "onnx_path = \"autoencoder.onnx\"\n",
    "\n",
    "trained_model_path = \"../../../autoencoder/autoencoder.pth\"\n",
    "\n",
    "existing_model_architecture = {\n",
    "    \"input_dim\": 15,\n",
    "    \"hidden_dims\": [13, 11],\n",
    "    \"latent_dim\": 9,\n",
    "    \"activation_type\": \"ReLU\",\n",
    "    \"negative_slope\": 1,\n",
    "    \"output_activation_type\": \"Sigmoid\",\n",
    "}\n",
    "\n",
    "train_set_path = \"../../../datasets/train_set.csv\"\n",
    "test_set_path = \"../../../datasets/test_set.csv\""
   ]
  },
  {
   "cell_type": "code",
   "execution_count": 2,
   "metadata": {},
   "outputs": [],
   "source": [
    "dbscan_parameters = {\n",
    "    \"eps\": 0.103615594461271,\n",
    "    \"min_samples\": 12,\n",
    "    \"distance_metric\": \"manhattan\",\n",
    "    \"score\": 0.961629569530487,\n",
    "}\n",
    "\n",
    "tree_alogrithm_parameter = \"ball_tree\"\n",
    "\n",
    "dbocsvm_parameter_list = {\n",
    "    0: {\"kernel\": \"rbf\", \"gamma\": 0.9953872263076934, \"nu\": 0.45174021431898825},\n",
    "    1: {\"kernel\": \"rbf\", \"gamma\": 0.4393193624570486, \"nu\": 0.061463139892629075},\n",
    "    2: {\"kernel\": \"rbf\", \"gamma\": 0.5516811847699685, \"nu\": 0.02075979638179337},\n",
    "    3: {\"kernel\": \"rbf\", \"gamma\": 0.6870644343013828, \"nu\": 0.15551475411368967},\n",
    "    4: {\"kernel\": \"rbf\", \"gamma\": 0.5818128997730962, \"nu\": 0.3262387446702137},\n",
    "    5: {\"kernel\": \"rbf\", \"gamma\": 0.0001302592349372196, \"nu\": 0.43530445271206786},\n",
    "    6: {\"kernel\": \"rbf\", \"gamma\": 0.5115592226353691, \"nu\": 0.3638097358322278},\n",
    "    7: {\"kernel\": \"rbf\", \"gamma\": 0.4237672306259186, \"nu\": 0.0328360236321898},\n",
    "    8: {\"kernel\": \"rbf\", \"gamma\": 0.12201112468927489, \"nu\": 0.35169805867789355},\n",
    "    9: {\"kernel\": \"rbf\", \"gamma\": 0.9919163894561822, \"nu\": 0.2642750371347232},\n",
    "    10: {\"kernel\": \"rbf\", \"gamma\": 0.5530889245549419, \"nu\": 0.34532949607450164},\n",
    "    11: {\"kernel\": \"rbf\", \"gamma\": 0.9494341933951694, \"nu\": 0.13308739503816708},\n",
    "    12: {\"kernel\": \"rbf\", \"gamma\": 0.8348880228391921, \"nu\": 0.17633925484334115},\n",
    "    13: {\"kernel\": \"rbf\", \"gamma\": 0.0012177918247914532, \"nu\": 0.27262852147217526},\n",
    "    14: {\"kernel\": \"rbf\", \"gamma\": 0.3601942487696086, \"nu\": 0.171549003721742},\n",
    "    15: {\"kernel\": \"rbf\", \"gamma\": 0.030671303251142708, \"nu\": 0.4042294965783453},\n",
    "    16: {\"kernel\": \"rbf\", \"gamma\": 0.9499018027446345, \"nu\": 0.34908748578494675},\n",
    "    17: {\"kernel\": \"rbf\", \"gamma\": 0.7417158150634153, \"nu\": 0.03219010478240265},\n",
    "    18: {\"kernel\": \"rbf\", \"gamma\": 0.9276362880607424, \"nu\": 0.1336970758038835},\n",
    "    19: {\"kernel\": \"rbf\", \"gamma\": 0.5265848014172256, \"nu\": 0.3628180350864216},\n",
    "    20: {\"kernel\": \"rbf\", \"gamma\": 0.5342191718877597, \"nu\": 0.37574611945493985},\n",
    "    21: {\"kernel\": \"rbf\", \"gamma\": 0.5957445760227565, \"nu\": 0.060354964244621195},\n",
    "    22: {\"kernel\": \"rbf\", \"gamma\": 0.4812093473112323, \"nu\": 0.02801851633132623},\n",
    "    23: {\"kernel\": \"rbf\", \"gamma\": 0.8636653347391009, \"nu\": 0.10896764550294757},\n",
    "    24: {\"kernel\": \"rbf\", \"gamma\": 0.9395511865093198, \"nu\": 0.1630967391717133},\n",
    "    25: {\"kernel\": \"rbf\", \"gamma\": 0.6774614702559713, \"nu\": 0.1186885072722749},\n",
    "    26: {\"kernel\": \"rbf\", \"gamma\": 0.8891743983146955, \"nu\": 0.05979443189839137},\n",
    "    27: {\"kernel\": \"rbf\", \"gamma\": 0.9744371313583867, \"nu\": 0.23861873546528262},\n",
    "    28: {\"kernel\": \"rbf\", \"gamma\": 0.5311912023101605, \"nu\": 0.16769884188079098},\n",
    "}"
   ]
  },
  {
   "cell_type": "markdown",
   "metadata": {},
   "source": [
    "load trained autoencoder"
   ]
  },
  {
   "cell_type": "code",
   "execution_count": 3,
   "metadata": {},
   "outputs": [],
   "source": [
    "from autoencoder import BatchNormAutoencoder\n",
    "\n",
    "autoencoder = BatchNormAutoencoder(\n",
    "    input_dim=existing_model_architecture[\"input_dim\"],\n",
    "    hidden_dims=existing_model_architecture[\"hidden_dims\"],\n",
    "    latent_dim=existing_model_architecture[\"latent_dim\"],\n",
    "    activation_type=existing_model_architecture[\"activation_type\"],\n",
    "    negative_slope=existing_model_architecture[\"negative_slope\"],\n",
    "    output_activation_type=existing_model_architecture[\"output_activation_type\"],\n",
    ")"
   ]
  },
  {
   "cell_type": "code",
   "execution_count": 4,
   "metadata": {},
   "outputs": [
    {
     "data": {
      "text/plain": [
       "BatchNormAutoencoder(\n",
       "  (encoder): Sequential(\n",
       "    (0): Linear(in_features=15, out_features=13, bias=True)\n",
       "    (1): BatchNorm1d(13, eps=1e-05, momentum=0.1, affine=True, track_running_stats=True)\n",
       "    (2): ReLU()\n",
       "    (3): Linear(in_features=13, out_features=11, bias=True)\n",
       "    (4): BatchNorm1d(11, eps=1e-05, momentum=0.1, affine=True, track_running_stats=True)\n",
       "    (5): ReLU()\n",
       "    (6): Linear(in_features=11, out_features=9, bias=True)\n",
       "  )\n",
       "  (decoder): Sequential(\n",
       "    (0): Linear(in_features=9, out_features=11, bias=True)\n",
       "    (1): BatchNorm1d(11, eps=1e-05, momentum=0.1, affine=True, track_running_stats=True)\n",
       "    (2): ReLU()\n",
       "    (3): Linear(in_features=11, out_features=13, bias=True)\n",
       "    (4): BatchNorm1d(13, eps=1e-05, momentum=0.1, affine=True, track_running_stats=True)\n",
       "    (5): ReLU()\n",
       "    (6): Linear(in_features=13, out_features=15, bias=True)\n",
       "    (7): Sigmoid()\n",
       "  )\n",
       ")"
      ]
     },
     "execution_count": 4,
     "metadata": {},
     "output_type": "execute_result"
    }
   ],
   "source": [
    "# Load best model\n",
    "checkpoint = torch.load(trained_model_path)\n",
    "autoencoder.load_state_dict(checkpoint[\"model_state_dict\"])\n",
    "\n",
    "autoencoder.eval()"
   ]
  },
  {
   "cell_type": "code",
   "execution_count": 5,
   "metadata": {},
   "outputs": [],
   "source": [
    "# Function to export model to ONNX format\n",
    "def export_to_onnx(model, input_dim, file_path):\n",
    "    model.eval()\n",
    "    # Create dummy input tensor for ONNX export\n",
    "    dummy_input = torch.randn(1, input_dim, device=device)\n",
    "\n",
    "    # Export the model\n",
    "    torch.onnx.export(\n",
    "        model,  # model being run\n",
    "        dummy_input,  # model input (or a tuple for multiple inputs)\n",
    "        file_path,  # where to save the model\n",
    "        export_params=True,  # store the trained parameter weights inside the model file\n",
    "        opset_version=17,  # the ONNX version to export the model to\n",
    "        do_constant_folding=True,  # whether to execute constant folding for optimization\n",
    "        input_names=[\"input\"],  # the model's input names\n",
    "        output_names=[\"output\"],  # the model's output names\n",
    "        dynamic_axes={\n",
    "            \"input\": {0: \"batch_size\"},  # variable length axes\n",
    "            \"output\": {0: \"batch_size\"},\n",
    "        },\n",
    "    )\n",
    "    print(f\"Model exported to ONNX: {file_path}\")"
   ]
  },
  {
   "cell_type": "code",
   "execution_count": 6,
   "metadata": {},
   "outputs": [
    {
     "name": "stdout",
     "output_type": "stream",
     "text": [
      "Model exported to ONNX: saved_models/onnx/autoencoder_proposed_cidds_001.onnx\n"
     ]
    }
   ],
   "source": [
    "import os\n",
    "\n",
    "os.makedirs(\"saved_models/onnx\", exist_ok=True)\n",
    "\n",
    "onnx_path = \"saved_models/onnx/autoencoder_proposed_cidds_001.onnx\"\n",
    "\n",
    "export_to_onnx(autoencoder, existing_model_architecture[\"input_dim\"], onnx_path)"
   ]
  },
  {
   "cell_type": "code",
   "execution_count": 7,
   "metadata": {},
   "outputs": [],
   "source": [
    "def export_encoder_to_onnx(model, input_dim, file_path):\n",
    "    model.eval()\n",
    "    # Create dummy input tensor for ONNX export\n",
    "    dummy_input = torch.randn(1, input_dim, device=device)\n",
    "\n",
    "    # Create a wrapper class that only calls the encode method\n",
    "    class EncoderOnly(torch.nn.Module):\n",
    "        def __init__(self, autoencoder):\n",
    "            super(EncoderOnly, self).__init__()\n",
    "            self.autoencoder = autoencoder\n",
    "\n",
    "        def forward(self, x):\n",
    "            return self.autoencoder.encode(x)\n",
    "\n",
    "    encoder_only = EncoderOnly(model)\n",
    "\n",
    "    # Export the encoder model\n",
    "    torch.onnx.export(\n",
    "        encoder_only,\n",
    "        dummy_input,\n",
    "        file_path,\n",
    "        export_params=True,\n",
    "        opset_version=17,\n",
    "        do_constant_folding=True,\n",
    "        input_names=[\"input\"],\n",
    "        output_names=[\"output\"],\n",
    "        dynamic_axes={\n",
    "            \"input\": {0: \"batch_size\"},\n",
    "            \"output\": {0: \"batch_size\"},\n",
    "        },\n",
    "    )\n",
    "    print(f\"Encoder model exported to ONNX: {file_path}\")"
   ]
  },
  {
   "cell_type": "code",
   "execution_count": 8,
   "metadata": {},
   "outputs": [
    {
     "name": "stdout",
     "output_type": "stream",
     "text": [
      "Encoder model exported to ONNX: saved_models/onnx/autoencoder_encoder_cidds_001.onnx\n"
     ]
    }
   ],
   "source": [
    "# Export just the encoder part\n",
    "encoder_onnx_path = \"saved_models/onnx/autoencoder_encoder_cidds_001.onnx\"\n",
    "export_encoder_to_onnx(\n",
    "    autoencoder, existing_model_architecture[\"input_dim\"], encoder_onnx_path\n",
    ")"
   ]
  },
  {
   "cell_type": "code",
   "execution_count": 9,
   "metadata": {},
   "outputs": [
    {
     "name": "stdout",
     "output_type": "stream",
     "text": [
      "(54000, 17)\n"
     ]
    },
    {
     "data": {
      "text/html": [
       "<div>\n",
       "<style scoped>\n",
       "    .dataframe tbody tr th:only-of-type {\n",
       "        vertical-align: middle;\n",
       "    }\n",
       "\n",
       "    .dataframe tbody tr th {\n",
       "        vertical-align: top;\n",
       "    }\n",
       "\n",
       "    .dataframe thead th {\n",
       "        text-align: right;\n",
       "    }\n",
       "</style>\n",
       "<table border=\"1\" class=\"dataframe\">\n",
       "  <thead>\n",
       "    <tr style=\"text-align: right;\">\n",
       "      <th></th>\n",
       "      <th>duration</th>\n",
       "      <th>packets</th>\n",
       "      <th>bytes</th>\n",
       "      <th>flows</th>\n",
       "      <th>tcp_urg</th>\n",
       "      <th>tcp_ack</th>\n",
       "      <th>tcp_psh</th>\n",
       "      <th>tcp_rst</th>\n",
       "      <th>tcp_syn</th>\n",
       "      <th>tcp_fin</th>\n",
       "      <th>tos</th>\n",
       "      <th>proto_ICMP</th>\n",
       "      <th>proto_IGMP</th>\n",
       "      <th>proto_TCP</th>\n",
       "      <th>proto_UDP</th>\n",
       "      <th>attack_binary</th>\n",
       "      <th>attack_categorical</th>\n",
       "    </tr>\n",
       "  </thead>\n",
       "  <tbody>\n",
       "    <tr>\n",
       "      <th>0</th>\n",
       "      <td>0.001965</td>\n",
       "      <td>0.000032</td>\n",
       "      <td>0.000007</td>\n",
       "      <td>0.0</td>\n",
       "      <td>0.0</td>\n",
       "      <td>1.0</td>\n",
       "      <td>1.0</td>\n",
       "      <td>0.0</td>\n",
       "      <td>1.0</td>\n",
       "      <td>0.0</td>\n",
       "      <td>0.0</td>\n",
       "      <td>0.0</td>\n",
       "      <td>0.0</td>\n",
       "      <td>1.0</td>\n",
       "      <td>0.0</td>\n",
       "      <td>1</td>\n",
       "      <td>benign</td>\n",
       "    </tr>\n",
       "  </tbody>\n",
       "</table>\n",
       "</div>"
      ],
      "text/plain": [
       "   duration   packets     bytes  flows  tcp_urg  tcp_ack  tcp_psh  tcp_rst  \\\n",
       "0  0.001965  0.000032  0.000007    0.0      0.0      1.0      1.0      0.0   \n",
       "\n",
       "   tcp_syn  tcp_fin  tos  proto_ICMP   proto_IGMP   proto_TCP    proto_UDP    \\\n",
       "0      1.0      0.0  0.0          0.0          0.0          1.0          0.0   \n",
       "\n",
       "   attack_binary attack_categorical  \n",
       "0              1             benign  "
      ]
     },
     "execution_count": 9,
     "metadata": {},
     "output_type": "execute_result"
    }
   ],
   "source": [
    "import pandas as pd\n",
    "\n",
    "train_df = pd.read_csv(train_set_path)\n",
    "\n",
    "train_df = train_df.sample(frac=sample_size, random_state=42).reset_index(drop=True)\n",
    "\n",
    "print(train_df.shape)\n",
    "train_df.head(1)"
   ]
  },
  {
   "cell_type": "code",
   "execution_count": 10,
   "metadata": {},
   "outputs": [
    {
     "name": "stdout",
     "output_type": "stream",
     "text": [
      "(54000, 15)\n"
     ]
    }
   ],
   "source": [
    "X_train = train_df.drop(columns=[\"attack_binary\", \"attack_categorical\"]).values\n",
    "y_train = train_df[\"attack_binary\"].values\n",
    "\n",
    "print(X_train.shape)"
   ]
  },
  {
   "cell_type": "code",
   "execution_count": 11,
   "metadata": {},
   "outputs": [
    {
     "data": {
      "text/plain": [
       "BatchNormAutoencoder(\n",
       "  (encoder): Sequential(\n",
       "    (0): Linear(in_features=15, out_features=13, bias=True)\n",
       "    (1): BatchNorm1d(13, eps=1e-05, momentum=0.1, affine=True, track_running_stats=True)\n",
       "    (2): ReLU()\n",
       "    (3): Linear(in_features=13, out_features=11, bias=True)\n",
       "    (4): BatchNorm1d(11, eps=1e-05, momentum=0.1, affine=True, track_running_stats=True)\n",
       "    (5): ReLU()\n",
       "    (6): Linear(in_features=11, out_features=9, bias=True)\n",
       "  )\n",
       "  (decoder): Sequential(\n",
       "    (0): Linear(in_features=9, out_features=11, bias=True)\n",
       "    (1): BatchNorm1d(11, eps=1e-05, momentum=0.1, affine=True, track_running_stats=True)\n",
       "    (2): ReLU()\n",
       "    (3): Linear(in_features=11, out_features=13, bias=True)\n",
       "    (4): BatchNorm1d(13, eps=1e-05, momentum=0.1, affine=True, track_running_stats=True)\n",
       "    (5): ReLU()\n",
       "    (6): Linear(in_features=13, out_features=15, bias=True)\n",
       "    (7): Sigmoid()\n",
       "  )\n",
       ")"
      ]
     },
     "execution_count": 11,
     "metadata": {},
     "output_type": "execute_result"
    }
   ],
   "source": [
    "autoencoder.eval()"
   ]
  },
  {
   "cell_type": "code",
   "execution_count": 12,
   "metadata": {},
   "outputs": [],
   "source": [
    "import torch\n",
    "from torch.utils.data import TensorDataset\n",
    "\n",
    "# Convert to PyTorch tensors\n",
    "X_train_tensor = torch.FloatTensor(X_train)\n",
    "\n",
    "# Create data loaders\n",
    "X_train_dataset = TensorDataset(X_train_tensor)\n",
    "\n",
    "input_dim = X_train.shape[1]"
   ]
  },
  {
   "cell_type": "markdown",
   "metadata": {},
   "source": [
    "Training the DBOCSVM"
   ]
  },
  {
   "cell_type": "code",
   "execution_count": 13,
   "metadata": {},
   "outputs": [],
   "source": [
    "from torch.utils.data import DataLoader\n",
    "import numpy as np\n",
    "\n",
    "# extract encoded features\n",
    "X_train_loader = DataLoader(X_train_dataset, batch_size=256)\n",
    "\n",
    "# Extract in batches to prevent memory issues\n",
    "X_train_full_encoded = []\n",
    "with torch.no_grad():\n",
    "    for data in X_train_loader:\n",
    "        data_x = data[0].to(device)\n",
    "        encoded = autoencoder.encode(data_x)\n",
    "        X_train_full_encoded.append(encoded.cpu().numpy())\n",
    "X_train_full_encoded = np.vstack(X_train_full_encoded)"
   ]
  },
  {
   "cell_type": "code",
   "execution_count": 14,
   "metadata": {},
   "outputs": [
    {
     "name": "stdout",
     "output_type": "stream",
     "text": [
      "eps = 0.103615594461271\n",
      "min_samples = 12\n",
      "metric = manhattan\n"
     ]
    }
   ],
   "source": [
    "print(f\"eps = {dbscan_parameters[\"eps\"]}\")\n",
    "print(f\"min_samples = {dbscan_parameters[\"min_samples\"]}\")\n",
    "print(f\"metric = {dbscan_parameters[\"distance_metric\"]}\")"
   ]
  },
  {
   "cell_type": "code",
   "execution_count": 15,
   "metadata": {},
   "outputs": [],
   "source": [
    "from db_ocsvm import DBOCSVM\n",
    "\n",
    "dbocsvm = DBOCSVM(\n",
    "    kernel=\"rbf\",\n",
    "    gamma=\"auto\",\n",
    "    nu=0.2,\n",
    "    eps=dbscan_parameters[\"eps\"],\n",
    "    min_samples=dbscan_parameters[\"min_samples\"],\n",
    "    dbscan_distance_metric=dbscan_parameters[\"distance_metric\"],\n",
    ")"
   ]
  },
  {
   "cell_type": "code",
   "execution_count": 16,
   "metadata": {},
   "outputs": [
    {
     "name": "stdout",
     "output_type": "stream",
     "text": [
      "Fitting DBSCAN...\n",
      "DBSCAN Fitted...\n",
      "Unique Clusters: [-1  0  1  2  3  4  5  6  7  8  9 10 11 12 13 14 15 16 17 18 19 20 21 22\n",
      " 23 24 25 26 27 28]\n",
      "Cluster Sizes: {-1: 283, 0: 15666, 1: 11398, 2: 10639, 3: 6686, 4: 858, 5: 3568, 6: 51, 7: 2269, 8: 85, 9: 478, 10: 87, 11: 85, 12: 693, 13: 158, 14: 129, 15: 158, 16: 34, 17: 24, 18: 201, 19: 28, 20: 161, 21: 17, 22: 79, 23: 31, 24: 31, 25: 34, 26: 31, 27: 14, 28: 24}\n"
     ]
    },
    {
     "data": {
      "text/plain": [
       "<db_ocsvm.DBOCSVM at 0x21dabba10a0>"
      ]
     },
     "execution_count": 16,
     "metadata": {},
     "output_type": "execute_result"
    }
   ],
   "source": [
    "import time\n",
    "\n",
    "# Start timer\n",
    "start_time = time.time()\n",
    "dbocsvm.fit_cluster(X_train_full_encoded, verbose=True)"
   ]
  },
  {
   "cell_type": "code",
   "execution_count": 17,
   "metadata": {},
   "outputs": [],
   "source": [
    "dbocsvm.fit_ocsvm(X_train_full_encoded, parameter_list=dbocsvm_parameter_list)\n",
    "\n",
    "# End timer\n",
    "end_time = time.time()"
   ]
  },
  {
   "cell_type": "code",
   "execution_count": 18,
   "metadata": {},
   "outputs": [
    {
     "name": "stdout",
     "output_type": "stream",
     "text": [
      "Training time: 54.869669 seconds\n"
     ]
    }
   ],
   "source": [
    "training_time = end_time - start_time\n",
    "print(f\"Training time: {training_time:.6f} seconds\")"
   ]
  },
  {
   "cell_type": "markdown",
   "metadata": {},
   "source": [
    "save model"
   ]
  },
  {
   "cell_type": "code",
   "execution_count": 19,
   "metadata": {},
   "outputs": [],
   "source": [
    "import joblib\n",
    "\n",
    "\n",
    "# To save your fitted model\n",
    "def save_dbocsvm_model(model, filename, compress=3):\n",
    "    \"\"\"\n",
    "    Save a fitted DBOCSVM model to disk\n",
    "\n",
    "    Parameters:\n",
    "    -----------\n",
    "    model : DBOCSVM\n",
    "        The fitted model to save\n",
    "    filename : str\n",
    "        Path where the model will be saved\n",
    "    compress : int, default=3\n",
    "        Compression level (0-9)\n",
    "    \"\"\"\n",
    "    joblib.dump(model, filename, compress=compress)\n",
    "\n",
    "\n",
    "# To load your model\n",
    "def load_dbocsvm_model(filename):\n",
    "    \"\"\"\n",
    "    Load a DBOCSVM model from disk\n",
    "\n",
    "    Parameters:\n",
    "    -----------\n",
    "    filename : str\n",
    "        Path to the saved model file\n",
    "\n",
    "    Returns:\n",
    "    --------\n",
    "    DBOCSVM\n",
    "        The loaded model\n",
    "    \"\"\"\n",
    "    return joblib.load(filename)\n",
    "\n",
    "\n",
    "# Save the model\n",
    "os.makedirs(\"saved_models/joblib\", exist_ok=True)\n",
    "model_path = \"saved_models/joblib/dbocsvm_cidds_001.joblib\"\n",
    "save_dbocsvm_model(dbocsvm, model_path)\n",
    "\n",
    "# Later, load the model\n",
    "loaded_model = load_dbocsvm_model(model_path)"
   ]
  },
  {
   "cell_type": "code",
   "execution_count": 20,
   "metadata": {},
   "outputs": [
    {
     "name": "stdout",
     "output_type": "stream",
     "text": [
      "(20000, 17)\n",
      "attack_categorical\n",
      "benign        11226\n",
      "dos            5564\n",
      "portScan       1730\n",
      "bruteForce      804\n",
      "pingScan        676\n",
      "Name: count, dtype: int64\n"
     ]
    }
   ],
   "source": [
    "test_df = pd.read_csv(test_set_path)\n",
    "print(test_df.shape)\n",
    "print(test_df[\"attack_categorical\"].value_counts())\n",
    "test_df.head(1)\n",
    "\n",
    "from sklearn.model_selection import train_test_split\n",
    "\n",
    "test_df, val_df = train_test_split(\n",
    "    test_df,\n",
    "    test_size=0.5,\n",
    "    random_state=42,\n",
    "    stratify=test_df[\"attack_categorical\"],\n",
    ")"
   ]
  },
  {
   "cell_type": "code",
   "execution_count": 21,
   "metadata": {},
   "outputs": [
    {
     "name": "stdout",
     "output_type": "stream",
     "text": [
      "Test Set: (10000, 17)\n"
     ]
    }
   ],
   "source": [
    "if use_val_set:\n",
    "    test_df = val_df\n",
    "\n",
    "print(\"Test Set:\", test_df.shape)"
   ]
  },
  {
   "cell_type": "code",
   "execution_count": 22,
   "metadata": {},
   "outputs": [],
   "source": [
    "# Splitting into X and y\n",
    "X_test = test_df.drop(columns=[\"attack_binary\", \"attack_categorical\"]).values\n",
    "y_test = test_df[\"attack_binary\"].values\n",
    "y_test_class = test_df[\"attack_categorical\"].values"
   ]
  },
  {
   "cell_type": "code",
   "execution_count": 23,
   "metadata": {},
   "outputs": [],
   "source": [
    "from imblearn.over_sampling import SMOTE\n",
    "\n",
    "if use_val_set:\n",
    "    print(\"Using validation set for testing.\")\n",
    "    sampling_strategy = {\n",
    "        \"dos\": 4000,\n",
    "        \"portScan\": 4000,\n",
    "        \"bruteForce\": 4000,\n",
    "        \"pingScan\": 4000,\n",
    "    }\n",
    "    smote = SMOTE(random_state=42, k_neighbors=3, sampling_strategy=sampling_strategy)\n",
    "    X_test, y_test_class = smote.fit_resample(X_test, y_test_class)\n",
    "    y_test = np.where(y_test_class == \"benign\", 1, -1)"
   ]
  },
  {
   "cell_type": "code",
   "execution_count": 24,
   "metadata": {},
   "outputs": [
    {
     "name": "stdout",
     "output_type": "stream",
     "text": [
      "test set count: 10,000\n",
      "unique values: attack_categorical\n",
      "benign        5613\n",
      "dos           2782\n",
      "portScan       865\n",
      "bruteForce     402\n",
      "pingScan       338\n",
      "Name: count, dtype: int64\n"
     ]
    },
    {
     "data": {
      "text/html": [
       "<div>\n",
       "<style scoped>\n",
       "    .dataframe tbody tr th:only-of-type {\n",
       "        vertical-align: middle;\n",
       "    }\n",
       "\n",
       "    .dataframe tbody tr th {\n",
       "        vertical-align: top;\n",
       "    }\n",
       "\n",
       "    .dataframe thead th {\n",
       "        text-align: right;\n",
       "    }\n",
       "</style>\n",
       "<table border=\"1\" class=\"dataframe\">\n",
       "  <thead>\n",
       "    <tr style=\"text-align: right;\">\n",
       "      <th></th>\n",
       "      <th>duration</th>\n",
       "      <th>packets</th>\n",
       "      <th>bytes</th>\n",
       "      <th>flows</th>\n",
       "      <th>tcp_urg</th>\n",
       "      <th>tcp_ack</th>\n",
       "      <th>tcp_psh</th>\n",
       "      <th>tcp_rst</th>\n",
       "      <th>tcp_syn</th>\n",
       "      <th>tcp_fin</th>\n",
       "      <th>tos</th>\n",
       "      <th>proto_ICMP</th>\n",
       "      <th>proto_IGMP</th>\n",
       "      <th>proto_TCP</th>\n",
       "      <th>proto_UDP</th>\n",
       "      <th>attack_binary</th>\n",
       "      <th>attack_categorical</th>\n",
       "    </tr>\n",
       "  </thead>\n",
       "  <tbody>\n",
       "    <tr>\n",
       "      <th>12406</th>\n",
       "      <td>0.000829</td>\n",
       "      <td>0.000075</td>\n",
       "      <td>4.657671e-06</td>\n",
       "      <td>0.0</td>\n",
       "      <td>0.0</td>\n",
       "      <td>1.0</td>\n",
       "      <td>1.0</td>\n",
       "      <td>0.0</td>\n",
       "      <td>1.0</td>\n",
       "      <td>0.0</td>\n",
       "      <td>0.0</td>\n",
       "      <td>0.0</td>\n",
       "      <td>0.0</td>\n",
       "      <td>1.0</td>\n",
       "      <td>0.0</td>\n",
       "      <td>-1</td>\n",
       "      <td>pingScan</td>\n",
       "    </tr>\n",
       "    <tr>\n",
       "      <th>15620</th>\n",
       "      <td>0.002278</td>\n",
       "      <td>0.000016</td>\n",
       "      <td>4.326256e-07</td>\n",
       "      <td>0.0</td>\n",
       "      <td>0.0</td>\n",
       "      <td>1.0</td>\n",
       "      <td>0.0</td>\n",
       "      <td>0.0</td>\n",
       "      <td>1.0</td>\n",
       "      <td>1.0</td>\n",
       "      <td>0.0</td>\n",
       "      <td>0.0</td>\n",
       "      <td>0.0</td>\n",
       "      <td>1.0</td>\n",
       "      <td>0.0</td>\n",
       "      <td>-1</td>\n",
       "      <td>dos</td>\n",
       "    </tr>\n",
       "    <tr>\n",
       "      <th>17951</th>\n",
       "      <td>0.000202</td>\n",
       "      <td>0.000021</td>\n",
       "      <td>1.103394e-06</td>\n",
       "      <td>0.0</td>\n",
       "      <td>0.0</td>\n",
       "      <td>1.0</td>\n",
       "      <td>1.0</td>\n",
       "      <td>0.0</td>\n",
       "      <td>0.0</td>\n",
       "      <td>1.0</td>\n",
       "      <td>0.0</td>\n",
       "      <td>0.0</td>\n",
       "      <td>0.0</td>\n",
       "      <td>1.0</td>\n",
       "      <td>0.0</td>\n",
       "      <td>-1</td>\n",
       "      <td>bruteForce</td>\n",
       "    </tr>\n",
       "  </tbody>\n",
       "</table>\n",
       "</div>"
      ],
      "text/plain": [
       "       duration   packets         bytes  flows  tcp_urg  tcp_ack  tcp_psh  \\\n",
       "12406  0.000829  0.000075  4.657671e-06    0.0      0.0      1.0      1.0   \n",
       "15620  0.002278  0.000016  4.326256e-07    0.0      0.0      1.0      0.0   \n",
       "17951  0.000202  0.000021  1.103394e-06    0.0      0.0      1.0      1.0   \n",
       "\n",
       "       tcp_rst  tcp_syn  tcp_fin  tos  proto_ICMP   proto_IGMP   proto_TCP    \\\n",
       "12406      0.0      1.0      0.0  0.0          0.0          0.0          1.0   \n",
       "15620      0.0      1.0      1.0  0.0          0.0          0.0          1.0   \n",
       "17951      0.0      0.0      1.0  0.0          0.0          0.0          1.0   \n",
       "\n",
       "       proto_UDP    attack_binary attack_categorical  \n",
       "12406          0.0             -1           pingScan  \n",
       "15620          0.0             -1                dos  \n",
       "17951          0.0             -1         bruteForce  "
      ]
     },
     "execution_count": 24,
     "metadata": {},
     "output_type": "execute_result"
    }
   ],
   "source": [
    "print(f\"test set count: {test_df.shape[0]:,}\")\n",
    "print(f\"unique values: {test_df['attack_categorical'].value_counts()}\")\n",
    "test_df.head(3)"
   ]
  },
  {
   "cell_type": "markdown",
   "metadata": {},
   "source": [
    "prediction on the model"
   ]
  },
  {
   "cell_type": "code",
   "execution_count": 25,
   "metadata": {},
   "outputs": [
    {
     "name": "stdout",
     "output_type": "stream",
     "text": [
      "(10000, 9)\n"
     ]
    }
   ],
   "source": [
    "X_test_tensor = torch.FloatTensor(X_test).to(device)\n",
    "X_test_encoded = []\n",
    "\n",
    "test_dataset = TensorDataset(X_test_tensor, torch.zeros(len(X_test_tensor)))\n",
    "test_loader = DataLoader(test_dataset, batch_size=128)\n",
    "\n",
    "with torch.no_grad():\n",
    "    for data, _ in test_loader:\n",
    "        encoded = autoencoder.encode(data)\n",
    "        X_test_encoded.append(encoded.cpu().numpy())\n",
    "\n",
    "X_test_encoded = np.vstack(X_test_encoded)\n",
    "print(X_test_encoded.shape)"
   ]
  },
  {
   "cell_type": "code",
   "execution_count": 26,
   "metadata": {},
   "outputs": [],
   "source": [
    "# Start timer\n",
    "start_time = time.time()"
   ]
  },
  {
   "cell_type": "code",
   "execution_count": 27,
   "metadata": {},
   "outputs": [],
   "source": [
    "y_pred = dbocsvm.predict(X_test_encoded)"
   ]
  },
  {
   "cell_type": "code",
   "execution_count": 28,
   "metadata": {},
   "outputs": [],
   "source": [
    "y_pred_saved = loaded_model.predict(X_test_encoded)"
   ]
  },
  {
   "cell_type": "code",
   "execution_count": 29,
   "metadata": {},
   "outputs": [],
   "source": [
    "# End timer\n",
    "end_time = time.time()"
   ]
  },
  {
   "cell_type": "code",
   "execution_count": 30,
   "metadata": {},
   "outputs": [
    {
     "name": "stdout",
     "output_type": "stream",
     "text": [
      "Testing time: 9.944676 seconds\n"
     ]
    }
   ],
   "source": [
    "# Calculate and print training time\n",
    "training_time = end_time - start_time\n",
    "print(f\"Testing time: {training_time:.6f} seconds\")"
   ]
  },
  {
   "cell_type": "markdown",
   "metadata": {},
   "source": [
    "evaluating the model"
   ]
  },
  {
   "cell_type": "code",
   "execution_count": 31,
   "metadata": {},
   "outputs": [
    {
     "data": {
      "image/png": "[encoded data removed]",
      "text/plain": [
       "<Figure size 500x400 with 2 Axes>"
      ]
     },
     "metadata": {},
     "output_type": "display_data"
    }
   ],
   "source": [
    "from sklearn.metrics import confusion_matrix\n",
    "import seaborn as sns\n",
    "import matplotlib.pyplot as plt\n",
    "\n",
    "cm = confusion_matrix(y_test, y_pred_saved, labels=[-1, 1])\n",
    "\n",
    "\n",
    "def plot_confusion_matrix(cm, labels, title):\n",
    "    plt.figure(figsize=(5, 4))\n",
    "    sns.heatmap(\n",
    "        cm, annot=True, fmt=\"d\", cmap=\"Blues\", xticklabels=labels, yticklabels=labels\n",
    "    )\n",
    "    plt.xlabel(\"Predicted Label\")\n",
    "    plt.ylabel(\"Actual Label\")\n",
    "    plt.title(title)\n",
    "    plt.show()\n",
    "\n",
    "\n",
    "plot_confusion_matrix(cm, [\"Anomaly\", \"Normal\"], \"Confusion Matrix (Anomaly vs Normal)\")"
   ]
  },
  {
   "cell_type": "code",
   "execution_count": 32,
   "metadata": {},
   "outputs": [
    {
     "data": {
      "image/png": "[encoded data removed]",
      "text/plain": [
       "<Figure size 500x400 with 2 Axes>"
      ]
     },
     "metadata": {},
     "output_type": "display_data"
    }
   ],
   "source": [
    "from sklearn.metrics import confusion_matrix\n",
    "import seaborn as sns\n",
    "import matplotlib.pyplot as plt\n",
    "\n",
    "cm = confusion_matrix(y_test, y_pred, labels=[-1, 1])\n",
    "\n",
    "\n",
    "def plot_confusion_matrix(cm, labels, title):\n",
    "    plt.figure(figsize=(5, 4))\n",
    "    sns.heatmap(\n",
    "        cm, annot=True, fmt=\"d\", cmap=\"Blues\", xticklabels=labels, yticklabels=labels\n",
    "    )\n",
    "    plt.xlabel(\"Predicted Label\")\n",
    "    plt.ylabel(\"Actual Label\")\n",
    "    plt.title(title)\n",
    "    plt.show()\n",
    "\n",
    "\n",
    "plot_confusion_matrix(cm, [\"Anomaly\", \"Normal\"], \"Confusion Matrix (Anomaly vs Normal)\")"
   ]
  },
  {
   "cell_type": "code",
   "execution_count": 33,
   "metadata": {},
   "outputs": [
    {
     "name": "stdout",
     "output_type": "stream",
     "text": [
      "Classification Report:\n",
      "              precision    recall  f1-score   support\n",
      "\n",
      "     Anomaly       0.75      0.98      0.85      4387\n",
      "      Normal       0.98      0.75      0.85      5613\n",
      "\n",
      "    accuracy                           0.85     10000\n",
      "   macro avg       0.86      0.86      0.85     10000\n",
      "weighted avg       0.88      0.85      0.85     10000\n",
      "\n",
      "Precision: 75.00\n",
      "Recall: 97.61\n",
      "F1 Score: 84.83\n",
      "Accuracy: 84.68\n"
     ]
    }
   ],
   "source": [
    "from sklearn.metrics import (\n",
    "    classification_report,\n",
    "    precision_score,\n",
    "    recall_score,\n",
    "    f1_score,\n",
    "    accuracy_score,\n",
    ")\n",
    "\n",
    "print(\"Classification Report:\")\n",
    "print(classification_report(y_test, y_pred, target_names=[\"Anomaly\", \"Normal\"]))\n",
    "\n",
    "precision = precision_score(y_test, y_pred, pos_label=-1)\n",
    "recall = recall_score(y_test, y_pred, pos_label=-1)\n",
    "f1 = f1_score(y_test, y_pred, pos_label=-1)\n",
    "acc = accuracy_score(y_test, y_pred)\n",
    "\n",
    "print(f\"Precision: {precision * 100:.2f}\")\n",
    "print(f\"Recall: {recall * 100:.2f}\")\n",
    "print(f\"F1 Score: {f1 * 100:.2f}\")\n",
    "print(f\"Accuracy: {acc * 100:.2f}\")"
   ]
  },
  {
   "cell_type": "code",
   "execution_count": 34,
   "metadata": {},
   "outputs": [
    {
     "data": {
      "image/png": "[encoded data removed]",
      "text/plain": [
       "<Figure size 1000x800 with 2 Axes>"
      ]
     },
     "metadata": {},
     "output_type": "display_data"
    }
   ],
   "source": [
    "def create_multiclass_cm(y_true_class, y_pred_binary):\n",
    "    \"\"\"\n",
    "    Create a confusion matrix showing how each attack class was classified.\n",
    "\n",
    "    For attack classes (DoS, Probe, R2L, U2R), correct detection is when y_pred = -1 (anomaly)\n",
    "    For normal class, correct detection is when y_pred = 1 (normal)\n",
    "    \"\"\"\n",
    "    classes = np.unique(y_true_class)\n",
    "    cm = np.zeros((len(classes), 2))\n",
    "\n",
    "    for i, cls in enumerate(classes):\n",
    "        # Get predictions for this class\n",
    "        cls_indices = y_true_class == cls\n",
    "        preds = y_pred_binary[cls_indices]\n",
    "\n",
    "        # Count correct and incorrect predictions\n",
    "        if cls == \"normal\":\n",
    "            cm[i, 0] = np.sum(preds == -1)  # incorrectly detected as anomaly\n",
    "            cm[i, 1] = np.sum(preds == 1)  # correctly detected as normal\n",
    "        else:\n",
    "            cm[i, 0] = np.sum(preds == -1)  # correctly detected as anomaly\n",
    "            cm[i, 1] = np.sum(preds == 1)  # incorrectly detected as normal\n",
    "\n",
    "    return cm, classes\n",
    "\n",
    "\n",
    "# Create and plot the multi-class confusion matrix\n",
    "cm_multi, classes = create_multiclass_cm(y_test_class, y_pred)\n",
    "\n",
    "plt.figure(figsize=(10, 8))\n",
    "sns.heatmap(\n",
    "    cm_multi,\n",
    "    annot=True,\n",
    "    fmt=\"g\",\n",
    "    cmap=\"Blues\",\n",
    "    xticklabels=[\"Detected as Anomaly\", \"Detected as Normal\"],\n",
    "    yticklabels=classes,\n",
    ")\n",
    "plt.ylabel(\"True Attack Class\")\n",
    "plt.title(\"Confusion Matrix by Attack Class\")\n",
    "plt.tight_layout()\n",
    "plt.show()"
   ]
  },
  {
   "cell_type": "code",
   "execution_count": 35,
   "metadata": {},
   "outputs": [
    {
     "name": "stdout",
     "output_type": "stream",
     "text": [
      "Detection rates by class:\n",
      "benign: 0.2542 (1427/5613)\n",
      "bruteForce: 0.9428 (379/402)\n",
      "dos: 0.9867 (2745/2782)\n",
      "pingScan: 0.9586 (324/338)\n",
      "portScan: 0.9642 (834/865)\n"
     ]
    }
   ],
   "source": [
    "# Calculate detection rates for each class\n",
    "print(\"Detection rates by class:\")\n",
    "class_metrics = {}\n",
    "for cls in np.unique(y_test_class):\n",
    "    # Get indices for this class\n",
    "    class_indices = y_test_class == cls\n",
    "\n",
    "    # True values and predictions for this class\n",
    "    y_true_cls = y_test[class_indices]\n",
    "    y_pred_cls = y_pred[class_indices]\n",
    "\n",
    "    # Calculate metrics\n",
    "    if cls == \"Normal\":\n",
    "        # For normal class, we want to detect 1 (normal)\n",
    "        correct = np.sum((y_pred_cls == 1))\n",
    "        precision = precision_score(\n",
    "            y_true_cls, y_pred_cls, pos_label=1, zero_division=0\n",
    "        )\n",
    "        recall = recall_score(y_true_cls, y_pred_cls, pos_label=1, zero_division=0)\n",
    "    else:\n",
    "        # For attack classes, we want to detect -1 (anomaly)\n",
    "        correct = np.sum((y_pred_cls == -1))\n",
    "        precision = precision_score(\n",
    "            y_true_cls, y_pred_cls, pos_label=-1, zero_division=0\n",
    "        )\n",
    "        recall = recall_score(y_true_cls, y_pred_cls, pos_label=-1, zero_division=0)\n",
    "\n",
    "    total = len(y_pred_cls)\n",
    "    detection_rate = correct / total\n",
    "    f1 = f1_score(\n",
    "        y_true_cls, y_pred_cls, pos_label=-1 if cls != \"Normal\" else 1, zero_division=0\n",
    "    )\n",
    "\n",
    "    class_metrics[cls] = {\n",
    "        \"detection_rate\": detection_rate,\n",
    "        \"precision\": precision,\n",
    "        \"recall\": recall,\n",
    "        \"f1_score\": f1,\n",
    "        \"count\": total,\n",
    "        \"correctly_detected\": correct,\n",
    "    }\n",
    "\n",
    "    print(f\"{cls}: {detection_rate:.4f} ({correct}/{total})\")"
   ]
  }
 ],
 "metadata": {
  "kernelspec": {
   "display_name": "venv",
   "language": "python",
   "name": "python3"
  },
  "language_info": {
   "codemirror_mode": {
    "name": "ipython",
    "version": 3
   },
   "file_extension": ".py",
   "mimetype": "text/x-python",
   "name": "python",
   "nbconvert_exporter": "python",
   "pygments_lexer": "ipython3",
   "version": "3.12.3"
  }
 },
 "nbformat": 4,
 "nbformat_minor": 2
}
