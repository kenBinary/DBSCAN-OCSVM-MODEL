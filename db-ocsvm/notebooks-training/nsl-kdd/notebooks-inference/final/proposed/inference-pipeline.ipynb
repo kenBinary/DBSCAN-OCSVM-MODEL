{
 "cells": [
  {
   "cell_type": "code",
   "execution_count": null,
   "id": "21e4930a",
   "metadata": {},
   "outputs": [],
   "source": [
    "test_set_path = \"../../../datasets/test_set.csv\"\n",
    "\n",
    "train_set_sample = 0.5"
   ]
  },
  {
   "cell_type": "code",
   "execution_count": null,
   "id": "d2502c0a",
   "metadata": {},
   "outputs": [],
   "source": [
    "import pandas as pd\n",
    "\n",
    "test_df = pd.read_csv(test_set_path)\n",
    "print(f\"test set count: {test_df.shape[0]:,}\")\n",
    "\n",
    "print(\"Test Set Used:\", test_df.shape)"
   ]
  },
  {
   "cell_type": "code",
   "execution_count": null,
   "id": "164e1bca",
   "metadata": {},
   "outputs": [],
   "source": [
    "X_test = test_df.drop(\n",
    "    columns=[\"attack_binary\", \"attack_categorical\", \"attack_class\"]\n",
    ").values\n",
    "\n",
    "y_test = test_df[\"attack_binary\"].values\n",
    "\n",
    "y_test_class = test_df[\"attack_class\"].values\n",
    "\n",
    "print(f\"test set count: {test_df.shape[0]:,} with {test_df.shape[1]:,} features\")\n",
    "print(f\"unique values: {test_df['attack_class'].value_counts()}\")\n",
    "test_df.head(3)"
   ]
  },
  {
   "cell_type": "code",
   "execution_count": null,
   "id": "6db0a2e7",
   "metadata": {},
   "outputs": [],
   "source": [
    "import numpy as np\n",
    "import onnxruntime as ort\n",
    "\n",
    "autoencoder_onnx_path = \"saved_models/onnx/autoencoder_encoder_cidds_001.onnx\"\n",
    "\n",
    "\n",
    "def extract_latent_features(onnx_model_path, input_data):\n",
    "    \"\"\"\n",
    "    Extract latent representation from ONNX autoencoder model\n",
    "\n",
    "    Args:\n",
    "        onnx_model_path: Path to the ONNX model file\n",
    "        input_data: Numpy array of shape (n_samples, 15) - the input data\n",
    "\n",
    "    Returns:\n",
    "        Latent representations as numpy array\n",
    "    \"\"\"\n",
    "    # Create ONNX Runtime session\n",
    "    session = ort.InferenceSession(onnx_model_path)\n",
    "\n",
    "    # Get input name\n",
    "    input_name = session.get_inputs()[0].name\n",
    "\n",
    "    # Convert input data to the right format (float32)\n",
    "    input_data = input_data.astype(np.float32)\n",
    "\n",
    "    # Get the latent representation (encoder output)\n",
    "    # The 9-dimensional output from encoder (Linear layer with 9 output features)\n",
    "    latent = session.run(None, {input_name: input_data})[0]\n",
    "\n",
    "    return latent"
   ]
  },
  {
   "cell_type": "code",
   "execution_count": null,
   "id": "cda6c24c",
   "metadata": {},
   "outputs": [],
   "source": [
    "X_test_encoded = extract_latent_features(autoencoder_onnx_path, X_test)\n",
    "\n",
    "print(f\"Latent representation shape: {X_test_encoded.shape}\")  # shoudl be (11271, 16)"
   ]
  },
  {
   "cell_type": "code",
   "execution_count": null,
   "id": "1afe9610",
   "metadata": {},
   "outputs": [],
   "source": [
    "import joblib\n",
    "\n",
    "\n",
    "def load_dbocsvm_model(filename):\n",
    "    \"\"\"\n",
    "    Load a DBOCSVM model from disk\n",
    "\n",
    "    Parameters:\n",
    "    -----------\n",
    "    filename : str\n",
    "        Path to the saved model file\n",
    "\n",
    "    Returns:\n",
    "    --------\n",
    "    DBOCSVM\n",
    "        The loaded model\n",
    "    \"\"\"\n",
    "    return joblib.load(filename)\n",
    "\n",
    "\n",
    "dbocsvm_model_path = \"saved_models/joblib/dbocsvm_nsl_kdd.joblib\"\n",
    "loaded_dbocsvm_model = load_dbocsvm_model(dbocsvm_model_path)"
   ]
  },
  {
   "cell_type": "code",
   "execution_count": null,
   "id": "bccef814",
   "metadata": {},
   "outputs": [],
   "source": [
    "y_pred = loaded_dbocsvm_model.predict(X_test_encoded)"
   ]
  },
  {
   "cell_type": "code",
   "execution_count": null,
   "id": "9244625a",
   "metadata": {},
   "outputs": [],
   "source": [
    "import seaborn as sns\n",
    "import matplotlib.pyplot as plt\n",
    "from sklearn.metrics import confusion_matrix\n",
    "\n",
    "cm = confusion_matrix(y_test, y_pred, labels=[-1, 1])\n",
    "\n",
    "\n",
    "def plot_confusion_matrix(cm, labels, title):\n",
    "    plt.figure(figsize=(5, 4))\n",
    "    sns.heatmap(\n",
    "        cm, annot=True, fmt=\"d\", cmap=\"Blues\", xticklabels=labels, yticklabels=labels\n",
    "    )\n",
    "    plt.xlabel(\"Predicted Label\")\n",
    "    plt.ylabel(\"Actual Label\")\n",
    "    plt.title(title)\n",
    "    plt.show()\n",
    "\n",
    "\n",
    "print(\"Confusion Matrix of ONNX OCSVM Predictions\")\n",
    "plot_confusion_matrix(cm, [\"Anomaly\", \"Normal\"], \"Confusion Matrix (Anomaly vs Normal)\")"
   ]
  },
  {
   "cell_type": "code",
   "execution_count": null,
   "id": "873e9560",
   "metadata": {},
   "outputs": [],
   "source": [
    "from sklearn.metrics import (\n",
    "    classification_report,\n",
    "    precision_score,\n",
    "    recall_score,\n",
    "    f1_score,\n",
    "    accuracy_score,\n",
    ")\n",
    "\n",
    "print(\"Classification Report ONNX:\")\n",
    "print(classification_report(y_test, y_pred, target_names=[\"Anomaly\", \"Normal\"]))\n",
    "\n",
    "precision = precision_score(y_test, y_pred, pos_label=-1)\n",
    "recall = recall_score(y_test, y_pred, pos_label=-1)\n",
    "f1 = f1_score(y_test, y_pred, pos_label=-1)\n",
    "\n",
    "print(f\"Precision: {precision * 100:.2f}%\")\n",
    "print(f\"Recall: {recall * 100:.2f}%\")\n",
    "print(f\"F1 Score: {f1 * 100:.2f}%\")\n",
    "print(f\"Accuracy: {accuracy_score(y_test, y_pred) * 100:.2f}%\")"
   ]
  }
 ],
 "metadata": {
  "kernelspec": {
   "display_name": "venv",
   "language": "python",
   "name": "python3"
  },
  "language_info": {
   "codemirror_mode": {
    "name": "ipython",
    "version": 3
   },
   "file_extension": ".py",
   "mimetype": "text/x-python",
   "name": "python",
   "nbconvert_exporter": "python",
   "pygments_lexer": "ipython3",
   "version": "3.12.3"
  }
 },
 "nbformat": 4,
 "nbformat_minor": 5
}
