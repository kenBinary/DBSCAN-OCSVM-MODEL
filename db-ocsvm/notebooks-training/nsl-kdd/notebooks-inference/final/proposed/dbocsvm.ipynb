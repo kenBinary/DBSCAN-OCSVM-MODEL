{
 "cells": [
  {
   "cell_type": "code",
   "execution_count": null,
   "metadata": {},
   "outputs": [],
   "source": [
    "import torch\n",
    "\n",
    "sample_size = 0.5  # Original is 0.5\n",
    "\n",
    "use_val_set = False\n",
    "\n",
    "device = \"cuda\" if torch.cuda.is_available() else \"cpu\"\n",
    "\n",
    "trained_model_path = \"../../../autoencoder/autoencoder.pth\"\n",
    "\n",
    "existing_model_architecture = {\n",
    "    \"input_dim\": 122,\n",
    "    \"hidden_dims\": [96, 64, 48, 32],\n",
    "    \"latent_dim\": 16,\n",
    "    \"activation_type\": \"GELU\",\n",
    "    \"negative_slope\": 0,\n",
    "    \"dropout_rate\": 0.1,\n",
    "    \"output_activation_type\": \"Sigmoid\",\n",
    "}\n",
    "\n",
    "train_set_path = \"../../../datasets/train_set.csv\"\n",
    "val_set_path = \"../../../datasets/validation_set.csv\"\n",
    "test_set_path = \"../../../datasets/test_set.csv\""
   ]
  },
  {
   "cell_type": "code",
   "execution_count": null,
   "metadata": {},
   "outputs": [],
   "source": [
    "dbscan_parameters = {\n",
    "    \"eps\": 1.787311276337387,\n",
    "    \"min_samples\": 29,\n",
    "    \"distance_metric\": \"manhattan\",\n",
    "    \"score\": 0.45395350456237793,\n",
    "}\n",
    "\n",
    "tree_alogrithm_parameter = \"ball_tree\"\n",
    "\n",
    "dbocsvm_parameter_list = {\n",
    "    0: {\"kernel\": \"rbf\", \"gamma\": 0.049495948466506526, \"nu\": 0.3662616422880251},\n",
    "    1: {\"kernel\": \"rbf\", \"gamma\": 0.42412638203297554, \"nu\": 0.019881618788041996},\n",
    "    2: {\"kernel\": \"rbf\", \"gamma\": 0.23739218459835867, \"nu\": 0.20390760952606513},\n",
    "    3: {\"kernel\": \"rbf\", \"gamma\": 0.9429601159951311, \"nu\": 0.012697975438533057},\n",
    "    4: {\"kernel\": \"rbf\", \"gamma\": 0.7702993460582862, \"nu\": 0.36469735167262823},\n",
    "    5: {\"kernel\": \"rbf\", \"gamma\": 0.5149943993098455, \"nu\": 0.01005753878042758},\n",
    "    6: {\"kernel\": \"rbf\", \"gamma\": 0.5553014273137084, \"nu\": 0.2690232402540704},\n",
    "    7: {\"kernel\": \"rbf\", \"gamma\": 0.5071741862677704, \"nu\": 0.07388996320029637},\n",
    "    8: {\"kernel\": \"rbf\", \"gamma\": 0.522576455799274, \"nu\": 0.2941746517575232},\n",
    "    9: {\"kernel\": \"rbf\", \"gamma\": 0.5757082751703306, \"nu\": 0.472193023289714},\n",
    "    10: {\"kernel\": \"rbf\", \"gamma\": 0.9790779091185431, \"nu\": 0.1325334153968022},\n",
    "    11: {\"kernel\": \"rbf\", \"gamma\": 0.7714062882453818, \"nu\": 0.018034997260314198},\n",
    "    12: {\"kernel\": \"rbf\", \"gamma\": 0.6885970366127225, \"nu\": 0.3991281344892544},\n",
    "    13: {\"kernel\": \"rbf\", \"gamma\": 0.72986801676154, \"nu\": 0.22450614839341163},\n",
    "    14: {\"kernel\": \"rbf\", \"gamma\": 0.6771472452305757, \"nu\": 0.0826833989412425},\n",
    "    15: {\"kernel\": \"rbf\", \"gamma\": 0.8319858760700195, \"nu\": 0.1278007070475413},\n",
    "    16: {\"kernel\": \"rbf\", \"gamma\": 0.37535608931692643, \"nu\": 0.07119347986826136},\n",
    "    17: {\"kernel\": \"rbf\", \"gamma\": 0.3996575207303866, \"nu\": 0.2472005086100027},\n",
    "    18: {\"kernel\": \"rbf\", \"gamma\": 0.1322621869646433, \"nu\": 0.04678926778615929},\n",
    "    19: {\"kernel\": \"rbf\", \"gamma\": 0.7111918526116242, \"nu\": 0.02623044171397143},\n",
    "    20: {\"kernel\": \"rbf\", \"gamma\": 0.4863319127753058, \"nu\": 0.3350032975288072},\n",
    "    21: {\"kernel\": \"rbf\", \"gamma\": 0.15095380140083206, \"nu\": 0.21469160456941508},\n",
    "    22: {\"kernel\": \"rbf\", \"gamma\": 0.12042325676821661, \"nu\": 0.3076095537810891},\n",
    "    23: {\"kernel\": \"rbf\", \"gamma\": 0.5595282966088965, \"nu\": 0.4941178516358448},\n",
    "    24: {\"kernel\": \"rbf\", \"gamma\": 0.2652804609211997, \"nu\": 0.32268140256458583},\n",
    "    25: {\"kernel\": \"rbf\", \"gamma\": 0.357035503014323, \"nu\": 0.44879742618046164},\n",
    "    26: {\"kernel\": \"rbf\", \"gamma\": 0.030485623585448325, \"nu\": 0.30936289753361157},\n",
    "    27: {\"kernel\": \"rbf\", \"gamma\": 0.2875833771114605, \"nu\": 0.3268454435772171},\n",
    "    28: {\"kernel\": \"rbf\", \"gamma\": 0.4689889238883177, \"nu\": 0.05526157450706918},\n",
    "    29: {\"kernel\": \"rbf\", \"gamma\": 0.6702506306069699, \"nu\": 0.19823360888060673},\n",
    "    30: {\"kernel\": \"rbf\", \"gamma\": 0.017588188021676547, \"nu\": 0.17791148870972678},\n",
    "    31: {\"kernel\": \"rbf\", \"gamma\": 0.2565638564720348, \"nu\": 0.3146835752954465},\n",
    "    32: {\"kernel\": \"rbf\", \"gamma\": 0.10977596988228, \"nu\": 0.22315841128820676},\n",
    "    33: {\"kernel\": \"rbf\", \"gamma\": 0.5824133548458419, \"nu\": 0.4710893877704391},\n",
    "    34: {\"kernel\": \"rbf\", \"gamma\": 0.4660824489942723, \"nu\": 0.48745052562133906},\n",
    "    35: {\"kernel\": \"rbf\", \"gamma\": 0.2749968003214494, \"nu\": 0.3058188796897116},\n",
    "    36: {\"kernel\": \"rbf\", \"gamma\": 0.6185515947778574, \"nu\": 0.38335326668244113},\n",
    "    37: {\"kernel\": \"rbf\", \"gamma\": 0.6531367962714041, \"nu\": 0.22828554447135188},\n",
    "    38: {\"kernel\": \"rbf\", \"gamma\": 0.11208682434274561, \"nu\": 0.28480937841444987},\n",
    "    39: {\"kernel\": \"rbf\", \"gamma\": 0.44975090855196725, \"nu\": 0.13891834410584447},\n",
    "    40: {\"kernel\": \"rbf\", \"gamma\": 0.9219863960817624, \"nu\": 0.420270065479377},\n",
    "    41: {\"kernel\": \"rbf\", \"gamma\": 0.30496724929398356, \"nu\": 0.15267981774789857},\n",
    "    42: {\"kernel\": \"rbf\", \"gamma\": 0.6697624856851782, \"nu\": 0.20414269360366635},\n",
    "    43: {\"kernel\": \"rbf\", \"gamma\": 0.24416382475840803, \"nu\": 0.2759745866181365},\n",
    "    44: {\"kernel\": \"rbf\", \"gamma\": 0.236236626983856, \"nu\": 0.048640648597889094},\n",
    "    45: {\"kernel\": \"rbf\", \"gamma\": 0.6706410670083437, \"nu\": 0.25566266172201285},\n",
    "    46: {\"kernel\": \"rbf\", \"gamma\": 0.9120474655821834, \"nu\": 0.4454094747599921},\n",
    "    47: {\"kernel\": \"rbf\", \"gamma\": 0.9699656972251428, \"nu\": 0.0490103652970804},\n",
    "}"
   ]
  },
  {
   "cell_type": "markdown",
   "metadata": {},
   "source": [
    "load trained autoencoder"
   ]
  },
  {
   "cell_type": "code",
   "execution_count": null,
   "metadata": {},
   "outputs": [],
   "source": [
    "from autoencoder import BatchNormAutoencoderV2\n",
    "\n",
    "autoencoder = BatchNormAutoencoderV2(\n",
    "    input_dim=existing_model_architecture[\"input_dim\"],\n",
    "    hidden_dims=existing_model_architecture[\"hidden_dims\"],\n",
    "    latent_dim=existing_model_architecture[\"latent_dim\"],\n",
    "    activation_type=existing_model_architecture[\"activation_type\"],\n",
    "    negative_slope=existing_model_architecture[\"negative_slope\"],\n",
    "    output_activation_type=existing_model_architecture[\"output_activation_type\"],\n",
    ")"
   ]
  },
  {
   "cell_type": "code",
   "execution_count": null,
   "metadata": {},
   "outputs": [],
   "source": [
    "# Load best model\n",
    "checkpoint = torch.load(trained_model_path)\n",
    "autoencoder.load_state_dict(checkpoint[\"model_state_dict\"])\n",
    "\n",
    "autoencoder.eval()"
   ]
  },
  {
   "cell_type": "code",
   "execution_count": null,
   "metadata": {},
   "outputs": [],
   "source": [
    "# Function to export model to ONNX format\n",
    "def export_to_onnx(model, input_dim, file_path):\n",
    "    model.eval()\n",
    "    # Create dummy input tensor for ONNX export\n",
    "    dummy_input = torch.randn(1, input_dim, device=device)\n",
    "\n",
    "    # Export the model\n",
    "    torch.onnx.export(\n",
    "        model,  # model being run\n",
    "        dummy_input,  # model input (or a tuple for multiple inputs)\n",
    "        file_path,  # where to save the model\n",
    "        export_params=True,  # store the trained parameter weights inside the model file\n",
    "        opset_version=17,  # the ONNX version to export the model to\n",
    "        do_constant_folding=True,  # whether to execute constant folding for optimization\n",
    "        input_names=[\"input\"],  # the model's input names\n",
    "        output_names=[\"output\"],  # the model's output names\n",
    "        dynamic_axes={\n",
    "            \"input\": {0: \"batch_size\"},  # variable length axes\n",
    "            \"output\": {0: \"batch_size\"},\n",
    "        },\n",
    "    )\n",
    "    print(f\"Model exported to ONNX: {file_path}\")"
   ]
  },
  {
   "cell_type": "code",
   "execution_count": null,
   "metadata": {},
   "outputs": [],
   "source": [
    "import os\n",
    "\n",
    "os.makedirs(\"saved_models/onnx\", exist_ok=True)\n",
    "\n",
    "onnx_path = \"saved_models/onnx/autoencoder_proposed_cidds_001.onnx\"\n",
    "\n",
    "export_to_onnx(autoencoder, existing_model_architecture[\"input_dim\"], onnx_path)"
   ]
  },
  {
   "cell_type": "code",
   "execution_count": null,
   "metadata": {},
   "outputs": [],
   "source": [
    "def export_encoder_to_onnx(model, input_dim, file_path):\n",
    "    model.eval()\n",
    "    # Create dummy input tensor for ONNX export\n",
    "    dummy_input = torch.randn(1, input_dim, device=device)\n",
    "\n",
    "    # Create a wrapper class that only calls the encode method\n",
    "    class EncoderOnly(torch.nn.Module):\n",
    "        def __init__(self, autoencoder):\n",
    "            super(EncoderOnly, self).__init__()\n",
    "            self.autoencoder = autoencoder\n",
    "\n",
    "        def forward(self, x):\n",
    "            return self.autoencoder.encode(x)\n",
    "\n",
    "    encoder_only = EncoderOnly(model)\n",
    "\n",
    "    # Export the encoder model\n",
    "    torch.onnx.export(\n",
    "        encoder_only,\n",
    "        dummy_input,\n",
    "        file_path,\n",
    "        export_params=True,\n",
    "        opset_version=17,\n",
    "        do_constant_folding=True,\n",
    "        input_names=[\"input\"],\n",
    "        output_names=[\"output\"],\n",
    "        dynamic_axes={\n",
    "            \"input\": {0: \"batch_size\"},\n",
    "            \"output\": {0: \"batch_size\"},\n",
    "        },\n",
    "    )\n",
    "    print(f\"Encoder model exported to ONNX: {file_path}\")"
   ]
  },
  {
   "cell_type": "code",
   "execution_count": null,
   "metadata": {},
   "outputs": [],
   "source": [
    "# Export just the encoder part\n",
    "encoder_onnx_path = \"saved_models/onnx/autoencoder_encoder_cidds_001.onnx\"\n",
    "export_encoder_to_onnx(\n",
    "    autoencoder, existing_model_architecture[\"input_dim\"], encoder_onnx_path\n",
    ")"
   ]
  },
  {
   "cell_type": "code",
   "execution_count": null,
   "metadata": {},
   "outputs": [],
   "source": [
    "import pandas as pd\n",
    "\n",
    "train_df = pd.read_csv(train_set_path)\n",
    "\n",
    "train_df = train_df.sample(frac=sample_size, random_state=42).reset_index(drop=True)\n",
    "\n",
    "print(train_df.shape)\n",
    "train_df.head(1)"
   ]
  },
  {
   "cell_type": "code",
   "execution_count": null,
   "metadata": {},
   "outputs": [],
   "source": [
    "X_train = train_df.values\n",
    "\n",
    "print(X_train.shape)"
   ]
  },
  {
   "cell_type": "code",
   "execution_count": null,
   "metadata": {},
   "outputs": [],
   "source": [
    "autoencoder.eval()"
   ]
  },
  {
   "cell_type": "code",
   "execution_count": null,
   "metadata": {},
   "outputs": [],
   "source": [
    "import torch\n",
    "from torch.utils.data import TensorDataset\n",
    "\n",
    "# Convert to PyTorch tensors\n",
    "X_train_tensor = torch.FloatTensor(X_train)\n",
    "\n",
    "# Create data loaders\n",
    "X_train_dataset = TensorDataset(X_train_tensor)\n",
    "\n",
    "input_dim = X_train.shape[1]"
   ]
  },
  {
   "cell_type": "markdown",
   "metadata": {},
   "source": [
    "Training the DBOCSVM"
   ]
  },
  {
   "cell_type": "code",
   "execution_count": null,
   "metadata": {},
   "outputs": [],
   "source": [
    "from torch.utils.data import DataLoader\n",
    "import numpy as np\n",
    "\n",
    "# extract encoded features\n",
    "X_train_loader = DataLoader(X_train_dataset, batch_size=256)\n",
    "\n",
    "# Extract in batches to prevent memory issues\n",
    "X_train_full_encoded = []\n",
    "with torch.no_grad():\n",
    "    for data in X_train_loader:\n",
    "        data_x = data[0].to(device)\n",
    "        encoded = autoencoder.encode(data_x)\n",
    "        X_train_full_encoded.append(encoded.cpu().numpy())\n",
    "X_train_full_encoded = np.vstack(X_train_full_encoded)"
   ]
  },
  {
   "cell_type": "code",
   "execution_count": null,
   "metadata": {},
   "outputs": [],
   "source": [
    "print(f\"eps = {dbscan_parameters[\"eps\"]}\")\n",
    "print(f\"min_samples = {dbscan_parameters[\"min_samples\"]}\")\n",
    "print(f\"metric = {dbscan_parameters[\"distance_metric\"]}\")"
   ]
  },
  {
   "cell_type": "code",
   "execution_count": null,
   "metadata": {},
   "outputs": [],
   "source": [
    "from db_ocsvm import DBOCSVM\n",
    "\n",
    "dbocsvm = DBOCSVM(\n",
    "    kernel=\"rbf\",\n",
    "    gamma=\"auto\",\n",
    "    nu=0.2,\n",
    "    eps=dbscan_parameters[\"eps\"],\n",
    "    min_samples=dbscan_parameters[\"min_samples\"],\n",
    "    dbscan_distance_metric=dbscan_parameters[\"distance_metric\"],\n",
    ")"
   ]
  },
  {
   "cell_type": "code",
   "execution_count": null,
   "metadata": {},
   "outputs": [],
   "source": [
    "import time\n",
    "\n",
    "# Start timer\n",
    "start_time = time.time()\n",
    "dbocsvm.fit_cluster(X_train_full_encoded, verbose=True)"
   ]
  },
  {
   "cell_type": "code",
   "execution_count": null,
   "metadata": {},
   "outputs": [],
   "source": [
    "dbocsvm.fit_ocsvm(X_train_full_encoded, parameter_list=dbocsvm_parameter_list)\n",
    "\n",
    "# End timer\n",
    "end_time = time.time()"
   ]
  },
  {
   "cell_type": "code",
   "execution_count": null,
   "metadata": {},
   "outputs": [],
   "source": [
    "training_time = end_time - start_time\n",
    "print(f\"Training time: {training_time:.6f} seconds\")"
   ]
  },
  {
   "cell_type": "markdown",
   "metadata": {},
   "source": [
    "save model"
   ]
  },
  {
   "cell_type": "code",
   "execution_count": null,
   "metadata": {},
   "outputs": [],
   "source": [
    "import joblib\n",
    "\n",
    "\n",
    "# To save your fitted model\n",
    "def save_dbocsvm_model(model, filename, compress=3):\n",
    "    \"\"\"\n",
    "    Save a fitted DBOCSVM model to disk\n",
    "\n",
    "    Parameters:\n",
    "    -----------\n",
    "    model : DBOCSVM\n",
    "        The fitted model to save\n",
    "    filename : str\n",
    "        Path where the model will be saved\n",
    "    compress : int, default=3\n",
    "        Compression level (0-9)\n",
    "    \"\"\"\n",
    "    joblib.dump(model, filename, compress=compress)\n",
    "\n",
    "\n",
    "# To load your model\n",
    "def load_dbocsvm_model(filename):\n",
    "    \"\"\"\n",
    "    Load a DBOCSVM model from disk\n",
    "\n",
    "    Parameters:\n",
    "    -----------\n",
    "    filename : str\n",
    "        Path to the saved model file\n",
    "\n",
    "    Returns:\n",
    "    --------\n",
    "    DBOCSVM\n",
    "        The loaded model\n",
    "    \"\"\"\n",
    "    return joblib.load(filename)\n",
    "\n",
    "\n",
    "# Save the model\n",
    "os.makedirs(\"saved_models/joblib\", exist_ok=True)\n",
    "model_path = \"saved_models/joblib/dbocsvm_cidds_001.joblib\"\n",
    "save_dbocsvm_model(dbocsvm, model_path)\n",
    "\n",
    "# Later, load the model\n",
    "loaded_model = load_dbocsvm_model(model_path)"
   ]
  },
  {
   "cell_type": "code",
   "execution_count": null,
   "metadata": {},
   "outputs": [],
   "source": [
    "test_df = pd.read_csv(test_set_path)\n",
    "print(test_df.shape)\n",
    "print(test_df[\"attack_class\"].value_counts())\n",
    "test_df.head(1)"
   ]
  },
  {
   "cell_type": "code",
   "execution_count": null,
   "metadata": {},
   "outputs": [],
   "source": [
    "from imblearn.over_sampling import SMOTE\n",
    "\n",
    "if use_val_set:\n",
    "    val_df = pd.read_csv(val_set_path)\n",
    "    sampling_strategy = {\n",
    "        \"DoS\": 4000,\n",
    "        \"R2L\": 4000,\n",
    "        \"Probe\": 4000,\n",
    "        \"U2R\": 4000,\n",
    "    }\n",
    "    X_val = val_df.drop(\n",
    "        columns=[\"attack_binary\", \"attack_categorical\", \"attack_class\"]\n",
    "    ).values\n",
    "    y_val = val_df[\"attack_binary\"].values\n",
    "    y_val_class = val_df[\"attack_class\"].values\n",
    "\n",
    "    smote = SMOTE(random_state=42, k_neighbors=3, sampling_strategy=sampling_strategy)\n",
    "    X_test, Y_test_class = smote.fit_resample(X_val, y_val_class)\n",
    "    Y_test = np.where(Y_test_class == \"normal\", 1, -1)\n",
    "\n",
    "    X_test = X_test\n",
    "    y_test_class = Y_test_class\n",
    "    y_test = Y_test\n"
   ]
  },
  {
   "cell_type": "code",
   "execution_count": null,
   "metadata": {},
   "outputs": [],
   "source": [
    "# Splitting into X and y\n",
    "if not use_val_set:\n",
    "\n",
    "    X_test = test_df.drop(\n",
    "        columns=[\"attack_binary\", \"attack_categorical\", \"attack_class\"]\n",
    "    ).values\n",
    "\n",
    "    y_test = test_df[\"attack_binary\"].values\n",
    "\n",
    "    y_test_class = test_df[\"attack_class\"].values"
   ]
  },
  {
   "cell_type": "code",
   "execution_count": null,
   "metadata": {},
   "outputs": [],
   "source": [
    "# from imblearn.over_sampling import SMOTE\n",
    "\n",
    "# if use_val_set:\n",
    "#     print(\"Using validation set for testing.\")\n",
    "#     sampling_strategy = {\n",
    "#         \"dos\": 4000,\n",
    "#         \"portScan\": 4000,\n",
    "#         \"bruteForce\": 4000,\n",
    "#         \"pingScan\": 4000,\n",
    "#     }\n",
    "#     smote = SMOTE(random_state=42, k_neighbors=3, sampling_strategy=sampling_strategy)\n",
    "#     X_test, y_test_class = smote.fit_resample(X_test, y_test_class)\n",
    "#     y_test = np.where(y_test_class == \"benign\", 1, -1)"
   ]
  },
  {
   "cell_type": "code",
   "execution_count": null,
   "metadata": {},
   "outputs": [],
   "source": [
    "print(f\"test set count: {test_df.shape[0]:,}\")\n",
    "print(f\"unique values: {test_df['attack_class'].value_counts()}\")\n",
    "test_df.head(3)"
   ]
  },
  {
   "cell_type": "markdown",
   "metadata": {},
   "source": [
    "prediction on the model"
   ]
  },
  {
   "cell_type": "code",
   "execution_count": null,
   "metadata": {},
   "outputs": [],
   "source": [
    "X_test_tensor = torch.FloatTensor(X_test).to(device)\n",
    "X_test_encoded = []\n",
    "\n",
    "test_dataset = TensorDataset(X_test_tensor, torch.zeros(len(X_test_tensor)))\n",
    "test_loader = DataLoader(test_dataset, batch_size=128)\n",
    "\n",
    "with torch.no_grad():\n",
    "    for data, _ in test_loader:\n",
    "        encoded = autoencoder.encode(data)\n",
    "        X_test_encoded.append(encoded.cpu().numpy())\n",
    "\n",
    "X_test_encoded = np.vstack(X_test_encoded)\n",
    "print(X_test_encoded.shape)"
   ]
  },
  {
   "cell_type": "code",
   "execution_count": null,
   "metadata": {},
   "outputs": [],
   "source": [
    "# Start timer\n",
    "start_time = time.time()"
   ]
  },
  {
   "cell_type": "code",
   "execution_count": null,
   "metadata": {},
   "outputs": [],
   "source": [
    "y_pred = dbocsvm.predict(X_test_encoded)"
   ]
  },
  {
   "cell_type": "code",
   "execution_count": null,
   "metadata": {},
   "outputs": [],
   "source": [
    "y_pred_saved = loaded_model.predict(X_test_encoded)"
   ]
  },
  {
   "cell_type": "code",
   "execution_count": null,
   "metadata": {},
   "outputs": [],
   "source": [
    "# End timer\n",
    "end_time = time.time()"
   ]
  },
  {
   "cell_type": "code",
   "execution_count": null,
   "metadata": {},
   "outputs": [],
   "source": [
    "# Calculate and print training time\n",
    "training_time = end_time - start_time\n",
    "print(f\"Testing time: {training_time:.6f} seconds\")"
   ]
  },
  {
   "cell_type": "markdown",
   "metadata": {},
   "source": [
    "evaluating the model"
   ]
  },
  {
   "cell_type": "code",
   "execution_count": null,
   "metadata": {},
   "outputs": [],
   "source": [
    "from sklearn.metrics import confusion_matrix\n",
    "import seaborn as sns\n",
    "import matplotlib.pyplot as plt\n",
    "\n",
    "cm = confusion_matrix(y_test, y_pred_saved, labels=[-1, 1])\n",
    "\n",
    "\n",
    "def plot_confusion_matrix(cm, labels, title):\n",
    "    plt.figure(figsize=(5, 4))\n",
    "    sns.heatmap(\n",
    "        cm, annot=True, fmt=\"d\", cmap=\"Blues\", xticklabels=labels, yticklabels=labels\n",
    "    )\n",
    "    plt.xlabel(\"Predicted Label\")\n",
    "    plt.ylabel(\"Actual Label\")\n",
    "    plt.title(title)\n",
    "    plt.show()\n",
    "\n",
    "\n",
    "plot_confusion_matrix(cm, [\"Anomaly\", \"Normal\"], \"Confusion Matrix (Anomaly vs Normal)\")"
   ]
  },
  {
   "cell_type": "code",
   "execution_count": null,
   "metadata": {},
   "outputs": [],
   "source": [
    "from sklearn.metrics import confusion_matrix\n",
    "import seaborn as sns\n",
    "import matplotlib.pyplot as plt\n",
    "\n",
    "cm = confusion_matrix(y_test, y_pred, labels=[-1, 1])\n",
    "\n",
    "\n",
    "def plot_confusion_matrix(cm, labels, title):\n",
    "    plt.figure(figsize=(5, 4))\n",
    "    sns.heatmap(\n",
    "        cm, annot=True, fmt=\"d\", cmap=\"Blues\", xticklabels=labels, yticklabels=labels\n",
    "    )\n",
    "    plt.xlabel(\"Predicted Label\")\n",
    "    plt.ylabel(\"Actual Label\")\n",
    "    plt.title(title)\n",
    "    plt.show()\n",
    "\n",
    "\n",
    "plot_confusion_matrix(cm, [\"Anomaly\", \"Normal\"], \"Confusion Matrix (Anomaly vs Normal)\")"
   ]
  },
  {
   "cell_type": "code",
   "execution_count": null,
   "metadata": {},
   "outputs": [],
   "source": [
    "from sklearn.metrics import (\n",
    "    classification_report,\n",
    "    precision_score,\n",
    "    recall_score,\n",
    "    f1_score,\n",
    "    accuracy_score,\n",
    ")\n",
    "\n",
    "print(\"Classification Report:\")\n",
    "print(classification_report(y_test, y_pred, target_names=[\"Anomaly\", \"Normal\"]))\n",
    "\n",
    "precision = precision_score(y_test, y_pred, pos_label=-1)\n",
    "recall = recall_score(y_test, y_pred, pos_label=-1)\n",
    "f1 = f1_score(y_test, y_pred, pos_label=-1)\n",
    "acc = accuracy_score(y_test, y_pred)\n",
    "\n",
    "print(f\"Precision: {precision * 100:.2f}\")\n",
    "print(f\"Recall: {recall * 100:.2f}\")\n",
    "print(f\"F1 Score: {f1 * 100:.2f}\")\n",
    "print(f\"Accuracy: {acc * 100:.2f}\")"
   ]
  },
  {
   "cell_type": "code",
   "execution_count": null,
   "metadata": {},
   "outputs": [],
   "source": [
    "def create_multiclass_cm(y_true_class, y_pred_binary):\n",
    "    \"\"\"\n",
    "    Create a confusion matrix showing how each attack class was classified.\n",
    "\n",
    "    For attack classes (DoS, Probe, R2L, U2R), correct detection is when y_pred = -1 (anomaly)\n",
    "    For normal class, correct detection is when y_pred = 1 (normal)\n",
    "    \"\"\"\n",
    "    classes = np.unique(y_true_class)\n",
    "    cm = np.zeros((len(classes), 2))\n",
    "\n",
    "    for i, cls in enumerate(classes):\n",
    "        # Get predictions for this class\n",
    "        cls_indices = y_true_class == cls\n",
    "        preds = y_pred_binary[cls_indices]\n",
    "\n",
    "        # Count correct and incorrect predictions\n",
    "        if cls == \"normal\":\n",
    "            cm[i, 0] = np.sum(preds == -1)  # incorrectly detected as anomaly\n",
    "            cm[i, 1] = np.sum(preds == 1)  # correctly detected as normal\n",
    "        else:\n",
    "            cm[i, 0] = np.sum(preds == -1)  # correctly detected as anomaly\n",
    "            cm[i, 1] = np.sum(preds == 1)  # incorrectly detected as normal\n",
    "\n",
    "    return cm, classes\n",
    "\n",
    "\n",
    "# Create and plot the multi-class confusion matrix\n",
    "cm_multi, classes = create_multiclass_cm(y_test_class, y_pred)\n",
    "\n",
    "plt.figure(figsize=(10, 8))\n",
    "sns.heatmap(\n",
    "    cm_multi,\n",
    "    annot=True,\n",
    "    fmt=\"g\",\n",
    "    cmap=\"Blues\",\n",
    "    xticklabels=[\"Detected as Anomaly\", \"Detected as Normal\"],\n",
    "    yticklabels=classes,\n",
    ")\n",
    "plt.ylabel(\"True Attack Class\")\n",
    "plt.title(\"Confusion Matrix by Attack Class\")\n",
    "plt.tight_layout()\n",
    "plt.show()"
   ]
  },
  {
   "cell_type": "code",
   "execution_count": null,
   "metadata": {},
   "outputs": [],
   "source": [
    "# Calculate detection rates for each class\n",
    "print(\"Detection rates by class:\")\n",
    "class_metrics = {}\n",
    "for cls in np.unique(y_test_class):\n",
    "    # Get indices for this class\n",
    "    class_indices = y_test_class == cls\n",
    "\n",
    "    # True values and predictions for this class\n",
    "    y_true_cls = y_test[class_indices]\n",
    "    y_pred_cls = y_pred[class_indices]\n",
    "\n",
    "    # Calculate metrics\n",
    "    if cls == \"Normal\":\n",
    "        # For normal class, we want to detect 1 (normal)\n",
    "        correct = np.sum((y_pred_cls == 1))\n",
    "        precision = precision_score(\n",
    "            y_true_cls, y_pred_cls, pos_label=1, zero_division=0\n",
    "        )\n",
    "        recall = recall_score(y_true_cls, y_pred_cls, pos_label=1, zero_division=0)\n",
    "    else:\n",
    "        # For attack classes, we want to detect -1 (anomaly)\n",
    "        correct = np.sum((y_pred_cls == -1))\n",
    "        precision = precision_score(\n",
    "            y_true_cls, y_pred_cls, pos_label=-1, zero_division=0\n",
    "        )\n",
    "        recall = recall_score(y_true_cls, y_pred_cls, pos_label=-1, zero_division=0)\n",
    "\n",
    "    total = len(y_pred_cls)\n",
    "    detection_rate = correct / total\n",
    "    f1 = f1_score(\n",
    "        y_true_cls, y_pred_cls, pos_label=-1 if cls != \"Normal\" else 1, zero_division=0\n",
    "    )\n",
    "\n",
    "    class_metrics[cls] = {\n",
    "        \"detection_rate\": detection_rate,\n",
    "        \"precision\": precision,\n",
    "        \"recall\": recall,\n",
    "        \"f1_score\": f1,\n",
    "        \"count\": total,\n",
    "        \"correctly_detected\": correct,\n",
    "    }\n",
    "\n",
    "    print(f\"{cls}: {detection_rate:.4f} ({correct}/{total})\")"
   ]
  }
 ],
 "metadata": {
  "kernelspec": {
   "display_name": "venv",
   "language": "python",
   "name": "python3"
  },
  "language_info": {
   "codemirror_mode": {
    "name": "ipython",
    "version": 3
   },
   "file_extension": ".py",
   "mimetype": "text/x-python",
   "name": "python",
   "nbconvert_exporter": "python",
   "pygments_lexer": "ipython3",
   "version": "3.12.3"
  }
 },
 "nbformat": 4,
 "nbformat_minor": 2
}
