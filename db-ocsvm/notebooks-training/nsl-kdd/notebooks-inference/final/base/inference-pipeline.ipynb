{
 "cells": [
  {
   "cell_type": "code",
   "execution_count": null,
   "id": "21e4930a",
   "metadata": {},
   "outputs": [],
   "source": [
    "test_set_path = \"../../../datasets/test_set.csv\""
   ]
  },
  {
   "cell_type": "code",
   "execution_count": null,
   "id": "d2502c0a",
   "metadata": {},
   "outputs": [],
   "source": [
    "import pandas as pd\n",
    "\n",
    "test_df = pd.read_csv(test_set_path)\n",
    "\n",
    "print(\"Test Set Used:\", test_df.shape)"
   ]
  },
  {
   "cell_type": "code",
   "execution_count": null,
   "id": "cfe53198",
   "metadata": {},
   "outputs": [],
   "source": [
    "X_test = test_df.drop(\n",
    "    columns=[\"attack_binary\", \"attack_categorical\", \"attack_class\"]\n",
    ").values\n",
    "\n",
    "y_test = test_df[\"attack_binary\"].values\n",
    "\n",
    "y_test_class = test_df[\"attack_class\"].values\n",
    "\n",
    "print(f\"test set count: {test_df.shape[0]:,} with {test_df.shape[1]:,} features\")\n",
    "print(f\"unique values: {test_df['attack_class'].value_counts()}\")\n",
    "test_df.head(3)"
   ]
  },
  {
   "cell_type": "code",
   "execution_count": null,
   "id": "bccef814",
   "metadata": {},
   "outputs": [],
   "source": [
    "import onnxruntime as ort\n",
    "\n",
    "ocsvm_onnx_path = \"saved_models/onnx/base_ocsvm_nsl_kdd.onnx\"\n",
    "\n",
    "# Create an ONNX Runtime session\n",
    "session = ort.InferenceSession(ocsvm_onnx_path)\n",
    "\n",
    "# Prepare some test data\n",
    "input_name = session.get_inputs()[0].name\n",
    "output_name = session.get_outputs()[0].name\n",
    "\n",
    "# Run inference\n",
    "test_pred_onnx = session.run(\n",
    "    [output_name], {input_name: X_test.astype(\"float32\")}\n",
    ")[0]"
   ]
  },
  {
   "cell_type": "code",
   "execution_count": null,
   "id": "9244625a",
   "metadata": {},
   "outputs": [],
   "source": [
    "import seaborn as sns\n",
    "import matplotlib.pyplot as plt\n",
    "from sklearn.metrics import confusion_matrix\n",
    "\n",
    "cm = confusion_matrix(y_test, test_pred_onnx, labels=[-1, 1])\n",
    "\n",
    "\n",
    "def plot_confusion_matrix(cm, labels, title):\n",
    "    plt.figure(figsize=(5, 4))\n",
    "    sns.heatmap(\n",
    "        cm, annot=True, fmt=\"d\", cmap=\"Blues\", xticklabels=labels, yticklabels=labels\n",
    "    )\n",
    "    plt.xlabel(\"Predicted Label\")\n",
    "    plt.ylabel(\"Actual Label\")\n",
    "    plt.title(title)\n",
    "    plt.show()\n",
    "\n",
    "\n",
    "print(\"Confusion Matrix of ONNX OCSVM Predictions\")\n",
    "plot_confusion_matrix(cm, [\"Anomaly\", \"Normal\"], \"Confusion Matrix (Anomaly vs Normal)\")"
   ]
  },
  {
   "cell_type": "code",
   "execution_count": null,
   "id": "873e9560",
   "metadata": {},
   "outputs": [],
   "source": [
    "from sklearn.metrics import (\n",
    "    classification_report,\n",
    "    precision_score,\n",
    "    recall_score,\n",
    "    f1_score,\n",
    "    accuracy_score,\n",
    ")\n",
    "\n",
    "print(\"Classification Report ONNX:\")\n",
    "print(classification_report(y_test, test_pred_onnx, target_names=[\"Anomaly\", \"Normal\"]))\n",
    "\n",
    "precision = precision_score(y_test, test_pred_onnx, pos_label=-1)\n",
    "recall = recall_score(y_test, test_pred_onnx, pos_label=-1)\n",
    "f1 = f1_score(y_test, test_pred_onnx, pos_label=-1)\n",
    "\n",
    "print(f\"Precision: {precision * 100:.2f}%\")\n",
    "print(f\"Recall: {recall * 100:.2f}%\")\n",
    "print(f\"F1 Score: {f1 * 100:.2f}%\")\n",
    "print(f\"Accuracy: {accuracy_score(y_test, test_pred_onnx) * 100:.2f}%\")"
   ]
  }
 ],
 "metadata": {
  "kernelspec": {
   "display_name": "venv",
   "language": "python",
   "name": "python3"
  },
  "language_info": {
   "codemirror_mode": {
    "name": "ipython",
    "version": 3
   },
   "file_extension": ".py",
   "mimetype": "text/x-python",
   "name": "python",
   "nbconvert_exporter": "python",
   "pygments_lexer": "ipython3",
   "version": "3.12.3"
  }
 },
 "nbformat": 4,
 "nbformat_minor": 5
}
