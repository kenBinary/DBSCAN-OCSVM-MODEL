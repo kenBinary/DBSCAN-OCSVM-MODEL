{
 "cells": [
  {
   "cell_type": "code",
   "execution_count": 1,
   "metadata": {},
   "outputs": [],
   "source": [
    "import torch\n",
    "import os\n",
    "\n",
    "device = \"cuda\" if torch.cuda.is_available() else \"cpu\"\n",
    "\n",
    "dbscan_optuna_storage_path = \"sqlite:///optuna_storage/dbscan_study.db\"\n",
    "ocsvm_optuna_storage_path = \"sqlite:///optuna_storage/dbocsvm_study.db\"\n",
    "\n",
    "train_set_path = \"/home/jbct/Projects/thesis/db-ocsvm/data/processed/NSL-KDD/minamax_scaler_new/train_set.csv\"\n",
    "val_set_path = \"/home/jbct/Projects/thesis/db-ocsvm/data/processed/NSL-KDD/minamax_scaler_new/validation_set.csv\"\n",
    "test_set_path = \"/home/jbct/Projects/thesis/db-ocsvm/data/processed/NSL-KDD/minamax_scaler_new/test_set.csv\"\n",
    "\n",
    "results_path = \"tuning_results/results_dbocsvm_01.json\"\n",
    "\n",
    "test_run = True\n",
    "\n",
    "if test_run:\n",
    "    with_storage_dbscan = False\n",
    "    with_storage_dbocsvm = False\n",
    "    sample_size = 0.1\n",
    "    use_sample = True\n",
    "    ocsvm_trials = 10\n",
    "\n",
    "else:\n",
    "    os.makedirs(\"optuna_storage\", exist_ok=True)\n",
    "    with_storage_dbscan = True\n",
    "    with_storage_dbocsvm = True\n",
    "    sample_size = 1.0\n",
    "    use_sample = False\n",
    "    ocsvm_trials = 1000\n",
    "\n",
    "\n",
    "dbscan_tuning_parameters = {\n",
    "    \"evaluation_metric\": \"silhouette\",  # silhouette, calinski_harabasz, davies_bouldin\n",
    "    \"distance_metric\": \"manhattan\",  # manhattan, euclidean, cosine\n",
    "    \"trials\": 10,\n",
    "}\n",
    "dbocsvm_tree_algorithm = \"ball_tree\"  # \"ball_tree\" or \"kd_tree\"\n",
    "\n",
    "existing_model_path = \"best_models/config_2/autoencoder_Model_1_hidden[64, 32]_latent8_lr0.01_bs128_optadam_actLeakyReLU_slp0.2_dr0.3_wd0.pth\"\n",
    "\n",
    "existing_model_architecture = {\n",
    "    \"input_dim\": 122,\n",
    "    \"hidden_dims\": [64, 32],\n",
    "    \"latent_dim\": 8,\n",
    "    \"activation_type\": \"LeakyReLU\",\n",
    "    \"negative_slope\": 0.2,\n",
    "    \"dropout_rate\": 0.3,\n",
    "    \"output_activation_type\": \"Sigmoid\",\n",
    "}"
   ]
  },
  {
   "cell_type": "code",
   "execution_count": 2,
   "metadata": {},
   "outputs": [],
   "source": [
    "# CHANGE\n",
    "override_dbscan_tuning = False\n",
    "dbscan_override_params = {\n",
    "    \"eps\": 0.5,\n",
    "    \"min_samples\": 5,\n",
    "    \"distance_metric\": \"manhattan\",\n",
    "    \"n_clusters\": 5,\n",
    "    \"cluster_data_points\": {\"-1\": 293, \"0\": 66992, \"1\": 57},\n",
    "}"
   ]
  },
  {
   "cell_type": "markdown",
   "metadata": {},
   "source": [
    "import dataset"
   ]
  },
  {
   "cell_type": "code",
   "execution_count": 3,
   "metadata": {},
   "outputs": [
    {
     "name": "stdout",
     "output_type": "stream",
     "text": [
      "(6734, 122)\n"
     ]
    },
    {
     "data": {
      "text/html": [
       "<div>\n",
       "<style scoped>\n",
       "    .dataframe tbody tr th:only-of-type {\n",
       "        vertical-align: middle;\n",
       "    }\n",
       "\n",
       "    .dataframe tbody tr th {\n",
       "        vertical-align: top;\n",
       "    }\n",
       "\n",
       "    .dataframe thead th {\n",
       "        text-align: right;\n",
       "    }\n",
       "</style>\n",
       "<table border=\"1\" class=\"dataframe\">\n",
       "  <thead>\n",
       "    <tr style=\"text-align: right;\">\n",
       "      <th></th>\n",
       "      <th>duration</th>\n",
       "      <th>src_bytes</th>\n",
       "      <th>dst_bytes</th>\n",
       "      <th>land</th>\n",
       "      <th>wrong_fragment</th>\n",
       "      <th>urgent</th>\n",
       "      <th>hot</th>\n",
       "      <th>num_failed_logins</th>\n",
       "      <th>logged_in</th>\n",
       "      <th>num_compromised</th>\n",
       "      <th>...</th>\n",
       "      <th>flag_REJ</th>\n",
       "      <th>flag_RSTO</th>\n",
       "      <th>flag_RSTOS0</th>\n",
       "      <th>flag_RSTR</th>\n",
       "      <th>flag_S0</th>\n",
       "      <th>flag_S1</th>\n",
       "      <th>flag_S2</th>\n",
       "      <th>flag_S3</th>\n",
       "      <th>flag_SF</th>\n",
       "      <th>flag_SH</th>\n",
       "    </tr>\n",
       "  </thead>\n",
       "  <tbody>\n",
       "    <tr>\n",
       "      <th>0</th>\n",
       "      <td>0.0</td>\n",
       "      <td>0.000009</td>\n",
       "      <td>0.000048</td>\n",
       "      <td>0.0</td>\n",
       "      <td>0.0</td>\n",
       "      <td>0.0</td>\n",
       "      <td>0.0</td>\n",
       "      <td>0.0</td>\n",
       "      <td>1.0</td>\n",
       "      <td>0.0</td>\n",
       "      <td>...</td>\n",
       "      <td>0.0</td>\n",
       "      <td>0.0</td>\n",
       "      <td>0.0</td>\n",
       "      <td>0.0</td>\n",
       "      <td>0.0</td>\n",
       "      <td>0.0</td>\n",
       "      <td>0.0</td>\n",
       "      <td>0.0</td>\n",
       "      <td>1.0</td>\n",
       "      <td>0.0</td>\n",
       "    </tr>\n",
       "  </tbody>\n",
       "</table>\n",
       "<p>1 rows × 122 columns</p>\n",
       "</div>"
      ],
      "text/plain": [
       "   duration  src_bytes  dst_bytes  land  wrong_fragment  urgent  hot  \\\n",
       "0       0.0   0.000009   0.000048   0.0             0.0     0.0  0.0   \n",
       "\n",
       "   num_failed_logins  logged_in  num_compromised  ...  flag_REJ  flag_RSTO  \\\n",
       "0                0.0        1.0              0.0  ...       0.0        0.0   \n",
       "\n",
       "   flag_RSTOS0  flag_RSTR  flag_S0  flag_S1  flag_S2  flag_S3  flag_SF  \\\n",
       "0          0.0        0.0      0.0      0.0      0.0      0.0      1.0   \n",
       "\n",
       "   flag_SH  \n",
       "0      0.0  \n",
       "\n",
       "[1 rows x 122 columns]"
      ]
     },
     "execution_count": 3,
     "metadata": {},
     "output_type": "execute_result"
    }
   ],
   "source": [
    "import pandas as pd\n",
    "\n",
    "train_df = pd.read_csv(train_set_path)\n",
    "\n",
    "if use_sample:\n",
    "    train_df = train_df.sample(frac=sample_size, random_state=42).reset_index(drop=True)\n",
    "\n",
    "print(train_df.shape)\n",
    "train_df.head(1)"
   ]
  },
  {
   "cell_type": "code",
   "execution_count": 4,
   "metadata": {},
   "outputs": [
    {
     "name": "stdout",
     "output_type": "stream",
     "text": [
      "(6734, 122)\n"
     ]
    }
   ],
   "source": [
    "from sklearn.model_selection import train_test_split\n",
    "\n",
    "X_train = train_df.values\n",
    "\n",
    "print(X_train.shape)"
   ]
  },
  {
   "cell_type": "code",
   "execution_count": 5,
   "metadata": {},
   "outputs": [
    {
     "name": "stdout",
     "output_type": "stream",
     "text": [
      "Input dimension: 122\n"
     ]
    }
   ],
   "source": [
    "import torch\n",
    "from torch.utils.data import DataLoader, TensorDataset\n",
    "\n",
    "# Convert to PyTorch tensors\n",
    "X_train_tensor = torch.FloatTensor(X_train)\n",
    "\n",
    "# Create data loaders\n",
    "train_dataset = TensorDataset(X_train_tensor)\n",
    "\n",
    "input_dim = X_train.shape[1]\n",
    "print(f\"Input dimension: {input_dim}\")"
   ]
  },
  {
   "cell_type": "markdown",
   "metadata": {},
   "source": [
    "use existing autoencoder"
   ]
  },
  {
   "cell_type": "code",
   "execution_count": 6,
   "metadata": {},
   "outputs": [],
   "source": [
    "from torch import nn\n",
    "from autoencoder import BatchNormAutoencoderV2\n",
    "\n",
    "autoencoder = BatchNormAutoencoderV2(\n",
    "    input_dim=existing_model_architecture[\"input_dim\"],\n",
    "    hidden_dims=existing_model_architecture[\"hidden_dims\"],\n",
    "    latent_dim=existing_model_architecture[\"latent_dim\"],\n",
    "    activation_type=existing_model_architecture[\"activation_type\"],\n",
    "    negative_slope=existing_model_architecture[\"negative_slope\"],\n",
    "    dropout_rate=existing_model_architecture[\"dropout_rate\"],\n",
    "    output_activation_type=existing_model_architecture[\"output_activation_type\"],\n",
    ")"
   ]
  },
  {
   "cell_type": "code",
   "execution_count": 7,
   "metadata": {},
   "outputs": [
    {
     "data": {
      "text/plain": [
       "BatchNormAutoencoderV2(\n",
       "  (encoder): Sequential(\n",
       "    (0): Linear(in_features=122, out_features=64, bias=True)\n",
       "    (1): BatchNorm1d(64, eps=1e-05, momentum=0.1, affine=True, track_running_stats=True)\n",
       "    (2): LeakyReLU(negative_slope=0.2)\n",
       "    (3): Dropout(p=0.3, inplace=False)\n",
       "    (4): Linear(in_features=64, out_features=32, bias=True)\n",
       "    (5): BatchNorm1d(32, eps=1e-05, momentum=0.1, affine=True, track_running_stats=True)\n",
       "    (6): LeakyReLU(negative_slope=0.2)\n",
       "    (7): Dropout(p=0.3, inplace=False)\n",
       "    (8): Linear(in_features=32, out_features=8, bias=True)\n",
       "  )\n",
       "  (decoder): Sequential(\n",
       "    (0): Linear(in_features=8, out_features=32, bias=True)\n",
       "    (1): BatchNorm1d(32, eps=1e-05, momentum=0.1, affine=True, track_running_stats=True)\n",
       "    (2): LeakyReLU(negative_slope=0.2)\n",
       "    (3): Dropout(p=0.3, inplace=False)\n",
       "    (4): Linear(in_features=32, out_features=64, bias=True)\n",
       "    (5): BatchNorm1d(64, eps=1e-05, momentum=0.1, affine=True, track_running_stats=True)\n",
       "    (6): LeakyReLU(negative_slope=0.2)\n",
       "    (7): Dropout(p=0.3, inplace=False)\n",
       "    (8): Linear(in_features=64, out_features=122, bias=True)\n",
       "    (9): Sigmoid()\n",
       "  )\n",
       ")"
      ]
     },
     "execution_count": 7,
     "metadata": {},
     "output_type": "execute_result"
    }
   ],
   "source": [
    "# Load best model\n",
    "checkpoint = torch.load(existing_model_path)\n",
    "autoencoder.load_state_dict(checkpoint[\"model_state_dict\"])\n",
    "\n",
    "autoencoder.eval()"
   ]
  },
  {
   "cell_type": "markdown",
   "metadata": {},
   "source": [
    "dbscan tuning"
   ]
  },
  {
   "cell_type": "code",
   "execution_count": 8,
   "metadata": {},
   "outputs": [],
   "source": [
    "import numpy as np\n",
    "\n",
    "# extract encoded features\n",
    "X_train_tensor = torch.FloatTensor(X_train)\n",
    "X_train_dataset = TensorDataset(X_train_tensor)\n",
    "X_train_loader = DataLoader(X_train_dataset, batch_size=256)\n",
    "\n",
    "\n",
    "X_encoded = []\n",
    "with torch.no_grad():\n",
    "    for data in X_train_loader:\n",
    "        data_x = data[0].to(device)\n",
    "        encoded = autoencoder.encode(data_x)\n",
    "        X_encoded.append(encoded.cpu().numpy())\n",
    "X_encoded = np.vstack(X_encoded)"
   ]
  },
  {
   "cell_type": "code",
   "execution_count": 9,
   "metadata": {},
   "outputs": [
    {
     "name": "stdout",
     "output_type": "stream",
     "text": [
      "12.041840557008982 48.16736222803593\n"
     ]
    },
    {
     "name": "stderr",
     "output_type": "stream",
     "text": [
      "/home/jbct/Projects/thesis/db-ocsvm/venv/lib/python3.12/site-packages/tqdm/auto.py:21: TqdmWarning: IProgress not found. Please update jupyter and ipywidgets. See https://ipywidgets.readthedocs.io/en/stable/user_install.html\n",
      "  from .autonotebook import tqdm as notebook_tqdm\n"
     ]
    }
   ],
   "source": [
    "from utils import find_eps_range_with_elbow_method\n",
    "\n",
    "input_dim_encoded = X_encoded.shape[1]\n",
    "\n",
    "k_for_elbow = int((20 + input_dim_encoded * 2) / 2)\n",
    "# CHANGE\n",
    "if not override_dbscan_tuning:\n",
    "    min_eps, max_eps = find_eps_range_with_elbow_method(\n",
    "        X_encoded,\n",
    "        k=k_for_elbow,\n",
    "        plot=False,\n",
    "    )\n",
    "    min_eps, max_eps\n",
    "    print(min_eps, max_eps)"
   ]
  },
  {
   "cell_type": "code",
   "execution_count": 10,
   "metadata": {},
   "outputs": [
    {
     "name": "stderr",
     "output_type": "stream",
     "text": [
      "[I 2025-03-22 15:00:21,816] A new study created in memory with name: no-name-840cbbd0-4f8f-41c1-a3df-14f9c87dfa61\n"
     ]
    },
    {
     "name": "stdout",
     "output_type": "stream",
     "text": [
      "20\n",
      "{0: 4930, 1: 289, 2: 66, 3: 26, 4: 834, 5: 94, 6: 42, 7: 30, 8: 91, 9: 63, 10: 46, 11: 13, 12: 28, 13: 67, 14: 13, 15: 13, 16: 6, 17: 9, 18: 7, 19: 6, -1: 61}\n"
     ]
    },
    {
     "name": "stderr",
     "output_type": "stream",
     "text": [
      "[I 2025-03-22 15:00:23,978] Trial 0 finished with value: 0.5079969763755798 and parameters: {'eps': 46.89610723861345, 'min_samples': 6}. Best is trial 0 with value: 0.5079969763755798.\n"
     ]
    },
    {
     "name": "stdout",
     "output_type": "stream",
     "text": [
      "25\n",
      "{0: 383, 1: 3413, 2: 285, 3: 61, 4: 800, 5: 211, 6: 86, 7: 93, 8: 17, 9: 313, 10: 40, 11: 30, 12: 26, 13: 19, 14: 62, 15: 135, 16: 52, 17: 17, 18: 50, 19: 43, 20: 51, 21: 27, 22: 20, 23: 39, 24: 16, -1: 445}\n"
     ]
    },
    {
     "name": "stderr",
     "output_type": "stream",
     "text": [
      "[I 2025-03-22 15:00:25,344] Trial 1 finished with value: 0.5664207935333252 and parameters: {'eps': 24.262438595319438, 'min_samples': 12}. Best is trial 1 with value: 0.5664207935333252.\n"
     ]
    },
    {
     "name": "stdout",
     "output_type": "stream",
     "text": [
      "35\n",
      "{0: 349, 1: 3271, 2: 270, 3: 55, 4: 718, 5: 80, 6: 191, 7: 84, 8: 14, 9: 293, 10: 44, 11: 18, 12: 48, 13: 39, 14: 33, 15: 120, 16: 9, 17: 24, 18: 44, 19: 22, 20: 24, 21: 25, 22: 21, 23: 13, 24: 20, 25: 17, 26: 15, 27: 10, 28: 8, 29: 18, 30: 9, 31: 10, 32: 9, 33: 10, 34: 9, -1: 790}\n"
     ]
    },
    {
     "name": "stderr",
     "output_type": "stream",
     "text": [
      "[I 2025-03-22 15:00:26,083] Trial 2 finished with value: 0.43399566411972046 and parameters: {'eps': 13.101446893693169, 'min_samples': 9}. Best is trial 1 with value: 0.5664207935333252.\n"
     ]
    },
    {
     "name": "stdout",
     "output_type": "stream",
     "text": [
      "23\n",
      "{0: 351, 1: 3328, 2: 275, 3: 36, 4: 716, 5: 82, 6: 195, 7: 91, 8: 299, 9: 22, 10: 48, 11: 39, 12: 33, 13: 125, 14: 24, 15: 46, 16: 21, 17: 23, 18: 32, 19: 15, 20: 26, 21: 19, 22: 19, -1: 869}\n"
     ]
    },
    {
     "name": "stderr",
     "output_type": "stream",
     "text": [
      "[I 2025-03-22 15:00:26,896] Trial 3 finished with value: 0.5952938199043274 and parameters: {'eps': 16.030210554032887, 'min_samples': 15}. Best is trial 3 with value: 0.5952938199043274.\n"
     ]
    },
    {
     "name": "stdout",
     "output_type": "stream",
     "text": [
      "53\n",
      "{0: 384, 1: 3419, 2: 286, 3: 4, 4: 66, 5: 25, 6: 830, 7: 236, 8: 280, 9: 93, 10: 4, 11: 321, 12: 41, 13: 42, 14: 30, 15: 26, 16: 63, 17: 28, 18: 58, 19: 50, 20: 4, 21: 4, 22: 3, 23: 18, 24: 64, 25: 54, 26: 8, 27: 6, 28: 18, 29: 12, 30: 6, 31: 4, 32: 8, 33: 11, 34: 10, 35: 4, 36: 5, 37: 3, 38: 13, 39: 3, 40: 5, 41: 3, 42: 3, 43: 3, 44: 6, 45: 3, 46: 4, 47: 4, 48: 4, 49: 3, 50: 3, 51: 3, 52: 3, -1: 143}\n"
     ]
    },
    {
     "name": "stderr",
     "output_type": "stream",
     "text": [
      "[I 2025-03-22 15:00:28,061] Trial 4 finished with value: 0.42953962087631226 and parameters: {'eps': 28.029589275983646, 'min_samples': 3}. Best is trial 3 with value: 0.5952938199043274.\n"
     ]
    },
    {
     "name": "stdout",
     "output_type": "stream",
     "text": [
      "107\n",
      "{0: 385, 1: 3821, 2: 287, 3: 5, 4: 66, 5: 25, 6: 2, 7: 835, 8: 298, 9: 93, 10: 4, 11: 326, 12: 2, 13: 42, 14: 30, 15: 26, 16: 63, 17: 8, 18: 1, 19: 28, 20: 64, 21: 8, 22: 1, 23: 4, 24: 4, 25: 26, 26: 67, 27: 12, 28: 12, 29: 6, 30: 1, 31: 18, 32: 2, 33: 4, 34: 12, 35: 7, 36: 2, 37: 11, 38: 4, 39: 2, 40: 2, 41: 1, 42: 15, 43: 3, 44: 3, 45: 1, 46: 2, 47: 4, 48: 2, 49: 1, 50: 2, 51: 1, 52: 3, 53: 1, 54: 1, 55: 2, 56: 2, 57: 1, 58: 1, 59: 3, 60: 4, 61: 7, 62: 1, 63: 1, 64: 2, 65: 2, 66: 1, 67: 1, 68: 2, 69: 2, 70: 1, 71: 3, 72: 2, 73: 1, 74: 3, 75: 2, 76: 1, 77: 1, 78: 1, 79: 1, 80: 1, 81: 1, 82: 2, 83: 1, 84: 2, 85: 1, 86: 1, 87: 1, 88: 1, 89: 1, 90: 1, 91: 1, 92: 1, 93: 1, 94: 1, 95: 1, 96: 1, 97: 1, 98: 1, 99: 2, 100: 1, 101: 1, 102: 1, 103: 1, 104: 1, 105: 1, 106: 1}\n"
     ]
    },
    {
     "name": "stderr",
     "output_type": "stream",
     "text": [
      "[I 2025-03-22 15:00:29,283] Trial 5 finished with value: 0.38646483421325684 and parameters: {'eps': 36.23156846985679, 'min_samples': 1}. Best is trial 3 with value: 0.5952938199043274.\n"
     ]
    },
    {
     "name": "stdout",
     "output_type": "stream",
     "text": [
      "19\n",
      "{0: 4946, 1: 289, 2: 66, 3: 26, 4: 834, 5: 94, 6: 42, 7: 30, 8: 92, 9: 63, 10: 46, 11: 9, 12: 28, 13: 67, 14: 13, 15: 13, 16: 6, 17: 7, 18: 6, -1: 57}\n"
     ]
    },
    {
     "name": "stderr",
     "output_type": "stream",
     "text": [
      "[I 2025-03-22 15:00:30,492] Trial 6 finished with value: 0.5058961510658264 and parameters: {'eps': 47.99440511712989, 'min_samples': 6}. Best is trial 3 with value: 0.5952938199043274.\n"
     ]
    },
    {
     "name": "stdout",
     "output_type": "stream",
     "text": [
      "33\n",
      "{0: 384, 1: 3418, 2: 286, 3: 66, 4: 24, 5: 830, 6: 233, 7: 280, 8: 93, 9: 321, 10: 42, 11: 42, 12: 30, 13: 26, 14: 63, 15: 28, 16: 58, 17: 50, 18: 18, 19: 65, 20: 54, 21: 12, 22: 6, 23: 18, 24: 11, 25: 6, 26: 8, 27: 11, 28: 10, 29: 5, 30: 13, 31: 6, 32: 6, -1: 211}\n"
     ]
    },
    {
     "name": "stderr",
     "output_type": "stream",
     "text": [
      "[I 2025-03-22 15:00:31,569] Trial 7 finished with value: 0.4702093005180359 and parameters: {'eps': 29.29171412808236, 'min_samples': 5}. Best is trial 3 with value: 0.5952938199043274.\n"
     ]
    },
    {
     "name": "stdout",
     "output_type": "stream",
     "text": [
      "16\n",
      "{0: 4891, 1: 289, 2: 66, 3: 26, 4: 833, 5: 94, 6: 42, 7: 30, 8: 87, 9: 63, 10: 46, 11: 28, 12: 66, 13: 12, 14: 23, 15: 12, -1: 126}\n"
     ]
    },
    {
     "name": "stderr",
     "output_type": "stream",
     "text": [
      "[I 2025-03-22 15:00:32,689] Trial 8 finished with value: 0.5001127123832703 and parameters: {'eps': 47.52527257891838, 'min_samples': 12}. Best is trial 3 with value: 0.5952938199043274.\n"
     ]
    },
    {
     "name": "stdout",
     "output_type": "stream",
     "text": [
      "19\n",
      "{0: 384, 1: 3772, 2: 287, 3: 66, 4: 830, 5: 239, 6: 93, 7: 324, 8: 44, 9: 42, 10: 30, 11: 26, 12: 63, 13: 59, 14: 65, 15: 55, 16: 17, 17: 20, 18: 16, -1: 302}\n"
     ]
    },
    {
     "name": "stderr",
     "output_type": "stream",
     "text": [
      "[I 2025-03-22 15:00:33,916] Trial 9 finished with value: 0.5180031061172485 and parameters: {'eps': 37.094580584649634, 'min_samples': 16}. Best is trial 3 with value: 0.5952938199043274.\n"
     ]
    }
   ],
   "source": [
    "from utils import objective_dbscan\n",
    "import optuna\n",
    "\n",
    "dbscan_objective_lambda = lambda trial: objective_dbscan(\n",
    "    trial,\n",
    "    X_encoded=X_encoded,\n",
    "    evaluation_metric=dbscan_tuning_parameters[\"evaluation_metric\"],\n",
    "    eps_range=(min_eps, max_eps),\n",
    "    min_samples_range=(1, input_dim_encoded * 2),\n",
    "    distance_metric=dbscan_tuning_parameters[\"distance_metric\"],\n",
    "    n_jobs=-1,\n",
    ")\n",
    "\n",
    "if with_storage_dbscan:\n",
    "    dbscan_study = optuna.create_study(\n",
    "        direction=\"maximize\",\n",
    "        storage=dbscan_optuna_storage_path,\n",
    "        study_name=\"dbscan_study\",\n",
    "        load_if_exists=True,\n",
    "    )\n",
    "    dbscan_study.optimize(\n",
    "        dbscan_objective_lambda,\n",
    "        n_trials=dbscan_tuning_parameters[\"trials\"],\n",
    "    )\n",
    "else:\n",
    "    dbscan_study = optuna.create_study(direction=\"maximize\")\n",
    "    dbscan_study.optimize(\n",
    "        dbscan_objective_lambda,\n",
    "        n_trials=dbscan_tuning_parameters[\"trials\"],\n",
    "    )"
   ]
  },
  {
   "cell_type": "code",
   "execution_count": 27,
   "metadata": {},
   "outputs": [
    {
     "data": {
      "application/vnd.plotly.v1+json": {
       "config": {
        "plotlyServerURL": "https://plot.ly"
       },
       "data": [
        {
         "mode": "markers",
         "name": "Objective Value",
         "type": "scatter",
         "x": [
          0,
          1,
          2,
          3,
          4,
          5,
          6,
          7,
          8,
          9
         ],
         "y": [
          0.5079969763755798,
          0.5664207935333252,
          0.43399566411972046,
          0.5952938199043274,
          0.42953962087631226,
          0.38646483421325684,
          0.5058961510658264,
          0.4702093005180359,
          0.5001127123832703,
          0.5180031061172485
         ]
        },
        {
         "mode": "lines",
         "name": "Best Value",
         "type": "scatter",
         "x": [
          0,
          1,
          2,
          3,
          4,
          5,
          6,
          7,
          8,
          9
         ],
         "y": [
          0.5079969763755798,
          0.5664207935333252,
          0.5664207935333252,
          0.5952938199043274,
          0.5952938199043274,
          0.5952938199043274,
          0.5952938199043274,
          0.5952938199043274,
          0.5952938199043274,
          0.5952938199043274
         ]
        },
        {
         "marker": {
          "color": "#cccccc"
         },
         "mode": "markers",
         "name": "Infeasible Trial",
         "showlegend": false,
         "type": "scatter",
         "x": [],
         "y": []
        }
       ],
       "layout": {
        "template": {
         "data": {
          "bar": [
           {
            "error_x": {
             "color": "#2a3f5f"
            },
            "error_y": {
             "color": "#2a3f5f"
            },
            "marker": {
             "line": {
              "color": "#E5ECF6",
              "width": 0.5
             },
             "pattern": {
              "fillmode": "overlay",
              "size": 10,
              "solidity": 0.2
             }
            },
            "type": "bar"
           }
          ],
          "barpolar": [
           {
            "marker": {
             "line": {
              "color": "#E5ECF6",
              "width": 0.5
             },
             "pattern": {
              "fillmode": "overlay",
              "size": 10,
              "solidity": 0.2
             }
            },
            "type": "barpolar"
           }
          ],
          "carpet": [
           {
            "aaxis": {
             "endlinecolor": "#2a3f5f",
             "gridcolor": "white",
             "linecolor": "white",
             "minorgridcolor": "white",
             "startlinecolor": "#2a3f5f"
            },
            "baxis": {
             "endlinecolor": "#2a3f5f",
             "gridcolor": "white",
             "linecolor": "white",
             "minorgridcolor": "white",
             "startlinecolor": "#2a3f5f"
            },
            "type": "carpet"
           }
          ],
          "choropleth": [
           {
            "colorbar": {
             "outlinewidth": 0,
             "ticks": ""
            },
            "type": "choropleth"
           }
          ],
          "contour": [
           {
            "colorbar": {
             "outlinewidth": 0,
             "ticks": ""
            },
            "colorscale": [
             [
              0,
              "#0d0887"
             ],
             [
              0.1111111111111111,
              "#46039f"
             ],
             [
              0.2222222222222222,
              "#7201a8"
             ],
             [
              0.3333333333333333,
              "#9c179e"
             ],
             [
              0.4444444444444444,
              "#bd3786"
             ],
             [
              0.5555555555555556,
              "#d8576b"
             ],
             [
              0.6666666666666666,
              "#ed7953"
             ],
             [
              0.7777777777777778,
              "#fb9f3a"
             ],
             [
              0.8888888888888888,
              "#fdca26"
             ],
             [
              1,
              "#f0f921"
             ]
            ],
            "type": "contour"
           }
          ],
          "contourcarpet": [
           {
            "colorbar": {
             "outlinewidth": 0,
             "ticks": ""
            },
            "type": "contourcarpet"
           }
          ],
          "heatmap": [
           {
            "colorbar": {
             "outlinewidth": 0,
             "ticks": ""
            },
            "colorscale": [
             [
              0,
              "#0d0887"
             ],
             [
              0.1111111111111111,
              "#46039f"
             ],
             [
              0.2222222222222222,
              "#7201a8"
             ],
             [
              0.3333333333333333,
              "#9c179e"
             ],
             [
              0.4444444444444444,
              "#bd3786"
             ],
             [
              0.5555555555555556,
              "#d8576b"
             ],
             [
              0.6666666666666666,
              "#ed7953"
             ],
             [
              0.7777777777777778,
              "#fb9f3a"
             ],
             [
              0.8888888888888888,
              "#fdca26"
             ],
             [
              1,
              "#f0f921"
             ]
            ],
            "type": "heatmap"
           }
          ],
          "heatmapgl": [
           {
            "colorbar": {
             "outlinewidth": 0,
             "ticks": ""
            },
            "colorscale": [
             [
              0,
              "#0d0887"
             ],
             [
              0.1111111111111111,
              "#46039f"
             ],
             [
              0.2222222222222222,
              "#7201a8"
             ],
             [
              0.3333333333333333,
              "#9c179e"
             ],
             [
              0.4444444444444444,
              "#bd3786"
             ],
             [
              0.5555555555555556,
              "#d8576b"
             ],
             [
              0.6666666666666666,
              "#ed7953"
             ],
             [
              0.7777777777777778,
              "#fb9f3a"
             ],
             [
              0.8888888888888888,
              "#fdca26"
             ],
             [
              1,
              "#f0f921"
             ]
            ],
            "type": "heatmapgl"
           }
          ],
          "histogram": [
           {
            "marker": {
             "pattern": {
              "fillmode": "overlay",
              "size": 10,
              "solidity": 0.2
             }
            },
            "type": "histogram"
           }
          ],
          "histogram2d": [
           {
            "colorbar": {
             "outlinewidth": 0,
             "ticks": ""
            },
            "colorscale": [
             [
              0,
              "#0d0887"
             ],
             [
              0.1111111111111111,
              "#46039f"
             ],
             [
              0.2222222222222222,
              "#7201a8"
             ],
             [
              0.3333333333333333,
              "#9c179e"
             ],
             [
              0.4444444444444444,
              "#bd3786"
             ],
             [
              0.5555555555555556,
              "#d8576b"
             ],
             [
              0.6666666666666666,
              "#ed7953"
             ],
             [
              0.7777777777777778,
              "#fb9f3a"
             ],
             [
              0.8888888888888888,
              "#fdca26"
             ],
             [
              1,
              "#f0f921"
             ]
            ],
            "type": "histogram2d"
           }
          ],
          "histogram2dcontour": [
           {
            "colorbar": {
             "outlinewidth": 0,
             "ticks": ""
            },
            "colorscale": [
             [
              0,
              "#0d0887"
             ],
             [
              0.1111111111111111,
              "#46039f"
             ],
             [
              0.2222222222222222,
              "#7201a8"
             ],
             [
              0.3333333333333333,
              "#9c179e"
             ],
             [
              0.4444444444444444,
              "#bd3786"
             ],
             [
              0.5555555555555556,
              "#d8576b"
             ],
             [
              0.6666666666666666,
              "#ed7953"
             ],
             [
              0.7777777777777778,
              "#fb9f3a"
             ],
             [
              0.8888888888888888,
              "#fdca26"
             ],
             [
              1,
              "#f0f921"
             ]
            ],
            "type": "histogram2dcontour"
           }
          ],
          "mesh3d": [
           {
            "colorbar": {
             "outlinewidth": 0,
             "ticks": ""
            },
            "type": "mesh3d"
           }
          ],
          "parcoords": [
           {
            "line": {
             "colorbar": {
              "outlinewidth": 0,
              "ticks": ""
             }
            },
            "type": "parcoords"
           }
          ],
          "pie": [
           {
            "automargin": true,
            "type": "pie"
           }
          ],
          "scatter": [
           {
            "fillpattern": {
             "fillmode": "overlay",
             "size": 10,
             "solidity": 0.2
            },
            "type": "scatter"
           }
          ],
          "scatter3d": [
           {
            "line": {
             "colorbar": {
              "outlinewidth": 0,
              "ticks": ""
             }
            },
            "marker": {
             "colorbar": {
              "outlinewidth": 0,
              "ticks": ""
             }
            },
            "type": "scatter3d"
           }
          ],
          "scattercarpet": [
           {
            "marker": {
             "colorbar": {
              "outlinewidth": 0,
              "ticks": ""
             }
            },
            "type": "scattercarpet"
           }
          ],
          "scattergeo": [
           {
            "marker": {
             "colorbar": {
              "outlinewidth": 0,
              "ticks": ""
             }
            },
            "type": "scattergeo"
           }
          ],
          "scattergl": [
           {
            "marker": {
             "colorbar": {
              "outlinewidth": 0,
              "ticks": ""
             }
            },
            "type": "scattergl"
           }
          ],
          "scattermapbox": [
           {
            "marker": {
             "colorbar": {
              "outlinewidth": 0,
              "ticks": ""
             }
            },
            "type": "scattermapbox"
           }
          ],
          "scatterpolar": [
           {
            "marker": {
             "colorbar": {
              "outlinewidth": 0,
              "ticks": ""
             }
            },
            "type": "scatterpolar"
           }
          ],
          "scatterpolargl": [
           {
            "marker": {
             "colorbar": {
              "outlinewidth": 0,
              "ticks": ""
             }
            },
            "type": "scatterpolargl"
           }
          ],
          "scatterternary": [
           {
            "marker": {
             "colorbar": {
              "outlinewidth": 0,
              "ticks": ""
             }
            },
            "type": "scatterternary"
           }
          ],
          "surface": [
           {
            "colorbar": {
             "outlinewidth": 0,
             "ticks": ""
            },
            "colorscale": [
             [
              0,
              "#0d0887"
             ],
             [
              0.1111111111111111,
              "#46039f"
             ],
             [
              0.2222222222222222,
              "#7201a8"
             ],
             [
              0.3333333333333333,
              "#9c179e"
             ],
             [
              0.4444444444444444,
              "#bd3786"
             ],
             [
              0.5555555555555556,
              "#d8576b"
             ],
             [
              0.6666666666666666,
              "#ed7953"
             ],
             [
              0.7777777777777778,
              "#fb9f3a"
             ],
             [
              0.8888888888888888,
              "#fdca26"
             ],
             [
              1,
              "#f0f921"
             ]
            ],
            "type": "surface"
           }
          ],
          "table": [
           {
            "cells": {
             "fill": {
              "color": "#EBF0F8"
             },
             "line": {
              "color": "white"
             }
            },
            "header": {
             "fill": {
              "color": "#C8D4E3"
             },
             "line": {
              "color": "white"
             }
            },
            "type": "table"
           }
          ]
         },
         "layout": {
          "annotationdefaults": {
           "arrowcolor": "#2a3f5f",
           "arrowhead": 0,
           "arrowwidth": 1
          },
          "autotypenumbers": "strict",
          "coloraxis": {
           "colorbar": {
            "outlinewidth": 0,
            "ticks": ""
           }
          },
          "colorscale": {
           "diverging": [
            [
             0,
             "#8e0152"
            ],
            [
             0.1,
             "#c51b7d"
            ],
            [
             0.2,
             "#de77ae"
            ],
            [
             0.3,
             "#f1b6da"
            ],
            [
             0.4,
             "#fde0ef"
            ],
            [
             0.5,
             "#f7f7f7"
            ],
            [
             0.6,
             "#e6f5d0"
            ],
            [
             0.7,
             "#b8e186"
            ],
            [
             0.8,
             "#7fbc41"
            ],
            [
             0.9,
             "#4d9221"
            ],
            [
             1,
             "#276419"
            ]
           ],
           "sequential": [
            [
             0,
             "#0d0887"
            ],
            [
             0.1111111111111111,
             "#46039f"
            ],
            [
             0.2222222222222222,
             "#7201a8"
            ],
            [
             0.3333333333333333,
             "#9c179e"
            ],
            [
             0.4444444444444444,
             "#bd3786"
            ],
            [
             0.5555555555555556,
             "#d8576b"
            ],
            [
             0.6666666666666666,
             "#ed7953"
            ],
            [
             0.7777777777777778,
             "#fb9f3a"
            ],
            [
             0.8888888888888888,
             "#fdca26"
            ],
            [
             1,
             "#f0f921"
            ]
           ],
           "sequentialminus": [
            [
             0,
             "#0d0887"
            ],
            [
             0.1111111111111111,
             "#46039f"
            ],
            [
             0.2222222222222222,
             "#7201a8"
            ],
            [
             0.3333333333333333,
             "#9c179e"
            ],
            [
             0.4444444444444444,
             "#bd3786"
            ],
            [
             0.5555555555555556,
             "#d8576b"
            ],
            [
             0.6666666666666666,
             "#ed7953"
            ],
            [
             0.7777777777777778,
             "#fb9f3a"
            ],
            [
             0.8888888888888888,
             "#fdca26"
            ],
            [
             1,
             "#f0f921"
            ]
           ]
          },
          "colorway": [
           "#636efa",
           "#EF553B",
           "#00cc96",
           "#ab63fa",
           "#FFA15A",
           "#19d3f3",
           "#FF6692",
           "#B6E880",
           "#FF97FF",
           "#FECB52"
          ],
          "font": {
           "color": "#2a3f5f"
          },
          "geo": {
           "bgcolor": "white",
           "lakecolor": "white",
           "landcolor": "#E5ECF6",
           "showlakes": true,
           "showland": true,
           "subunitcolor": "white"
          },
          "hoverlabel": {
           "align": "left"
          },
          "hovermode": "closest",
          "mapbox": {
           "style": "light"
          },
          "paper_bgcolor": "white",
          "plot_bgcolor": "#E5ECF6",
          "polar": {
           "angularaxis": {
            "gridcolor": "white",
            "linecolor": "white",
            "ticks": ""
           },
           "bgcolor": "#E5ECF6",
           "radialaxis": {
            "gridcolor": "white",
            "linecolor": "white",
            "ticks": ""
           }
          },
          "scene": {
           "xaxis": {
            "backgroundcolor": "#E5ECF6",
            "gridcolor": "white",
            "gridwidth": 2,
            "linecolor": "white",
            "showbackground": true,
            "ticks": "",
            "zerolinecolor": "white"
           },
           "yaxis": {
            "backgroundcolor": "#E5ECF6",
            "gridcolor": "white",
            "gridwidth": 2,
            "linecolor": "white",
            "showbackground": true,
            "ticks": "",
            "zerolinecolor": "white"
           },
           "zaxis": {
            "backgroundcolor": "#E5ECF6",
            "gridcolor": "white",
            "gridwidth": 2,
            "linecolor": "white",
            "showbackground": true,
            "ticks": "",
            "zerolinecolor": "white"
           }
          },
          "shapedefaults": {
           "line": {
            "color": "#2a3f5f"
           }
          },
          "ternary": {
           "aaxis": {
            "gridcolor": "white",
            "linecolor": "white",
            "ticks": ""
           },
           "baxis": {
            "gridcolor": "white",
            "linecolor": "white",
            "ticks": ""
           },
           "bgcolor": "#E5ECF6",
           "caxis": {
            "gridcolor": "white",
            "linecolor": "white",
            "ticks": ""
           }
          },
          "title": {
           "x": 0.05
          },
          "xaxis": {
           "automargin": true,
           "gridcolor": "white",
           "linecolor": "white",
           "ticks": "",
           "title": {
            "standoff": 15
           },
           "zerolinecolor": "white",
           "zerolinewidth": 2
          },
          "yaxis": {
           "automargin": true,
           "gridcolor": "white",
           "linecolor": "white",
           "ticks": "",
           "title": {
            "standoff": 15
           },
           "zerolinecolor": "white",
           "zerolinewidth": 2
          }
         }
        },
        "title": {
         "text": "Optimization History Plot"
        },
        "xaxis": {
         "title": {
          "text": "Trial"
         }
        },
        "yaxis": {
         "title": {
          "text": "Objective Value"
         }
        }
       }
      }
     },
     "metadata": {},
     "output_type": "display_data"
    }
   ],
   "source": [
    "import optuna\n",
    "from plotly.io import show\n",
    "\n",
    "fig = optuna.visualization.plot_optimization_history(dbscan_study)\n",
    "show(fig)"
   ]
  },
  {
   "cell_type": "code",
   "execution_count": 28,
   "metadata": {},
   "outputs": [
    {
     "data": {
      "application/vnd.plotly.v1+json": {
       "config": {
        "plotlyServerURL": "https://plot.ly"
       },
       "data": [
        {
         "mode": "lines",
         "name": "no-name-840cbbd0-4f8f-41c1-a3df-14f9c87dfa61",
         "type": "scatter",
         "x": [
          0.38646483421325684,
          0.38857421790710606,
          0.3906836016009552,
          0.39279298529480444,
          0.3949023689886536,
          0.3970117526825028,
          0.39912113637635205,
          0.4012305200702012,
          0.40333990376405043,
          0.4054492874578996,
          0.4075586711517488,
          0.409668054845598,
          0.4117774385394472,
          0.4138868222332964,
          0.4159962059271456,
          0.4181055896209948,
          0.420214973314844,
          0.4223243570086932,
          0.42443374070254236,
          0.4265431243963916,
          0.4286525080902408,
          0.43076189178408997,
          0.4328712754779392,
          0.4349806591717884,
          0.4370900428656376,
          0.4391994265594868,
          0.44130881025333596,
          0.4434181939471852,
          0.44552757764103434,
          0.44763696133488357,
          0.4497463450287328,
          0.45185572872258195,
          0.45396511241643117,
          0.45607449611028034,
          0.45818387980412956,
          0.4602932634979787,
          0.46240264719182794,
          0.46451203088567716,
          0.46662141457952633,
          0.46873079827337555,
          0.47084018196722477,
          0.47294956566107393,
          0.4750589493549231,
          0.4771683330487723,
          0.47927771674262154,
          0.4813871004364707,
          0.4834964841303199,
          0.48560586782416915,
          0.4877152515180183,
          0.48982463521186753,
          0.4919340189057167,
          0.4940434025995659,
          0.4961527862934151,
          0.4982621699872643,
          0.5003715536811135,
          0.5024809373749627,
          0.5045903210688119,
          0.5066997047626611,
          0.5088090884565103,
          0.5109184721503595,
          0.5130278558442087,
          0.5151372395380579,
          0.5172466232319071,
          0.5193560069257563,
          0.5214653906196055,
          0.5235747743134547,
          0.5256841580073038,
          0.5277935417011531,
          0.5299029253950023,
          0.5320123090888514,
          0.5341216927827006,
          0.5362310764765499,
          0.538340460170399,
          0.5404498438642482,
          0.5425592275580975,
          0.5446686112519467,
          0.5467779949457958,
          0.5488873786396451,
          0.5509967623334943,
          0.5531061460273434,
          0.5552155297211927,
          0.5573249134150419,
          0.559434297108891,
          0.5615436808027402,
          0.5636530644965894,
          0.5657624481904386,
          0.5678718318842878,
          0.569981215578137,
          0.5720905992719862,
          0.5741999829658354,
          0.5763093666596846,
          0.5784187503535339,
          0.580528134047383,
          0.5826375177412322,
          0.5847469014350815,
          0.5868562851289306,
          0.5889656688227798,
          0.5910750525166291,
          0.5931844362104782,
          0.5952938199043274
         ],
         "y": [
          0.1,
          0.1,
          0.1,
          0.1,
          0.1,
          0.1,
          0.1,
          0.1,
          0.1,
          0.1,
          0.1,
          0.1,
          0.1,
          0.1,
          0.1,
          0.1,
          0.1,
          0.1,
          0.1,
          0.1,
          0.1,
          0.2,
          0.2,
          0.3,
          0.3,
          0.3,
          0.3,
          0.3,
          0.3,
          0.3,
          0.3,
          0.3,
          0.3,
          0.3,
          0.3,
          0.3,
          0.3,
          0.3,
          0.3,
          0.3,
          0.4,
          0.4,
          0.4,
          0.4,
          0.4,
          0.4,
          0.4,
          0.4,
          0.4,
          0.4,
          0.4,
          0.4,
          0.4,
          0.4,
          0.5,
          0.5,
          0.5,
          0.6,
          0.7,
          0.7,
          0.7,
          0.7,
          0.7,
          0.8,
          0.8,
          0.8,
          0.8,
          0.8,
          0.8,
          0.8,
          0.8,
          0.8,
          0.8,
          0.8,
          0.8,
          0.8,
          0.8,
          0.8,
          0.8,
          0.8,
          0.8,
          0.8,
          0.8,
          0.8,
          0.8,
          0.8,
          0.9,
          0.9,
          0.9,
          0.9,
          0.9,
          0.9,
          0.9,
          0.9,
          0.9,
          0.9,
          0.9,
          0.9,
          0.9,
          1
         ]
        }
       ],
       "layout": {
        "template": {
         "data": {
          "bar": [
           {
            "error_x": {
             "color": "#2a3f5f"
            },
            "error_y": {
             "color": "#2a3f5f"
            },
            "marker": {
             "line": {
              "color": "#E5ECF6",
              "width": 0.5
             },
             "pattern": {
              "fillmode": "overlay",
              "size": 10,
              "solidity": 0.2
             }
            },
            "type": "bar"
           }
          ],
          "barpolar": [
           {
            "marker": {
             "line": {
              "color": "#E5ECF6",
              "width": 0.5
             },
             "pattern": {
              "fillmode": "overlay",
              "size": 10,
              "solidity": 0.2
             }
            },
            "type": "barpolar"
           }
          ],
          "carpet": [
           {
            "aaxis": {
             "endlinecolor": "#2a3f5f",
             "gridcolor": "white",
             "linecolor": "white",
             "minorgridcolor": "white",
             "startlinecolor": "#2a3f5f"
            },
            "baxis": {
             "endlinecolor": "#2a3f5f",
             "gridcolor": "white",
             "linecolor": "white",
             "minorgridcolor": "white",
             "startlinecolor": "#2a3f5f"
            },
            "type": "carpet"
           }
          ],
          "choropleth": [
           {
            "colorbar": {
             "outlinewidth": 0,
             "ticks": ""
            },
            "type": "choropleth"
           }
          ],
          "contour": [
           {
            "colorbar": {
             "outlinewidth": 0,
             "ticks": ""
            },
            "colorscale": [
             [
              0,
              "#0d0887"
             ],
             [
              0.1111111111111111,
              "#46039f"
             ],
             [
              0.2222222222222222,
              "#7201a8"
             ],
             [
              0.3333333333333333,
              "#9c179e"
             ],
             [
              0.4444444444444444,
              "#bd3786"
             ],
             [
              0.5555555555555556,
              "#d8576b"
             ],
             [
              0.6666666666666666,
              "#ed7953"
             ],
             [
              0.7777777777777778,
              "#fb9f3a"
             ],
             [
              0.8888888888888888,
              "#fdca26"
             ],
             [
              1,
              "#f0f921"
             ]
            ],
            "type": "contour"
           }
          ],
          "contourcarpet": [
           {
            "colorbar": {
             "outlinewidth": 0,
             "ticks": ""
            },
            "type": "contourcarpet"
           }
          ],
          "heatmap": [
           {
            "colorbar": {
             "outlinewidth": 0,
             "ticks": ""
            },
            "colorscale": [
             [
              0,
              "#0d0887"
             ],
             [
              0.1111111111111111,
              "#46039f"
             ],
             [
              0.2222222222222222,
              "#7201a8"
             ],
             [
              0.3333333333333333,
              "#9c179e"
             ],
             [
              0.4444444444444444,
              "#bd3786"
             ],
             [
              0.5555555555555556,
              "#d8576b"
             ],
             [
              0.6666666666666666,
              "#ed7953"
             ],
             [
              0.7777777777777778,
              "#fb9f3a"
             ],
             [
              0.8888888888888888,
              "#fdca26"
             ],
             [
              1,
              "#f0f921"
             ]
            ],
            "type": "heatmap"
           }
          ],
          "heatmapgl": [
           {
            "colorbar": {
             "outlinewidth": 0,
             "ticks": ""
            },
            "colorscale": [
             [
              0,
              "#0d0887"
             ],
             [
              0.1111111111111111,
              "#46039f"
             ],
             [
              0.2222222222222222,
              "#7201a8"
             ],
             [
              0.3333333333333333,
              "#9c179e"
             ],
             [
              0.4444444444444444,
              "#bd3786"
             ],
             [
              0.5555555555555556,
              "#d8576b"
             ],
             [
              0.6666666666666666,
              "#ed7953"
             ],
             [
              0.7777777777777778,
              "#fb9f3a"
             ],
             [
              0.8888888888888888,
              "#fdca26"
             ],
             [
              1,
              "#f0f921"
             ]
            ],
            "type": "heatmapgl"
           }
          ],
          "histogram": [
           {
            "marker": {
             "pattern": {
              "fillmode": "overlay",
              "size": 10,
              "solidity": 0.2
             }
            },
            "type": "histogram"
           }
          ],
          "histogram2d": [
           {
            "colorbar": {
             "outlinewidth": 0,
             "ticks": ""
            },
            "colorscale": [
             [
              0,
              "#0d0887"
             ],
             [
              0.1111111111111111,
              "#46039f"
             ],
             [
              0.2222222222222222,
              "#7201a8"
             ],
             [
              0.3333333333333333,
              "#9c179e"
             ],
             [
              0.4444444444444444,
              "#bd3786"
             ],
             [
              0.5555555555555556,
              "#d8576b"
             ],
             [
              0.6666666666666666,
              "#ed7953"
             ],
             [
              0.7777777777777778,
              "#fb9f3a"
             ],
             [
              0.8888888888888888,
              "#fdca26"
             ],
             [
              1,
              "#f0f921"
             ]
            ],
            "type": "histogram2d"
           }
          ],
          "histogram2dcontour": [
           {
            "colorbar": {
             "outlinewidth": 0,
             "ticks": ""
            },
            "colorscale": [
             [
              0,
              "#0d0887"
             ],
             [
              0.1111111111111111,
              "#46039f"
             ],
             [
              0.2222222222222222,
              "#7201a8"
             ],
             [
              0.3333333333333333,
              "#9c179e"
             ],
             [
              0.4444444444444444,
              "#bd3786"
             ],
             [
              0.5555555555555556,
              "#d8576b"
             ],
             [
              0.6666666666666666,
              "#ed7953"
             ],
             [
              0.7777777777777778,
              "#fb9f3a"
             ],
             [
              0.8888888888888888,
              "#fdca26"
             ],
             [
              1,
              "#f0f921"
             ]
            ],
            "type": "histogram2dcontour"
           }
          ],
          "mesh3d": [
           {
            "colorbar": {
             "outlinewidth": 0,
             "ticks": ""
            },
            "type": "mesh3d"
           }
          ],
          "parcoords": [
           {
            "line": {
             "colorbar": {
              "outlinewidth": 0,
              "ticks": ""
             }
            },
            "type": "parcoords"
           }
          ],
          "pie": [
           {
            "automargin": true,
            "type": "pie"
           }
          ],
          "scatter": [
           {
            "fillpattern": {
             "fillmode": "overlay",
             "size": 10,
             "solidity": 0.2
            },
            "type": "scatter"
           }
          ],
          "scatter3d": [
           {
            "line": {
             "colorbar": {
              "outlinewidth": 0,
              "ticks": ""
             }
            },
            "marker": {
             "colorbar": {
              "outlinewidth": 0,
              "ticks": ""
             }
            },
            "type": "scatter3d"
           }
          ],
          "scattercarpet": [
           {
            "marker": {
             "colorbar": {
              "outlinewidth": 0,
              "ticks": ""
             }
            },
            "type": "scattercarpet"
           }
          ],
          "scattergeo": [
           {
            "marker": {
             "colorbar": {
              "outlinewidth": 0,
              "ticks": ""
             }
            },
            "type": "scattergeo"
           }
          ],
          "scattergl": [
           {
            "marker": {
             "colorbar": {
              "outlinewidth": 0,
              "ticks": ""
             }
            },
            "type": "scattergl"
           }
          ],
          "scattermapbox": [
           {
            "marker": {
             "colorbar": {
              "outlinewidth": 0,
              "ticks": ""
             }
            },
            "type": "scattermapbox"
           }
          ],
          "scatterpolar": [
           {
            "marker": {
             "colorbar": {
              "outlinewidth": 0,
              "ticks": ""
             }
            },
            "type": "scatterpolar"
           }
          ],
          "scatterpolargl": [
           {
            "marker": {
             "colorbar": {
              "outlinewidth": 0,
              "ticks": ""
             }
            },
            "type": "scatterpolargl"
           }
          ],
          "scatterternary": [
           {
            "marker": {
             "colorbar": {
              "outlinewidth": 0,
              "ticks": ""
             }
            },
            "type": "scatterternary"
           }
          ],
          "surface": [
           {
            "colorbar": {
             "outlinewidth": 0,
             "ticks": ""
            },
            "colorscale": [
             [
              0,
              "#0d0887"
             ],
             [
              0.1111111111111111,
              "#46039f"
             ],
             [
              0.2222222222222222,
              "#7201a8"
             ],
             [
              0.3333333333333333,
              "#9c179e"
             ],
             [
              0.4444444444444444,
              "#bd3786"
             ],
             [
              0.5555555555555556,
              "#d8576b"
             ],
             [
              0.6666666666666666,
              "#ed7953"
             ],
             [
              0.7777777777777778,
              "#fb9f3a"
             ],
             [
              0.8888888888888888,
              "#fdca26"
             ],
             [
              1,
              "#f0f921"
             ]
            ],
            "type": "surface"
           }
          ],
          "table": [
           {
            "cells": {
             "fill": {
              "color": "#EBF0F8"
             },
             "line": {
              "color": "white"
             }
            },
            "header": {
             "fill": {
              "color": "#C8D4E3"
             },
             "line": {
              "color": "white"
             }
            },
            "type": "table"
           }
          ]
         },
         "layout": {
          "annotationdefaults": {
           "arrowcolor": "#2a3f5f",
           "arrowhead": 0,
           "arrowwidth": 1
          },
          "autotypenumbers": "strict",
          "coloraxis": {
           "colorbar": {
            "outlinewidth": 0,
            "ticks": ""
           }
          },
          "colorscale": {
           "diverging": [
            [
             0,
             "#8e0152"
            ],
            [
             0.1,
             "#c51b7d"
            ],
            [
             0.2,
             "#de77ae"
            ],
            [
             0.3,
             "#f1b6da"
            ],
            [
             0.4,
             "#fde0ef"
            ],
            [
             0.5,
             "#f7f7f7"
            ],
            [
             0.6,
             "#e6f5d0"
            ],
            [
             0.7,
             "#b8e186"
            ],
            [
             0.8,
             "#7fbc41"
            ],
            [
             0.9,
             "#4d9221"
            ],
            [
             1,
             "#276419"
            ]
           ],
           "sequential": [
            [
             0,
             "#0d0887"
            ],
            [
             0.1111111111111111,
             "#46039f"
            ],
            [
             0.2222222222222222,
             "#7201a8"
            ],
            [
             0.3333333333333333,
             "#9c179e"
            ],
            [
             0.4444444444444444,
             "#bd3786"
            ],
            [
             0.5555555555555556,
             "#d8576b"
            ],
            [
             0.6666666666666666,
             "#ed7953"
            ],
            [
             0.7777777777777778,
             "#fb9f3a"
            ],
            [
             0.8888888888888888,
             "#fdca26"
            ],
            [
             1,
             "#f0f921"
            ]
           ],
           "sequentialminus": [
            [
             0,
             "#0d0887"
            ],
            [
             0.1111111111111111,
             "#46039f"
            ],
            [
             0.2222222222222222,
             "#7201a8"
            ],
            [
             0.3333333333333333,
             "#9c179e"
            ],
            [
             0.4444444444444444,
             "#bd3786"
            ],
            [
             0.5555555555555556,
             "#d8576b"
            ],
            [
             0.6666666666666666,
             "#ed7953"
            ],
            [
             0.7777777777777778,
             "#fb9f3a"
            ],
            [
             0.8888888888888888,
             "#fdca26"
            ],
            [
             1,
             "#f0f921"
            ]
           ]
          },
          "colorway": [
           "#636efa",
           "#EF553B",
           "#00cc96",
           "#ab63fa",
           "#FFA15A",
           "#19d3f3",
           "#FF6692",
           "#B6E880",
           "#FF97FF",
           "#FECB52"
          ],
          "font": {
           "color": "#2a3f5f"
          },
          "geo": {
           "bgcolor": "white",
           "lakecolor": "white",
           "landcolor": "#E5ECF6",
           "showlakes": true,
           "showland": true,
           "subunitcolor": "white"
          },
          "hoverlabel": {
           "align": "left"
          },
          "hovermode": "closest",
          "mapbox": {
           "style": "light"
          },
          "paper_bgcolor": "white",
          "plot_bgcolor": "#E5ECF6",
          "polar": {
           "angularaxis": {
            "gridcolor": "white",
            "linecolor": "white",
            "ticks": ""
           },
           "bgcolor": "#E5ECF6",
           "radialaxis": {
            "gridcolor": "white",
            "linecolor": "white",
            "ticks": ""
           }
          },
          "scene": {
           "xaxis": {
            "backgroundcolor": "#E5ECF6",
            "gridcolor": "white",
            "gridwidth": 2,
            "linecolor": "white",
            "showbackground": true,
            "ticks": "",
            "zerolinecolor": "white"
           },
           "yaxis": {
            "backgroundcolor": "#E5ECF6",
            "gridcolor": "white",
            "gridwidth": 2,
            "linecolor": "white",
            "showbackground": true,
            "ticks": "",
            "zerolinecolor": "white"
           },
           "zaxis": {
            "backgroundcolor": "#E5ECF6",
            "gridcolor": "white",
            "gridwidth": 2,
            "linecolor": "white",
            "showbackground": true,
            "ticks": "",
            "zerolinecolor": "white"
           }
          },
          "shapedefaults": {
           "line": {
            "color": "#2a3f5f"
           }
          },
          "ternary": {
           "aaxis": {
            "gridcolor": "white",
            "linecolor": "white",
            "ticks": ""
           },
           "baxis": {
            "gridcolor": "white",
            "linecolor": "white",
            "ticks": ""
           },
           "bgcolor": "#E5ECF6",
           "caxis": {
            "gridcolor": "white",
            "linecolor": "white",
            "ticks": ""
           }
          },
          "title": {
           "x": 0.05
          },
          "xaxis": {
           "automargin": true,
           "gridcolor": "white",
           "linecolor": "white",
           "ticks": "",
           "title": {
            "standoff": 15
           },
           "zerolinecolor": "white",
           "zerolinewidth": 2
          },
          "yaxis": {
           "automargin": true,
           "gridcolor": "white",
           "linecolor": "white",
           "ticks": "",
           "title": {
            "standoff": 15
           },
           "zerolinecolor": "white",
           "zerolinewidth": 2
          }
         }
        },
        "title": {
         "text": "Empirical Distribution Function Plot"
        },
        "xaxis": {
         "title": {
          "text": "Objective Value"
         }
        },
        "yaxis": {
         "range": [
          0,
          1
         ],
         "title": {
          "text": "Cumulative Probability"
         }
        }
       }
      }
     },
     "metadata": {},
     "output_type": "display_data"
    }
   ],
   "source": [
    "fig = optuna.visualization.plot_edf([dbscan_study])\n",
    "show(fig)"
   ]
  },
  {
   "cell_type": "code",
   "execution_count": 11,
   "metadata": {},
   "outputs": [
    {
     "name": "stdout",
     "output_type": "stream",
     "text": [
      "eps = 16.030210554032887\n",
      "min_samples = 15\n",
      "n_clusters = 23\n",
      "cluster_data_points\n",
      "{-1: 869,\n",
      " 0: 351,\n",
      " 1: 3328,\n",
      " 2: 275,\n",
      " 3: 36,\n",
      " 4: 716,\n",
      " 5: 82,\n",
      " 6: 195,\n",
      " 7: 91,\n",
      " 8: 299,\n",
      " 9: 22,\n",
      " 10: 48,\n",
      " 11: 39,\n",
      " 12: 33,\n",
      " 13: 125,\n",
      " 14: 24,\n",
      " 15: 46,\n",
      " 16: 21,\n",
      " 17: 23,\n",
      " 18: 32,\n",
      " 19: 15,\n",
      " 20: 26,\n",
      " 21: 19,\n",
      " 22: 19}\n"
     ]
    }
   ],
   "source": [
    "import pprint\n",
    "\n",
    "if override_dbscan_tuning:\n",
    "    eps = dbscan_override_params[\"eps\"]\n",
    "    min_samples = dbscan_override_params[\"min_samples\"]\n",
    "else:\n",
    "    eps = dbscan_study.best_params[\"eps\"]\n",
    "    min_samples = dbscan_study.best_params[\"min_samples\"]\n",
    "\n",
    "if override_dbscan_tuning:\n",
    "    n_clusters = dbscan_override_params[\"n_clusters\"]\n",
    "    cluster_data_points = dbscan_override_params[\"cluster_data_points\"]\n",
    "else:\n",
    "    best_trial_dbscan = dbscan_study.best_trial\n",
    "    best_trial_dbscan_user_attrs = best_trial_dbscan.user_attrs\n",
    "\n",
    "    n_clusters = best_trial_dbscan_user_attrs[\"n_clusters\"]\n",
    "    cluster_data_points = best_trial_dbscan_user_attrs[\"cluster_data_points\"]\n",
    "\n",
    "\n",
    "print(f\"eps = {eps}\")\n",
    "print(f\"min_samples = {min_samples}\")\n",
    "print(f\"n_clusters = {n_clusters}\")\n",
    "print(\"cluster_data_points\")\n",
    "pprint.pprint(cluster_data_points)"
   ]
  },
  {
   "cell_type": "markdown",
   "metadata": {},
   "source": [
    "fit the DBSCAN"
   ]
  },
  {
   "cell_type": "code",
   "execution_count": 12,
   "metadata": {},
   "outputs": [],
   "source": [
    "from db_ocsvm_04 import DBOCSVM\n",
    "\n",
    "# Create DB-OC-SVM model with default ocsvm parameters\n",
    "\n",
    "if override_dbscan_tuning:\n",
    "    dbscan_distance_metric = dbscan_override_params[\"distance_metric\"]\n",
    "else:\n",
    "    dbscan_distance_metric = dbscan_tuning_parameters[\"distance_metric\"]\n",
    "dbocsvm = DBOCSVM(\n",
    "    kernel=\"rbf\",\n",
    "    gamma=\"auto\",\n",
    "    nu=0.2,\n",
    "    eps=eps,\n",
    "    min_samples=min_samples,\n",
    "    dbscan_distance_metric=dbscan_distance_metric,\n",
    "    tree_algorithm=dbocsvm_tree_algorithm,\n",
    ")"
   ]
  },
  {
   "cell_type": "code",
   "execution_count": 13,
   "metadata": {},
   "outputs": [
    {
     "name": "stdout",
     "output_type": "stream",
     "text": [
      "Fitting DBSCAN...\n",
      "DBSCAN Fitted...\n",
      "Unique Clusters: [-1  0  1  2  3  4  5  6  7  8  9 10 11 12 13 14 15 16 17 18 19 20 21 22]\n",
      "Cluster Sizes: {-1: 869, 0: 351, 1: 3328, 2: 275, 3: 36, 4: 716, 5: 82, 6: 195, 7: 91, 8: 299, 9: 22, 10: 48, 11: 39, 12: 33, 13: 125, 14: 24, 15: 46, 16: 21, 17: 23, 18: 32, 19: 15, 20: 26, 21: 19, 22: 19}\n"
     ]
    },
    {
     "data": {
      "text/plain": [
       "<db_ocsvm_04.DBOCSVM at 0x7a38d712f8f0>"
      ]
     },
     "execution_count": 13,
     "metadata": {},
     "output_type": "execute_result"
    }
   ],
   "source": [
    "dbocsvm.fit_cluster(X_encoded, verbose=True)"
   ]
  },
  {
   "cell_type": "markdown",
   "metadata": {},
   "source": [
    "Importing validation set"
   ]
  },
  {
   "cell_type": "code",
   "execution_count": 14,
   "metadata": {},
   "outputs": [
    {
     "name": "stdout",
     "output_type": "stream",
     "text": [
      "Before SMOTE:\n",
      "(11272, 125)\n",
      "attack_class\n",
      "normal    4856\n",
      "DoS       3729\n",
      "R2L       1377\n",
      "Probe     1210\n",
      "U2R        100\n",
      "Name: count, dtype: int64\n",
      "\n",
      "After SMOTE:\n",
      "Val set count: 13,356\n",
      "normal    4856\n",
      "DoS       4000\n",
      "R2L       2000\n",
      "Probe     2000\n",
      "U2R        500\n",
      "Name: count, dtype: int64\n",
      "\n",
      "(13356, 122), (13356,)\n"
     ]
    }
   ],
   "source": [
    "from imblearn.over_sampling import SMOTE\n",
    "import numpy as np\n",
    "import pandas as pd\n",
    "\n",
    "print(\"Before SMOTE:\")\n",
    "val_df = pd.read_csv(val_set_path)\n",
    "X_val = val_df.drop(\n",
    "    columns=[\"attack_binary\", \"attack_categorical\", \"attack_class\"]\n",
    ").values\n",
    "y_val = val_df[\"attack_binary\"].values\n",
    "y_val_class = val_df[\"attack_class\"].values\n",
    "print(val_df.shape)\n",
    "print(val_df[\"attack_class\"].value_counts())\n",
    "val_df.head(1)\n",
    "\n",
    "# Apply SMOTE to training data using class labels\n",
    "sampling_strategy = {\n",
    "    \"DoS\": 4000,\n",
    "    \"R2L\": 2000,\n",
    "    \"Probe\": 2000,\n",
    "    \"U2R\": 500,\n",
    "}\n",
    "smote = SMOTE(random_state=42, k_neighbors=3, sampling_strategy=sampling_strategy)\n",
    "X_val_resampled, y_val_resampled = smote.fit_resample(X_val, y_val_class)\n",
    "\n",
    "# Display the distribution after SMOTE\n",
    "print(\"\\nAfter SMOTE:\")\n",
    "print(f\"Val set count: {X_val_resampled.shape[0]:,}\")\n",
    "after_counts = pd.Series(y_val_resampled).value_counts()\n",
    "print(after_counts)\n",
    "\n",
    "# If you need binary labels for further processing, convert back\n",
    "y_val_resampled = np.where(y_val_resampled == \"normal\", 1, -1)\n",
    "print(f\"\\n{X_val_resampled.shape}, {y_val_resampled.shape}\")"
   ]
  },
  {
   "cell_type": "markdown",
   "metadata": {},
   "source": [
    "importing test set"
   ]
  },
  {
   "cell_type": "code",
   "execution_count": 15,
   "metadata": {},
   "outputs": [
    {
     "name": "stdout",
     "output_type": "stream",
     "text": [
      "(11271, 125)\n",
      "attack_class\n",
      "normal    4855\n",
      "DoS       3728\n",
      "R2L       1377\n",
      "Probe     1211\n",
      "U2R        100\n",
      "Name: count, dtype: int64\n"
     ]
    },
    {
     "data": {
      "text/html": [
       "<div>\n",
       "<style scoped>\n",
       "    .dataframe tbody tr th:only-of-type {\n",
       "        vertical-align: middle;\n",
       "    }\n",
       "\n",
       "    .dataframe tbody tr th {\n",
       "        vertical-align: top;\n",
       "    }\n",
       "\n",
       "    .dataframe thead th {\n",
       "        text-align: right;\n",
       "    }\n",
       "</style>\n",
       "<table border=\"1\" class=\"dataframe\">\n",
       "  <thead>\n",
       "    <tr style=\"text-align: right;\">\n",
       "      <th></th>\n",
       "      <th>duration</th>\n",
       "      <th>src_bytes</th>\n",
       "      <th>dst_bytes</th>\n",
       "      <th>land</th>\n",
       "      <th>wrong_fragment</th>\n",
       "      <th>urgent</th>\n",
       "      <th>hot</th>\n",
       "      <th>num_failed_logins</th>\n",
       "      <th>logged_in</th>\n",
       "      <th>num_compromised</th>\n",
       "      <th>...</th>\n",
       "      <th>flag_RSTR</th>\n",
       "      <th>flag_S0</th>\n",
       "      <th>flag_S1</th>\n",
       "      <th>flag_S2</th>\n",
       "      <th>flag_S3</th>\n",
       "      <th>flag_SF</th>\n",
       "      <th>flag_SH</th>\n",
       "      <th>attack_binary</th>\n",
       "      <th>attack_categorical</th>\n",
       "      <th>attack_class</th>\n",
       "    </tr>\n",
       "  </thead>\n",
       "  <tbody>\n",
       "    <tr>\n",
       "      <th>0</th>\n",
       "      <td>0.0</td>\n",
       "      <td>0.0</td>\n",
       "      <td>0.0</td>\n",
       "      <td>0.0</td>\n",
       "      <td>0.0</td>\n",
       "      <td>0.0</td>\n",
       "      <td>0.0</td>\n",
       "      <td>0.0</td>\n",
       "      <td>0.0</td>\n",
       "      <td>0.0</td>\n",
       "      <td>...</td>\n",
       "      <td>0.0</td>\n",
       "      <td>0.0</td>\n",
       "      <td>0.0</td>\n",
       "      <td>0.0</td>\n",
       "      <td>0.0</td>\n",
       "      <td>0.0</td>\n",
       "      <td>0.0</td>\n",
       "      <td>-1</td>\n",
       "      <td>neptune</td>\n",
       "      <td>DoS</td>\n",
       "    </tr>\n",
       "  </tbody>\n",
       "</table>\n",
       "<p>1 rows × 125 columns</p>\n",
       "</div>"
      ],
      "text/plain": [
       "   duration  src_bytes  dst_bytes  land  wrong_fragment  urgent  hot  \\\n",
       "0       0.0        0.0        0.0   0.0             0.0     0.0  0.0   \n",
       "\n",
       "   num_failed_logins  logged_in  num_compromised  ...  flag_RSTR  flag_S0  \\\n",
       "0                0.0        0.0              0.0  ...        0.0      0.0   \n",
       "\n",
       "   flag_S1  flag_S2  flag_S3  flag_SF  flag_SH  attack_binary  \\\n",
       "0      0.0      0.0      0.0      0.0      0.0             -1   \n",
       "\n",
       "   attack_categorical  attack_class  \n",
       "0             neptune           DoS  \n",
       "\n",
       "[1 rows x 125 columns]"
      ]
     },
     "execution_count": 15,
     "metadata": {},
     "output_type": "execute_result"
    }
   ],
   "source": [
    "test_df = pd.read_csv(test_set_path)\n",
    "print(test_df.shape)\n",
    "print(test_df[\"attack_class\"].value_counts())\n",
    "test_df.head(1)"
   ]
  },
  {
   "cell_type": "code",
   "execution_count": 16,
   "metadata": {},
   "outputs": [
    {
     "name": "stdout",
     "output_type": "stream",
     "text": [
      "(11271, 122) (11271,)\n"
     ]
    }
   ],
   "source": [
    "# Splitting into X and y\n",
    "X_test = test_df.drop(\n",
    "    columns=[\"attack_binary\", \"attack_categorical\", \"attack_class\"]\n",
    ").values\n",
    "y_test = test_df[\"attack_binary\"].values\n",
    "y_test_class = test_df[\"attack_class\"]\n",
    "\n",
    "print(X_test.shape, y_test.shape)"
   ]
  },
  {
   "cell_type": "markdown",
   "metadata": {},
   "source": [
    "reconstruction error inspection"
   ]
  },
  {
   "cell_type": "code",
   "execution_count": 17,
   "metadata": {},
   "outputs": [
    {
     "name": "stdout",
     "output_type": "stream",
     "text": [
      "Normal test samples: 4855\n",
      "Anomaly test samples: 6416\n"
     ]
    },
    {
     "data": {
      "text/plain": [
       "{'normal_loss': 0.0014022980549062932,\n",
       " 'anomaly_loss': 0.03032843417434621,\n",
       " 'loss_difference': 0.028926136119439914}"
      ]
     },
     "execution_count": 17,
     "metadata": {},
     "output_type": "execute_result"
    }
   ],
   "source": [
    "# Separate normal and anomaly samples from test set\n",
    "X_test_normal = X_test[y_test == 1]\n",
    "X_test_anomaly = X_test[y_test == -1]\n",
    "\n",
    "print(f\"Normal test samples: {X_test_normal.shape[0]}\")\n",
    "print(f\"Anomaly test samples: {X_test_anomaly.shape[0]}\")\n",
    "\n",
    "# Convert test data to PyTorch tensors\n",
    "X_test_normal_tensor = torch.FloatTensor(X_test_normal).to(device)\n",
    "X_test_anomaly_tensor = torch.FloatTensor(X_test_anomaly).to(device)\n",
    "\n",
    "# Create DataLoaders for test data evaluation\n",
    "normal_test_dataset = TensorDataset(X_test_normal_tensor)\n",
    "anomaly_test_dataset = TensorDataset(X_test_anomaly_tensor)\n",
    "normal_test_loader = DataLoader(normal_test_dataset, batch_size=256, shuffle=False)\n",
    "anomaly_test_loader = DataLoader(anomaly_test_dataset, batch_size=256, shuffle=False)\n",
    "\n",
    "\n",
    "def calculate_reconstruction_error(model, loader):\n",
    "    model.eval()\n",
    "    total_loss = 0\n",
    "    total_samples = 0\n",
    "    criterion = nn.MSELoss(reduction=\"none\")\n",
    "\n",
    "    with torch.no_grad():\n",
    "        for batch in loader:\n",
    "            x = batch[0]\n",
    "            outputs = model(x)\n",
    "            # Calculate MSE for each sample\n",
    "            loss = criterion(outputs, x)\n",
    "            loss = loss.mean(dim=1)\n",
    "            total_loss += torch.sum(loss).item()\n",
    "            total_samples += x.size(0)\n",
    "\n",
    "    return total_loss / total_samples\n",
    "\n",
    "\n",
    "# Function to evaluate a model's reconstruction performance\n",
    "def evaluate_model(model):\n",
    "    normal_loss = calculate_reconstruction_error(model, normal_test_loader)\n",
    "    anomaly_loss = calculate_reconstruction_error(model, anomaly_test_loader)\n",
    "    loss_difference = anomaly_loss - normal_loss\n",
    "\n",
    "    return {\n",
    "        \"normal_loss\": normal_loss,\n",
    "        \"anomaly_loss\": anomaly_loss,\n",
    "        \"loss_difference\": loss_difference,\n",
    "    }\n",
    "\n",
    "\n",
    "reconstruction_error = evaluate_model(autoencoder)\n",
    "reconstruction_error"
   ]
  },
  {
   "cell_type": "markdown",
   "metadata": {},
   "source": [
    "extract features from validation data"
   ]
  },
  {
   "cell_type": "code",
   "execution_count": 18,
   "metadata": {},
   "outputs": [
    {
     "name": "stdout",
     "output_type": "stream",
     "text": [
      "(13356, 8)\n"
     ]
    }
   ],
   "source": [
    "X_val_tensor = torch.FloatTensor(X_val_resampled).to(device)\n",
    "\n",
    "X_val_dataset_tensor = TensorDataset(X_val_tensor, torch.zeros(len(X_val_tensor)))\n",
    "X_val_loader = DataLoader(X_val_dataset_tensor, batch_size=128)\n",
    "\n",
    "X_val_encoded = []\n",
    "with torch.no_grad():\n",
    "    for data, _ in X_val_loader:\n",
    "        encoded = autoencoder.encode(data)\n",
    "        X_val_encoded.append(encoded.cpu().numpy())\n",
    "\n",
    "X_val_encoded = np.vstack(X_val_encoded)\n",
    "print(X_val_encoded.shape)"
   ]
  },
  {
   "cell_type": "markdown",
   "metadata": {},
   "source": [
    "extract features from test data"
   ]
  },
  {
   "cell_type": "code",
   "execution_count": 19,
   "metadata": {},
   "outputs": [
    {
     "name": "stdout",
     "output_type": "stream",
     "text": [
      "(11271, 8)\n"
     ]
    }
   ],
   "source": [
    "X_test_tensor = torch.FloatTensor(X_test).to(device)\n",
    "\n",
    "test_dataset = TensorDataset(X_test_tensor, torch.zeros(len(X_test_tensor)))\n",
    "test_loader = DataLoader(test_dataset, batch_size=128)\n",
    "\n",
    "X_test_encoded = []\n",
    "with torch.no_grad():\n",
    "    for data, _ in test_loader:\n",
    "        encoded = autoencoder.encode(data)\n",
    "        X_test_encoded.append(encoded.cpu().numpy())\n",
    "\n",
    "X_test_encoded = np.vstack(X_test_encoded)\n",
    "print(X_test_encoded.shape)"
   ]
  },
  {
   "cell_type": "markdown",
   "metadata": {},
   "source": [
    "tuning the ocsvms"
   ]
  },
  {
   "cell_type": "code",
   "execution_count": 20,
   "metadata": {},
   "outputs": [
    {
     "name": "stderr",
     "output_type": "stream",
     "text": [
      "[I 2025-03-22 15:00:35,306] A new study created in memory with name: no-name-f199d9b8-bedc-41cc-a210-5b56b92e6ed2\n",
      "[I 2025-03-22 15:00:39,248] Trial 0 finished with value: 0.8676523994811932 and parameters: {'gamma_0': 0.25623113805785297, 'nu_0': 0.13873082213276486, 'gamma_1': 0.9528062194301627, 'nu_1': 0.2464891845645179, 'gamma_2': 0.6428562870278463, 'nu_2': 0.3025285254888912, 'gamma_3': 0.7119787880052952, 'nu_3': 0.4924801172120277, 'gamma_4': 0.9824760521081745, 'nu_4': 0.3704434375756312, 'gamma_5': 0.6058394290264879, 'nu_5': 0.01416225658713383, 'gamma_6': 0.1795385537017633, 'nu_6': 0.10137290555071118, 'gamma_7': 0.8019390501691726, 'nu_7': 0.17786576168309734, 'gamma_8': 0.16808569636004925, 'nu_8': 0.28854358217032167, 'gamma_9': 0.38659504843467785, 'nu_9': 0.395553279400038, 'gamma_10': 0.45759720529285974, 'nu_10': 0.28155277312637633, 'gamma_11': 0.3377663867654113, 'nu_11': 0.21302351674580042, 'gamma_12': 0.8564380731047843, 'nu_12': 0.2939522133173486, 'gamma_13': 0.9089737535055938, 'nu_13': 0.16425655182711396, 'gamma_14': 0.08080268664047063, 'nu_14': 0.1940075777844187, 'gamma_15': 0.03332155876852447, 'nu_15': 0.08350312138483816, 'gamma_16': 0.7572173462694824, 'nu_16': 0.3640343859646788, 'gamma_17': 0.5628622767003638, 'nu_17': 0.12511746858938338, 'gamma_18': 0.4305508141015477, 'nu_18': 0.404996614627516, 'gamma_19': 0.7147735284037507, 'nu_19': 0.04539951017064193, 'gamma_20': 0.9321630405677954, 'nu_20': 0.026867770582146462, 'gamma_21': 0.3439649730626071, 'nu_21': 0.41614422648679517, 'gamma_22': 0.8763086019659984, 'nu_22': 0.3878447623736563}. Best is trial 0 with value: 0.8676523994811932.\n"
     ]
    },
    {
     "name": "stdout",
     "output_type": "stream",
     "text": [
      "Validation Results:\n",
      "{'accuracy': '80.90', 'f1': '86.77', 'precision': '77.61', 'recall': '98.38'}\n",
      "\n",
      "Test Results:\n",
      "{'accuracy': '78.74', 'f1': '84.04', 'precision': '73.38', 'recall': '98.32'}\n"
     ]
    },
    {
     "name": "stderr",
     "output_type": "stream",
     "text": [
      "[I 2025-03-22 15:00:43,028] Trial 1 finished with value: 0.8797083839611178 and parameters: {'gamma_0': 0.10410322417231911, 'nu_0': 0.19232538877204144, 'gamma_1': 0.6106616232448593, 'nu_1': 0.06931042224527346, 'gamma_2': 0.8730159494930958, 'nu_2': 0.10302459992986295, 'gamma_3': 0.8246039902828104, 'nu_3': 0.30353881859998366, 'gamma_4': 0.6289380950499356, 'nu_4': 0.47607516132955724, 'gamma_5': 0.5034143942419885, 'nu_5': 0.3909535111038408, 'gamma_6': 0.2876601272098942, 'nu_6': 0.1294259288489986, 'gamma_7': 0.6811806199919828, 'nu_7': 0.4392928109906282, 'gamma_8': 0.5986586193361947, 'nu_8': 0.41008283113036487, 'gamma_9': 0.3422318924409581, 'nu_9': 0.06825540804999107, 'gamma_10': 0.07773275533374371, 'nu_10': 0.22866383058935766, 'gamma_11': 0.8611982685509222, 'nu_11': 0.045743135404684165, 'gamma_12': 0.3932781116169794, 'nu_12': 0.3652298001291156, 'gamma_13': 0.1079282208376915, 'nu_13': 0.2042157675542284, 'gamma_14': 0.3268170443968526, 'nu_14': 0.34822438607985845, 'gamma_15': 0.0402851548651749, 'nu_15': 0.04599415428378885, 'gamma_16': 0.02323236668834847, 'nu_16': 0.2525788911670841, 'gamma_17': 0.38934234550197455, 'nu_17': 0.43943088533956115, 'gamma_18': 0.28439070872796846, 'nu_18': 0.06823696335413917, 'gamma_19': 0.3792213287679097, 'nu_19': 0.11937143531898642, 'gamma_20': 0.647536162613789, 'nu_20': 0.4749217513980135, 'gamma_21': 0.7445130441272063, 'nu_21': 0.11239762111488139, 'gamma_22': 0.3343316986891043, 'nu_22': 0.46073738228034383}. Best is trial 1 with value: 0.8797083839611178.\n"
     ]
    },
    {
     "name": "stdout",
     "output_type": "stream",
     "text": [
      "Validation Results:\n",
      "{'accuracy': '82.95', 'f1': '87.97', 'precision': '79.84', 'recall': '97.95'}\n",
      "\n",
      "Test Results:\n",
      "{'accuracy': '80.76', 'f1': '85.27', 'precision': '75.57', 'recall': '97.83'}\n"
     ]
    },
    {
     "name": "stderr",
     "output_type": "stream",
     "text": [
      "[I 2025-03-22 15:00:46,685] Trial 2 finished with value: 0.8748952221290863 and parameters: {'gamma_0': 0.45801987919105414, 'nu_0': 0.11678484733356802, 'gamma_1': 0.9491436578255616, 'nu_1': 0.15907917486337672, 'gamma_2': 0.536776733694983, 'nu_2': 0.24572511554562812, 'gamma_3': 0.5480088947218986, 'nu_3': 0.4119312850693259, 'gamma_4': 0.572364954733424, 'nu_4': 0.0807735989607746, 'gamma_5': 0.80969147172905, 'nu_5': 0.28335182022961264, 'gamma_6': 0.3228306108898019, 'nu_6': 0.3217697176849564, 'gamma_7': 0.9987577298389, 'nu_7': 0.49808080052319004, 'gamma_8': 0.13863259301985184, 'nu_8': 0.4106894533757948, 'gamma_9': 0.7825848019099976, 'nu_9': 0.3377846594094824, 'gamma_10': 0.37141009214020704, 'nu_10': 0.30033974407163094, 'gamma_11': 0.5795725977722586, 'nu_11': 0.02547306249539768, 'gamma_12': 0.7034354917258744, 'nu_12': 0.24622015993209012, 'gamma_13': 0.05408029921434303, 'nu_13': 0.35533069000164674, 'gamma_14': 0.29137785785827786, 'nu_14': 0.3075315942990233, 'gamma_15': 0.053262386023110224, 'nu_15': 0.08720979587630873, 'gamma_16': 0.10773284271761516, 'nu_16': 0.24675005148680032, 'gamma_17': 0.22715931579476087, 'nu_17': 0.3778462832301866, 'gamma_18': 0.10567733586096191, 'nu_18': 0.12219866696070825, 'gamma_19': 0.40497353588896795, 'nu_19': 0.3229861378146137, 'gamma_20': 0.2394598843743868, 'nu_20': 0.43437355524565896, 'gamma_21': 0.13487316756188794, 'nu_21': 0.15312460636596176, 'gamma_22': 0.022450550520458197, 'nu_22': 0.2831817571548906}. Best is trial 1 with value: 0.8797083839611178.\n"
     ]
    },
    {
     "name": "stdout",
     "output_type": "stream",
     "text": [
      "Validation Results:\n",
      "{'accuracy': '82.12', 'f1': '87.49', 'precision': '78.86', 'recall': '98.24'}\n",
      "\n",
      "Test Results:\n",
      "{'accuracy': '80.09', 'f1': '84.89', 'precision': '74.72', 'recall': '98.29'}\n"
     ]
    },
    {
     "name": "stderr",
     "output_type": "stream",
     "text": [
      "[I 2025-03-22 15:00:49,850] Trial 3 finished with value: 0.8800252578404546 and parameters: {'gamma_0': 0.8250467688891865, 'nu_0': 0.24400939034490074, 'gamma_1': 0.4645327049251971, 'nu_1': 0.1866813465051962, 'gamma_2': 0.2824314829986835, 'nu_2': 0.15298955732761482, 'gamma_3': 0.3427851778018676, 'nu_3': 0.41754069557951806, 'gamma_4': 0.8705971345031307, 'nu_4': 0.08905746176478929, 'gamma_5': 0.4453260594536206, 'nu_5': 0.44272755530109315, 'gamma_6': 0.6450631097510566, 'nu_6': 0.21921207726905217, 'gamma_7': 0.30080046442821057, 'nu_7': 0.10233047628702886, 'gamma_8': 0.2770673351184267, 'nu_8': 0.016826398621519113, 'gamma_9': 0.9970150664731702, 'nu_9': 0.030050167494213534, 'gamma_10': 0.41918816056347347, 'nu_10': 0.0866948639930445, 'gamma_11': 0.6895138963343518, 'nu_11': 0.47405102189193543, 'gamma_12': 0.024793937004186358, 'nu_12': 0.1408629884619456, 'gamma_13': 0.60561627514641, 'nu_13': 0.47565164420771494, 'gamma_14': 0.8702601086869612, 'nu_14': 0.17942170264858637, 'gamma_15': 0.9456303454631828, 'nu_15': 0.4634374908794541, 'gamma_16': 0.8699639954471596, 'nu_16': 0.45238414486041373, 'gamma_17': 0.2842822048296218, 'nu_17': 0.13176706994369744, 'gamma_18': 0.215463878619299, 'nu_18': 0.21324464032724932, 'gamma_19': 0.3699446136677618, 'nu_19': 0.38493532891464205, 'gamma_20': 0.5486261560480951, 'nu_20': 0.4744940647958061, 'gamma_21': 0.9360107780466198, 'nu_21': 0.13135780715958514, 'gamma_22': 0.380557067337249, 'nu_22': 0.14257079323923302}. Best is trial 3 with value: 0.8800252578404546.\n"
     ]
    },
    {
     "name": "stdout",
     "output_type": "stream",
     "text": [
      "Validation Results:\n",
      "{'accuracy': '82.93', 'f1': '88.00', 'precision': '79.61', 'recall': '98.38'}\n",
      "\n",
      "Test Results:\n",
      "{'accuracy': '80.68', 'f1': '85.27', 'precision': '75.31', 'recall': '98.27'}\n"
     ]
    },
    {
     "name": "stderr",
     "output_type": "stream",
     "text": [
      "[I 2025-03-22 15:00:53,675] Trial 4 finished with value: 0.8552101621398327 and parameters: {'gamma_0': 0.051468454328699585, 'nu_0': 0.03092785216679903, 'gamma_1': 0.5853189696655466, 'nu_1': 0.40547713280676934, 'gamma_2': 0.004503509283913137, 'nu_2': 0.2812049071719025, 'gamma_3': 0.21391817556027518, 'nu_3': 0.04950495332427521, 'gamma_4': 0.8901655609993594, 'nu_4': 0.46744368254397023, 'gamma_5': 0.09225295139125586, 'nu_5': 0.2051899319759697, 'gamma_6': 0.28274509559441735, 'nu_6': 0.1873011507151988, 'gamma_7': 0.22028288980842514, 'nu_7': 0.2597373325284134, 'gamma_8': 0.5252587155611405, 'nu_8': 0.18004479761718137, 'gamma_9': 0.8655472142017638, 'nu_9': 0.1606445952220797, 'gamma_10': 0.8004496449998035, 'nu_10': 0.42348985067088224, 'gamma_11': 0.52367988078645, 'nu_11': 0.07200343309859138, 'gamma_12': 0.47844573906396676, 'nu_12': 0.1683727480255828, 'gamma_13': 0.3480385517647494, 'nu_13': 0.48612440912230265, 'gamma_14': 0.08243246035200606, 'nu_14': 0.2877264397581438, 'gamma_15': 0.010573424599707962, 'nu_15': 0.26822000131460233, 'gamma_16': 0.4216646580977596, 'nu_16': 0.3152145002709177, 'gamma_17': 0.47467324990895987, 'nu_17': 0.49567729672286837, 'gamma_18': 0.7152185255872064, 'nu_18': 0.3350352883278218, 'gamma_19': 0.7843178485155294, 'nu_19': 0.07517521890577625, 'gamma_20': 0.3297989510992992, 'nu_20': 0.057535221168656836, 'gamma_21': 0.8245987540973313, 'nu_21': 0.3351779701977327, 'gamma_22': 0.9626131645212964, 'nu_22': 0.25553330149688375}. Best is trial 3 with value: 0.8800252578404546.\n"
     ]
    },
    {
     "name": "stdout",
     "output_type": "stream",
     "text": [
      "Validation Results:\n",
      "{'accuracy': '79.01', 'f1': '85.52', 'precision': '76.21', 'recall': '97.42'}\n",
      "\n",
      "Test Results:\n",
      "{'accuracy': '76.03', 'f1': '82.24', 'precision': '71.12', 'recall': '97.48'}\n"
     ]
    },
    {
     "name": "stderr",
     "output_type": "stream",
     "text": [
      "[I 2025-03-22 15:00:57,011] Trial 5 finished with value: 0.8812539582013933 and parameters: {'gamma_0': 0.5757517763551621, 'nu_0': 0.03283100931585545, 'gamma_1': 0.4647903380921226, 'nu_1': 0.2055246904334975, 'gamma_2': 0.11384006571080982, 'nu_2': 0.15686146312022403, 'gamma_3': 0.3005580356555729, 'nu_3': 0.24652460807720647, 'gamma_4': 0.16546085720459136, 'nu_4': 0.36400701774630434, 'gamma_5': 0.027453242980593446, 'nu_5': 0.1742656209286344, 'gamma_6': 0.868475161569277, 'nu_6': 0.33535773986810413, 'gamma_7': 0.35989191995623543, 'nu_7': 0.43170717622363347, 'gamma_8': 0.3670099105610485, 'nu_8': 0.46619165451925243, 'gamma_9': 0.42685744204224196, 'nu_9': 0.32728596496100687, 'gamma_10': 0.00950222063950123, 'nu_10': 0.21091471290480504, 'gamma_11': 0.9894742279761547, 'nu_11': 0.25242195114517935, 'gamma_12': 0.7049871973556343, 'nu_12': 0.08383075599329053, 'gamma_13': 0.9746740601576385, 'nu_13': 0.24200331145726517, 'gamma_14': 0.16656177794816104, 'nu_14': 0.3185648964616598, 'gamma_15': 0.6470365326468259, 'nu_15': 0.15091303776148504, 'gamma_16': 0.5457869184294061, 'nu_16': 0.4080427782284192, 'gamma_17': 0.7989237002255772, 'nu_17': 0.08946676352297589, 'gamma_18': 0.132309900053054, 'nu_18': 0.037453130484530896, 'gamma_19': 0.03623295474384085, 'nu_19': 0.33467612019699305, 'gamma_20': 0.9537906025239601, 'nu_20': 0.4724057407827613, 'gamma_21': 0.8430498500482811, 'nu_21': 0.46160651702970534, 'gamma_22': 0.27216262299833466, 'nu_22': 0.18855945461131238}. Best is trial 5 with value: 0.8812539582013933.\n"
     ]
    },
    {
     "name": "stdout",
     "output_type": "stream",
     "text": [
      "Validation Results:\n",
      "{'accuracy': '83.15', 'f1': '88.13', 'precision': '79.91', 'recall': '98.22'}\n",
      "\n",
      "Test Results:\n",
      "{'accuracy': '80.80', 'f1': '85.32', 'precision': '75.55', 'recall': '97.99'}\n"
     ]
    },
    {
     "name": "stderr",
     "output_type": "stream",
     "text": [
      "[I 2025-03-22 15:01:00,443] Trial 6 finished with value: 0.8765872599433309 and parameters: {'gamma_0': 0.14702170130273443, 'nu_0': 0.4645580596911664, 'gamma_1': 0.24455421141172567, 'nu_1': 0.3207079258493952, 'gamma_2': 0.006820280511246862, 'nu_2': 0.011008126591359899, 'gamma_3': 0.8497696240165304, 'nu_3': 0.17887781841577938, 'gamma_4': 0.2573684753300145, 'nu_4': 0.0727931866920603, 'gamma_5': 0.2963181518160783, 'nu_5': 0.2256748020861992, 'gamma_6': 0.6643310891175991, 'nu_6': 0.4175200279377218, 'gamma_7': 0.8755544833165999, 'nu_7': 0.46338379394527146, 'gamma_8': 0.9630889707796232, 'nu_8': 0.13162933502779503, 'gamma_9': 0.18868170548755622, 'nu_9': 0.23813987386008292, 'gamma_10': 0.8576740406971972, 'nu_10': 0.11605325067555544, 'gamma_11': 0.88063491916363, 'nu_11': 0.43338245763778754, 'gamma_12': 0.5849107153135833, 'nu_12': 0.17982510455902226, 'gamma_13': 0.9590066259905683, 'nu_13': 0.27443065739460054, 'gamma_14': 0.41337155750336535, 'nu_14': 0.4666829854555465, 'gamma_15': 0.4077306729866152, 'nu_15': 0.17082248916207513, 'gamma_16': 0.36757110159161865, 'nu_16': 0.14853199846018086, 'gamma_17': 0.597245735153141, 'nu_17': 0.07650851636652, 'gamma_18': 0.6550174928875716, 'nu_18': 0.08596622022010321, 'gamma_19': 0.4247909360855644, 'nu_19': 0.11681266678395873, 'gamma_20': 0.17200745930730535, 'nu_20': 0.23221164353015586, 'gamma_21': 0.07510228183521156, 'nu_21': 0.10139459054926343, 'gamma_22': 0.4698986543930939, 'nu_22': 0.04830734250769143}. Best is trial 5 with value: 0.8812539582013933.\n"
     ]
    },
    {
     "name": "stdout",
     "output_type": "stream",
     "text": [
      "Validation Results:\n",
      "{'accuracy': '82.39', 'f1': '87.66', 'precision': '79.12', 'recall': '98.27'}\n",
      "\n",
      "Test Results:\n",
      "{'accuracy': '79.60', 'f1': '84.57', 'precision': '74.26', 'recall': '98.21'}\n"
     ]
    },
    {
     "name": "stderr",
     "output_type": "stream",
     "text": [
      "[I 2025-03-22 15:01:04,074] Trial 7 finished with value: 0.8641593148635403 and parameters: {'gamma_0': 0.9458125205142646, 'nu_0': 0.23646841321263504, 'gamma_1': 0.012966837499919946, 'nu_1': 0.37605741604579224, 'gamma_2': 0.195945411306497, 'nu_2': 0.42483414131132946, 'gamma_3': 0.20345744478597536, 'nu_3': 0.18147572707496284, 'gamma_4': 0.6795314595175077, 'nu_4': 0.4013689757525263, 'gamma_5': 0.24618924100290093, 'nu_5': 0.47174368303067926, 'gamma_6': 0.1681464272139919, 'nu_6': 0.4338778720161217, 'gamma_7': 0.7967722192107901, 'nu_7': 0.18874106713941521, 'gamma_8': 0.6003125353330113, 'nu_8': 0.354249559628762, 'gamma_9': 0.5576782034140547, 'nu_9': 0.4719627885150287, 'gamma_10': 0.8041885750971405, 'nu_10': 0.0897101186086356, 'gamma_11': 0.03886267726060677, 'nu_11': 0.292909743341908, 'gamma_12': 0.6153184288547611, 'nu_12': 0.050859044722192236, 'gamma_13': 0.8685264397653899, 'nu_13': 0.498960239810536, 'gamma_14': 0.9972611900923661, 'nu_14': 0.47418253951975525, 'gamma_15': 0.6321135862530657, 'nu_15': 0.33029706238810147, 'gamma_16': 0.49517511003186987, 'nu_16': 0.29904179074280635, 'gamma_17': 0.014439751256544713, 'nu_17': 0.2599934469428607, 'gamma_18': 0.3567401290929953, 'nu_18': 0.11724199735777255, 'gamma_19': 0.26966553107388713, 'nu_19': 0.16397883602978688, 'gamma_20': 0.5720961956609323, 'nu_20': 0.04413787106293735, 'gamma_21': 0.6818202503220226, 'nu_21': 0.2343654266644411, 'gamma_22': 0.44765515697763036, 'nu_22': 0.40677932976400427}. Best is trial 5 with value: 0.8812539582013933.\n"
     ]
    },
    {
     "name": "stdout",
     "output_type": "stream",
     "text": [
      "Validation Results:\n",
      "{'accuracy': '80.29', 'f1': '86.42', 'precision': '76.95', 'recall': '98.53'}\n",
      "\n",
      "Test Results:\n",
      "{'accuracy': '76.86', 'f1': '82.90', 'precision': '71.55', 'recall': '98.53'}\n"
     ]
    },
    {
     "name": "stderr",
     "output_type": "stream",
     "text": [
      "[I 2025-03-22 15:01:07,660] Trial 8 finished with value: 0.8606334377085365 and parameters: {'gamma_0': 0.5064803820474238, 'nu_0': 0.49298972959659904, 'gamma_1': 0.9545818666707051, 'nu_1': 0.3919938966954595, 'gamma_2': 0.02691104463791596, 'nu_2': 0.1836409124653621, 'gamma_3': 0.7959957813328502, 'nu_3': 0.4309589493951602, 'gamma_4': 0.4391563596475496, 'nu_4': 0.05317448509691278, 'gamma_5': 0.22767852239946593, 'nu_5': 0.01470457897063163, 'gamma_6': 0.9065518962183124, 'nu_6': 0.3419629361327847, 'gamma_7': 0.3209876682259564, 'nu_7': 0.3194188709941471, 'gamma_8': 0.9882675713464741, 'nu_8': 0.2266254836156347, 'gamma_9': 0.5975639491040831, 'nu_9': 0.027421061178241793, 'gamma_10': 0.5581457608672201, 'nu_10': 0.21944797291115128, 'gamma_11': 0.7585575588350612, 'nu_11': 0.4603693454174291, 'gamma_12': 0.9811471580457214, 'nu_12': 0.014175781201616094, 'gamma_13': 0.6638892709323817, 'nu_13': 0.2983686034030399, 'gamma_14': 0.32919290130176787, 'nu_14': 0.38889096983795607, 'gamma_15': 0.36241519575532244, 'nu_15': 0.03441470629286856, 'gamma_16': 0.9357837944734297, 'nu_16': 0.37492462820562333, 'gamma_17': 0.15448743401801543, 'nu_17': 0.16525989163005253, 'gamma_18': 0.5901859028359612, 'nu_18': 0.06593205350573883, 'gamma_19': 0.7828298834079439, 'nu_19': 0.3860462982476704, 'gamma_20': 0.8749358061838199, 'nu_20': 0.4365757001262463, 'gamma_21': 0.6927879120580085, 'nu_21': 0.49419149837910353, 'gamma_22': 0.6106461497699329, 'nu_22': 0.179367842957081}. Best is trial 5 with value: 0.8812539582013933.\n"
     ]
    },
    {
     "name": "stdout",
     "output_type": "stream",
     "text": [
      "Validation Results:\n",
      "{'accuracy': '79.67', 'f1': '86.06', 'precision': '76.34', 'recall': '98.62'}\n",
      "\n",
      "Test Results:\n",
      "{'accuracy': '77.14', 'f1': '83.09', 'precision': '71.75', 'recall': '98.71'}\n"
     ]
    },
    {
     "name": "stderr",
     "output_type": "stream",
     "text": [
      "[I 2025-03-22 15:01:11,132] Trial 9 finished with value: 0.872579637726421 and parameters: {'gamma_0': 0.9202773717136662, 'nu_0': 0.3878934589717985, 'gamma_1': 0.8453957533367764, 'nu_1': 0.17930024021086977, 'gamma_2': 0.2133783586116206, 'nu_2': 0.4724865460087344, 'gamma_3': 0.40072177605005904, 'nu_3': 0.05229702236307669, 'gamma_4': 0.11608616409825864, 'nu_4': 0.49326796491677, 'gamma_5': 0.9191850969370347, 'nu_5': 0.26507292526029613, 'gamma_6': 0.6218022594943851, 'nu_6': 0.3760659433490513, 'gamma_7': 0.9695587756613566, 'nu_7': 0.07085974061525631, 'gamma_8': 0.03094107348204534, 'nu_8': 0.3480616981600322, 'gamma_9': 0.15261648194285132, 'nu_9': 0.3838166377532291, 'gamma_10': 0.9036237483760211, 'nu_10': 0.22090524743148318, 'gamma_11': 0.41676479026941, 'nu_11': 0.3745448385439501, 'gamma_12': 0.6362987872437144, 'nu_12': 0.0784648953719209, 'gamma_13': 0.48988895450317527, 'nu_13': 0.3981087939257058, 'gamma_14': 0.28906062248913006, 'nu_14': 0.34220809135518476, 'gamma_15': 0.8456020874067054, 'nu_15': 0.32770819085729225, 'gamma_16': 0.46088330148768747, 'nu_16': 0.0174343632420497, 'gamma_17': 0.40426544560263766, 'nu_17': 0.02955700971142604, 'gamma_18': 0.04687287164016064, 'nu_18': 0.25274601715831985, 'gamma_19': 0.5027397014033012, 'nu_19': 0.3663341014088204, 'gamma_20': 0.6318024567599659, 'nu_20': 0.04703914184123236, 'gamma_21': 0.7105634285191227, 'nu_21': 0.23602335214662012, 'gamma_22': 0.4984077090773495, 'nu_22': 0.2740942246492823}. Best is trial 5 with value: 0.8812539582013933.\n"
     ]
    },
    {
     "name": "stdout",
     "output_type": "stream",
     "text": [
      "Validation Results:\n",
      "{'accuracy': '81.67', 'f1': '87.26', 'precision': '78.25', 'recall': '98.61'}\n",
      "\n",
      "Test Results:\n",
      "{'accuracy': '79.35', 'f1': '84.46', 'precision': '73.87', 'recall': '98.58'}\n"
     ]
    }
   ],
   "source": [
    "from utils import objective_dbocsvm_fit_ocsvm\n",
    "\n",
    "# Inner Optuna study for DBSCAN\n",
    "dbocsvm_fit_ocsvm_objective_lambda = lambda trial: objective_dbocsvm_fit_ocsvm(\n",
    "    trial,\n",
    "    model=dbocsvm,\n",
    "    X_encoded_train=X_encoded,\n",
    "    X_encoded_validation=X_val_encoded,\n",
    "    y_validation=y_val_resampled,\n",
    "    X_encoded_test=X_test_encoded,\n",
    "    y_test=y_test,\n",
    "    cluster_count=n_clusters,\n",
    "    metric=\"f1\",\n",
    ")\n",
    "\n",
    "if with_storage_dbocsvm:\n",
    "    dbocsvm_study = optuna.create_study(\n",
    "        direction=\"maximize\",\n",
    "        storage=ocsvm_optuna_storage_path,\n",
    "        study_name=\"dbocsvm_study\",\n",
    "        load_if_exists=True,\n",
    "    )\n",
    "    dbocsvm_study.optimize(\n",
    "        dbocsvm_fit_ocsvm_objective_lambda,\n",
    "        n_trials=ocsvm_trials,\n",
    "    )\n",
    "else:\n",
    "    dbocsvm_study = optuna.create_study(direction=\"maximize\")\n",
    "    dbocsvm_study.optimize(\n",
    "        dbocsvm_fit_ocsvm_objective_lambda,\n",
    "        n_trials=ocsvm_trials,\n",
    "    )"
   ]
  },
  {
   "cell_type": "code",
   "execution_count": 24,
   "metadata": {},
   "outputs": [
    {
     "data": {
      "application/vnd.plotly.v1+json": {
       "config": {
        "plotlyServerURL": "https://plot.ly"
       },
       "data": [
        {
         "mode": "markers",
         "name": "Objective Value",
         "type": "scatter",
         "x": [
          0,
          1,
          2,
          3,
          4,
          5,
          6,
          7,
          8,
          9
         ],
         "y": [
          0.8676523994811932,
          0.8797083839611178,
          0.8748952221290863,
          0.8800252578404546,
          0.8552101621398327,
          0.8812539582013933,
          0.8765872599433309,
          0.8641593148635403,
          0.8606334377085365,
          0.872579637726421
         ]
        },
        {
         "mode": "lines",
         "name": "Best Value",
         "type": "scatter",
         "x": [
          0,
          1,
          2,
          3,
          4,
          5,
          6,
          7,
          8,
          9
         ],
         "y": [
          0.8676523994811932,
          0.8797083839611178,
          0.8797083839611178,
          0.8800252578404546,
          0.8800252578404546,
          0.8812539582013933,
          0.8812539582013933,
          0.8812539582013933,
          0.8812539582013933,
          0.8812539582013933
         ]
        },
        {
         "marker": {
          "color": "#cccccc"
         },
         "mode": "markers",
         "name": "Infeasible Trial",
         "showlegend": false,
         "type": "scatter",
         "x": [],
         "y": []
        }
       ],
       "layout": {
        "template": {
         "data": {
          "bar": [
           {
            "error_x": {
             "color": "#2a3f5f"
            },
            "error_y": {
             "color": "#2a3f5f"
            },
            "marker": {
             "line": {
              "color": "#E5ECF6",
              "width": 0.5
             },
             "pattern": {
              "fillmode": "overlay",
              "size": 10,
              "solidity": 0.2
             }
            },
            "type": "bar"
           }
          ],
          "barpolar": [
           {
            "marker": {
             "line": {
              "color": "#E5ECF6",
              "width": 0.5
             },
             "pattern": {
              "fillmode": "overlay",
              "size": 10,
              "solidity": 0.2
             }
            },
            "type": "barpolar"
           }
          ],
          "carpet": [
           {
            "aaxis": {
             "endlinecolor": "#2a3f5f",
             "gridcolor": "white",
             "linecolor": "white",
             "minorgridcolor": "white",
             "startlinecolor": "#2a3f5f"
            },
            "baxis": {
             "endlinecolor": "#2a3f5f",
             "gridcolor": "white",
             "linecolor": "white",
             "minorgridcolor": "white",
             "startlinecolor": "#2a3f5f"
            },
            "type": "carpet"
           }
          ],
          "choropleth": [
           {
            "colorbar": {
             "outlinewidth": 0,
             "ticks": ""
            },
            "type": "choropleth"
           }
          ],
          "contour": [
           {
            "colorbar": {
             "outlinewidth": 0,
             "ticks": ""
            },
            "colorscale": [
             [
              0,
              "#0d0887"
             ],
             [
              0.1111111111111111,
              "#46039f"
             ],
             [
              0.2222222222222222,
              "#7201a8"
             ],
             [
              0.3333333333333333,
              "#9c179e"
             ],
             [
              0.4444444444444444,
              "#bd3786"
             ],
             [
              0.5555555555555556,
              "#d8576b"
             ],
             [
              0.6666666666666666,
              "#ed7953"
             ],
             [
              0.7777777777777778,
              "#fb9f3a"
             ],
             [
              0.8888888888888888,
              "#fdca26"
             ],
             [
              1,
              "#f0f921"
             ]
            ],
            "type": "contour"
           }
          ],
          "contourcarpet": [
           {
            "colorbar": {
             "outlinewidth": 0,
             "ticks": ""
            },
            "type": "contourcarpet"
           }
          ],
          "heatmap": [
           {
            "colorbar": {
             "outlinewidth": 0,
             "ticks": ""
            },
            "colorscale": [
             [
              0,
              "#0d0887"
             ],
             [
              0.1111111111111111,
              "#46039f"
             ],
             [
              0.2222222222222222,
              "#7201a8"
             ],
             [
              0.3333333333333333,
              "#9c179e"
             ],
             [
              0.4444444444444444,
              "#bd3786"
             ],
             [
              0.5555555555555556,
              "#d8576b"
             ],
             [
              0.6666666666666666,
              "#ed7953"
             ],
             [
              0.7777777777777778,
              "#fb9f3a"
             ],
             [
              0.8888888888888888,
              "#fdca26"
             ],
             [
              1,
              "#f0f921"
             ]
            ],
            "type": "heatmap"
           }
          ],
          "heatmapgl": [
           {
            "colorbar": {
             "outlinewidth": 0,
             "ticks": ""
            },
            "colorscale": [
             [
              0,
              "#0d0887"
             ],
             [
              0.1111111111111111,
              "#46039f"
             ],
             [
              0.2222222222222222,
              "#7201a8"
             ],
             [
              0.3333333333333333,
              "#9c179e"
             ],
             [
              0.4444444444444444,
              "#bd3786"
             ],
             [
              0.5555555555555556,
              "#d8576b"
             ],
             [
              0.6666666666666666,
              "#ed7953"
             ],
             [
              0.7777777777777778,
              "#fb9f3a"
             ],
             [
              0.8888888888888888,
              "#fdca26"
             ],
             [
              1,
              "#f0f921"
             ]
            ],
            "type": "heatmapgl"
           }
          ],
          "histogram": [
           {
            "marker": {
             "pattern": {
              "fillmode": "overlay",
              "size": 10,
              "solidity": 0.2
             }
            },
            "type": "histogram"
           }
          ],
          "histogram2d": [
           {
            "colorbar": {
             "outlinewidth": 0,
             "ticks": ""
            },
            "colorscale": [
             [
              0,
              "#0d0887"
             ],
             [
              0.1111111111111111,
              "#46039f"
             ],
             [
              0.2222222222222222,
              "#7201a8"
             ],
             [
              0.3333333333333333,
              "#9c179e"
             ],
             [
              0.4444444444444444,
              "#bd3786"
             ],
             [
              0.5555555555555556,
              "#d8576b"
             ],
             [
              0.6666666666666666,
              "#ed7953"
             ],
             [
              0.7777777777777778,
              "#fb9f3a"
             ],
             [
              0.8888888888888888,
              "#fdca26"
             ],
             [
              1,
              "#f0f921"
             ]
            ],
            "type": "histogram2d"
           }
          ],
          "histogram2dcontour": [
           {
            "colorbar": {
             "outlinewidth": 0,
             "ticks": ""
            },
            "colorscale": [
             [
              0,
              "#0d0887"
             ],
             [
              0.1111111111111111,
              "#46039f"
             ],
             [
              0.2222222222222222,
              "#7201a8"
             ],
             [
              0.3333333333333333,
              "#9c179e"
             ],
             [
              0.4444444444444444,
              "#bd3786"
             ],
             [
              0.5555555555555556,
              "#d8576b"
             ],
             [
              0.6666666666666666,
              "#ed7953"
             ],
             [
              0.7777777777777778,
              "#fb9f3a"
             ],
             [
              0.8888888888888888,
              "#fdca26"
             ],
             [
              1,
              "#f0f921"
             ]
            ],
            "type": "histogram2dcontour"
           }
          ],
          "mesh3d": [
           {
            "colorbar": {
             "outlinewidth": 0,
             "ticks": ""
            },
            "type": "mesh3d"
           }
          ],
          "parcoords": [
           {
            "line": {
             "colorbar": {
              "outlinewidth": 0,
              "ticks": ""
             }
            },
            "type": "parcoords"
           }
          ],
          "pie": [
           {
            "automargin": true,
            "type": "pie"
           }
          ],
          "scatter": [
           {
            "fillpattern": {
             "fillmode": "overlay",
             "size": 10,
             "solidity": 0.2
            },
            "type": "scatter"
           }
          ],
          "scatter3d": [
           {
            "line": {
             "colorbar": {
              "outlinewidth": 0,
              "ticks": ""
             }
            },
            "marker": {
             "colorbar": {
              "outlinewidth": 0,
              "ticks": ""
             }
            },
            "type": "scatter3d"
           }
          ],
          "scattercarpet": [
           {
            "marker": {
             "colorbar": {
              "outlinewidth": 0,
              "ticks": ""
             }
            },
            "type": "scattercarpet"
           }
          ],
          "scattergeo": [
           {
            "marker": {
             "colorbar": {
              "outlinewidth": 0,
              "ticks": ""
             }
            },
            "type": "scattergeo"
           }
          ],
          "scattergl": [
           {
            "marker": {
             "colorbar": {
              "outlinewidth": 0,
              "ticks": ""
             }
            },
            "type": "scattergl"
           }
          ],
          "scattermapbox": [
           {
            "marker": {
             "colorbar": {
              "outlinewidth": 0,
              "ticks": ""
             }
            },
            "type": "scattermapbox"
           }
          ],
          "scatterpolar": [
           {
            "marker": {
             "colorbar": {
              "outlinewidth": 0,
              "ticks": ""
             }
            },
            "type": "scatterpolar"
           }
          ],
          "scatterpolargl": [
           {
            "marker": {
             "colorbar": {
              "outlinewidth": 0,
              "ticks": ""
             }
            },
            "type": "scatterpolargl"
           }
          ],
          "scatterternary": [
           {
            "marker": {
             "colorbar": {
              "outlinewidth": 0,
              "ticks": ""
             }
            },
            "type": "scatterternary"
           }
          ],
          "surface": [
           {
            "colorbar": {
             "outlinewidth": 0,
             "ticks": ""
            },
            "colorscale": [
             [
              0,
              "#0d0887"
             ],
             [
              0.1111111111111111,
              "#46039f"
             ],
             [
              0.2222222222222222,
              "#7201a8"
             ],
             [
              0.3333333333333333,
              "#9c179e"
             ],
             [
              0.4444444444444444,
              "#bd3786"
             ],
             [
              0.5555555555555556,
              "#d8576b"
             ],
             [
              0.6666666666666666,
              "#ed7953"
             ],
             [
              0.7777777777777778,
              "#fb9f3a"
             ],
             [
              0.8888888888888888,
              "#fdca26"
             ],
             [
              1,
              "#f0f921"
             ]
            ],
            "type": "surface"
           }
          ],
          "table": [
           {
            "cells": {
             "fill": {
              "color": "#EBF0F8"
             },
             "line": {
              "color": "white"
             }
            },
            "header": {
             "fill": {
              "color": "#C8D4E3"
             },
             "line": {
              "color": "white"
             }
            },
            "type": "table"
           }
          ]
         },
         "layout": {
          "annotationdefaults": {
           "arrowcolor": "#2a3f5f",
           "arrowhead": 0,
           "arrowwidth": 1
          },
          "autotypenumbers": "strict",
          "coloraxis": {
           "colorbar": {
            "outlinewidth": 0,
            "ticks": ""
           }
          },
          "colorscale": {
           "diverging": [
            [
             0,
             "#8e0152"
            ],
            [
             0.1,
             "#c51b7d"
            ],
            [
             0.2,
             "#de77ae"
            ],
            [
             0.3,
             "#f1b6da"
            ],
            [
             0.4,
             "#fde0ef"
            ],
            [
             0.5,
             "#f7f7f7"
            ],
            [
             0.6,
             "#e6f5d0"
            ],
            [
             0.7,
             "#b8e186"
            ],
            [
             0.8,
             "#7fbc41"
            ],
            [
             0.9,
             "#4d9221"
            ],
            [
             1,
             "#276419"
            ]
           ],
           "sequential": [
            [
             0,
             "#0d0887"
            ],
            [
             0.1111111111111111,
             "#46039f"
            ],
            [
             0.2222222222222222,
             "#7201a8"
            ],
            [
             0.3333333333333333,
             "#9c179e"
            ],
            [
             0.4444444444444444,
             "#bd3786"
            ],
            [
             0.5555555555555556,
             "#d8576b"
            ],
            [
             0.6666666666666666,
             "#ed7953"
            ],
            [
             0.7777777777777778,
             "#fb9f3a"
            ],
            [
             0.8888888888888888,
             "#fdca26"
            ],
            [
             1,
             "#f0f921"
            ]
           ],
           "sequentialminus": [
            [
             0,
             "#0d0887"
            ],
            [
             0.1111111111111111,
             "#46039f"
            ],
            [
             0.2222222222222222,
             "#7201a8"
            ],
            [
             0.3333333333333333,
             "#9c179e"
            ],
            [
             0.4444444444444444,
             "#bd3786"
            ],
            [
             0.5555555555555556,
             "#d8576b"
            ],
            [
             0.6666666666666666,
             "#ed7953"
            ],
            [
             0.7777777777777778,
             "#fb9f3a"
            ],
            [
             0.8888888888888888,
             "#fdca26"
            ],
            [
             1,
             "#f0f921"
            ]
           ]
          },
          "colorway": [
           "#636efa",
           "#EF553B",
           "#00cc96",
           "#ab63fa",
           "#FFA15A",
           "#19d3f3",
           "#FF6692",
           "#B6E880",
           "#FF97FF",
           "#FECB52"
          ],
          "font": {
           "color": "#2a3f5f"
          },
          "geo": {
           "bgcolor": "white",
           "lakecolor": "white",
           "landcolor": "#E5ECF6",
           "showlakes": true,
           "showland": true,
           "subunitcolor": "white"
          },
          "hoverlabel": {
           "align": "left"
          },
          "hovermode": "closest",
          "mapbox": {
           "style": "light"
          },
          "paper_bgcolor": "white",
          "plot_bgcolor": "#E5ECF6",
          "polar": {
           "angularaxis": {
            "gridcolor": "white",
            "linecolor": "white",
            "ticks": ""
           },
           "bgcolor": "#E5ECF6",
           "radialaxis": {
            "gridcolor": "white",
            "linecolor": "white",
            "ticks": ""
           }
          },
          "scene": {
           "xaxis": {
            "backgroundcolor": "#E5ECF6",
            "gridcolor": "white",
            "gridwidth": 2,
            "linecolor": "white",
            "showbackground": true,
            "ticks": "",
            "zerolinecolor": "white"
           },
           "yaxis": {
            "backgroundcolor": "#E5ECF6",
            "gridcolor": "white",
            "gridwidth": 2,
            "linecolor": "white",
            "showbackground": true,
            "ticks": "",
            "zerolinecolor": "white"
           },
           "zaxis": {
            "backgroundcolor": "#E5ECF6",
            "gridcolor": "white",
            "gridwidth": 2,
            "linecolor": "white",
            "showbackground": true,
            "ticks": "",
            "zerolinecolor": "white"
           }
          },
          "shapedefaults": {
           "line": {
            "color": "#2a3f5f"
           }
          },
          "ternary": {
           "aaxis": {
            "gridcolor": "white",
            "linecolor": "white",
            "ticks": ""
           },
           "baxis": {
            "gridcolor": "white",
            "linecolor": "white",
            "ticks": ""
           },
           "bgcolor": "#E5ECF6",
           "caxis": {
            "gridcolor": "white",
            "linecolor": "white",
            "ticks": ""
           }
          },
          "title": {
           "x": 0.05
          },
          "xaxis": {
           "automargin": true,
           "gridcolor": "white",
           "linecolor": "white",
           "ticks": "",
           "title": {
            "standoff": 15
           },
           "zerolinecolor": "white",
           "zerolinewidth": 2
          },
          "yaxis": {
           "automargin": true,
           "gridcolor": "white",
           "linecolor": "white",
           "ticks": "",
           "title": {
            "standoff": 15
           },
           "zerolinecolor": "white",
           "zerolinewidth": 2
          }
         }
        },
        "title": {
         "text": "Optimization History Plot"
        },
        "xaxis": {
         "title": {
          "text": "Trial"
         }
        },
        "yaxis": {
         "title": {
          "text": "Objective Value"
         }
        }
       }
      }
     },
     "metadata": {},
     "output_type": "display_data"
    }
   ],
   "source": [
    "import optuna\n",
    "from plotly.io import show\n",
    "\n",
    "fig = optuna.visualization.plot_optimization_history(dbocsvm_study)\n",
    "show(fig)"
   ]
  },
  {
   "cell_type": "code",
   "execution_count": 25,
   "metadata": {},
   "outputs": [
    {
     "data": {
      "application/vnd.plotly.v1+json": {
       "config": {
        "plotlyServerURL": "https://plot.ly"
       },
       "data": [
        {
         "mode": "lines",
         "name": "no-name-f199d9b8-bedc-41cc-a210-5b56b92e6ed2",
         "type": "scatter",
         "x": [
          0.8552101621398327,
          0.8554732307869192,
          0.8557362994340056,
          0.8559993680810921,
          0.8562624367281786,
          0.8565255053752651,
          0.8567885740223515,
          0.857051642669438,
          0.8573147113165245,
          0.857577779963611,
          0.8578408486106974,
          0.8581039172577839,
          0.8583669859048704,
          0.8586300545519568,
          0.8588931231990433,
          0.8591561918461298,
          0.8594192604932163,
          0.8596823291403027,
          0.8599453977873892,
          0.8602084664344757,
          0.8604715350815622,
          0.8607346037286486,
          0.8609976723757351,
          0.8612607410228216,
          0.861523809669908,
          0.8617868783169944,
          0.8620499469640809,
          0.8623130156111674,
          0.8625760842582538,
          0.8628391529053403,
          0.8631022215524268,
          0.8633652901995132,
          0.8636283588465997,
          0.8638914274936862,
          0.8641544961407727,
          0.8644175647878591,
          0.8646806334349456,
          0.8649437020820321,
          0.8652067707291186,
          0.865469839376205,
          0.8657329080232915,
          0.865995976670378,
          0.8662590453174644,
          0.8665221139645509,
          0.8667851826116374,
          0.8670482512587239,
          0.8673113199058103,
          0.8675743885528968,
          0.8678374571999833,
          0.8681005258470698,
          0.8683635944941562,
          0.8686266631412427,
          0.8688897317883292,
          0.8691528004354157,
          0.8694158690825021,
          0.8696789377295886,
          0.8699420063766751,
          0.8702050750237615,
          0.870468143670848,
          0.8707312123179345,
          0.870994280965021,
          0.8712573496121074,
          0.8715204182591939,
          0.8717834869062804,
          0.8720465555533669,
          0.8723096242004533,
          0.8725726928475398,
          0.8728357614946263,
          0.8730988301417127,
          0.8733618987887992,
          0.8736249674358857,
          0.8738880360829722,
          0.8741511047300586,
          0.8744141733771451,
          0.8746772420242316,
          0.8749403106713181,
          0.8752033793184044,
          0.8754664479654909,
          0.8757295166125774,
          0.8759925852596638,
          0.8762556539067503,
          0.8765187225538368,
          0.8767817912009233,
          0.8770448598480097,
          0.8773079284950962,
          0.8775709971421827,
          0.8778340657892691,
          0.8780971344363556,
          0.8783602030834421,
          0.8786232717305286,
          0.878886340377615,
          0.8791494090247015,
          0.879412477671788,
          0.8796755463188745,
          0.8799386149659609,
          0.8802016836130474,
          0.8804647522601339,
          0.8807278209072203,
          0.8809908895543068,
          0.8812539582013933
         ],
         "y": [
          0.1,
          0.1,
          0.1,
          0.1,
          0.1,
          0.1,
          0.1,
          0.1,
          0.1,
          0.1,
          0.1,
          0.1,
          0.1,
          0.1,
          0.1,
          0.1,
          0.1,
          0.1,
          0.1,
          0.1,
          0.1,
          0.2,
          0.2,
          0.2,
          0.2,
          0.2,
          0.2,
          0.2,
          0.2,
          0.2,
          0.2,
          0.2,
          0.2,
          0.2,
          0.2,
          0.3,
          0.3,
          0.3,
          0.3,
          0.3,
          0.3,
          0.3,
          0.3,
          0.3,
          0.3,
          0.3,
          0.3,
          0.3,
          0.4,
          0.4,
          0.4,
          0.4,
          0.4,
          0.4,
          0.4,
          0.4,
          0.4,
          0.4,
          0.4,
          0.4,
          0.4,
          0.4,
          0.4,
          0.4,
          0.4,
          0.4,
          0.4,
          0.5,
          0.5,
          0.5,
          0.5,
          0.5,
          0.5,
          0.5,
          0.5,
          0.6,
          0.6,
          0.6,
          0.6,
          0.6,
          0.6,
          0.6,
          0.7,
          0.7,
          0.7,
          0.7,
          0.7,
          0.7,
          0.7,
          0.7,
          0.7,
          0.7,
          0.7,
          0.7,
          0.8,
          0.9,
          0.9,
          0.9,
          0.9,
          1
         ]
        }
       ],
       "layout": {
        "template": {
         "data": {
          "bar": [
           {
            "error_x": {
             "color": "#2a3f5f"
            },
            "error_y": {
             "color": "#2a3f5f"
            },
            "marker": {
             "line": {
              "color": "#E5ECF6",
              "width": 0.5
             },
             "pattern": {
              "fillmode": "overlay",
              "size": 10,
              "solidity": 0.2
             }
            },
            "type": "bar"
           }
          ],
          "barpolar": [
           {
            "marker": {
             "line": {
              "color": "#E5ECF6",
              "width": 0.5
             },
             "pattern": {
              "fillmode": "overlay",
              "size": 10,
              "solidity": 0.2
             }
            },
            "type": "barpolar"
           }
          ],
          "carpet": [
           {
            "aaxis": {
             "endlinecolor": "#2a3f5f",
             "gridcolor": "white",
             "linecolor": "white",
             "minorgridcolor": "white",
             "startlinecolor": "#2a3f5f"
            },
            "baxis": {
             "endlinecolor": "#2a3f5f",
             "gridcolor": "white",
             "linecolor": "white",
             "minorgridcolor": "white",
             "startlinecolor": "#2a3f5f"
            },
            "type": "carpet"
           }
          ],
          "choropleth": [
           {
            "colorbar": {
             "outlinewidth": 0,
             "ticks": ""
            },
            "type": "choropleth"
           }
          ],
          "contour": [
           {
            "colorbar": {
             "outlinewidth": 0,
             "ticks": ""
            },
            "colorscale": [
             [
              0,
              "#0d0887"
             ],
             [
              0.1111111111111111,
              "#46039f"
             ],
             [
              0.2222222222222222,
              "#7201a8"
             ],
             [
              0.3333333333333333,
              "#9c179e"
             ],
             [
              0.4444444444444444,
              "#bd3786"
             ],
             [
              0.5555555555555556,
              "#d8576b"
             ],
             [
              0.6666666666666666,
              "#ed7953"
             ],
             [
              0.7777777777777778,
              "#fb9f3a"
             ],
             [
              0.8888888888888888,
              "#fdca26"
             ],
             [
              1,
              "#f0f921"
             ]
            ],
            "type": "contour"
           }
          ],
          "contourcarpet": [
           {
            "colorbar": {
             "outlinewidth": 0,
             "ticks": ""
            },
            "type": "contourcarpet"
           }
          ],
          "heatmap": [
           {
            "colorbar": {
             "outlinewidth": 0,
             "ticks": ""
            },
            "colorscale": [
             [
              0,
              "#0d0887"
             ],
             [
              0.1111111111111111,
              "#46039f"
             ],
             [
              0.2222222222222222,
              "#7201a8"
             ],
             [
              0.3333333333333333,
              "#9c179e"
             ],
             [
              0.4444444444444444,
              "#bd3786"
             ],
             [
              0.5555555555555556,
              "#d8576b"
             ],
             [
              0.6666666666666666,
              "#ed7953"
             ],
             [
              0.7777777777777778,
              "#fb9f3a"
             ],
             [
              0.8888888888888888,
              "#fdca26"
             ],
             [
              1,
              "#f0f921"
             ]
            ],
            "type": "heatmap"
           }
          ],
          "heatmapgl": [
           {
            "colorbar": {
             "outlinewidth": 0,
             "ticks": ""
            },
            "colorscale": [
             [
              0,
              "#0d0887"
             ],
             [
              0.1111111111111111,
              "#46039f"
             ],
             [
              0.2222222222222222,
              "#7201a8"
             ],
             [
              0.3333333333333333,
              "#9c179e"
             ],
             [
              0.4444444444444444,
              "#bd3786"
             ],
             [
              0.5555555555555556,
              "#d8576b"
             ],
             [
              0.6666666666666666,
              "#ed7953"
             ],
             [
              0.7777777777777778,
              "#fb9f3a"
             ],
             [
              0.8888888888888888,
              "#fdca26"
             ],
             [
              1,
              "#f0f921"
             ]
            ],
            "type": "heatmapgl"
           }
          ],
          "histogram": [
           {
            "marker": {
             "pattern": {
              "fillmode": "overlay",
              "size": 10,
              "solidity": 0.2
             }
            },
            "type": "histogram"
           }
          ],
          "histogram2d": [
           {
            "colorbar": {
             "outlinewidth": 0,
             "ticks": ""
            },
            "colorscale": [
             [
              0,
              "#0d0887"
             ],
             [
              0.1111111111111111,
              "#46039f"
             ],
             [
              0.2222222222222222,
              "#7201a8"
             ],
             [
              0.3333333333333333,
              "#9c179e"
             ],
             [
              0.4444444444444444,
              "#bd3786"
             ],
             [
              0.5555555555555556,
              "#d8576b"
             ],
             [
              0.6666666666666666,
              "#ed7953"
             ],
             [
              0.7777777777777778,
              "#fb9f3a"
             ],
             [
              0.8888888888888888,
              "#fdca26"
             ],
             [
              1,
              "#f0f921"
             ]
            ],
            "type": "histogram2d"
           }
          ],
          "histogram2dcontour": [
           {
            "colorbar": {
             "outlinewidth": 0,
             "ticks": ""
            },
            "colorscale": [
             [
              0,
              "#0d0887"
             ],
             [
              0.1111111111111111,
              "#46039f"
             ],
             [
              0.2222222222222222,
              "#7201a8"
             ],
             [
              0.3333333333333333,
              "#9c179e"
             ],
             [
              0.4444444444444444,
              "#bd3786"
             ],
             [
              0.5555555555555556,
              "#d8576b"
             ],
             [
              0.6666666666666666,
              "#ed7953"
             ],
             [
              0.7777777777777778,
              "#fb9f3a"
             ],
             [
              0.8888888888888888,
              "#fdca26"
             ],
             [
              1,
              "#f0f921"
             ]
            ],
            "type": "histogram2dcontour"
           }
          ],
          "mesh3d": [
           {
            "colorbar": {
             "outlinewidth": 0,
             "ticks": ""
            },
            "type": "mesh3d"
           }
          ],
          "parcoords": [
           {
            "line": {
             "colorbar": {
              "outlinewidth": 0,
              "ticks": ""
             }
            },
            "type": "parcoords"
           }
          ],
          "pie": [
           {
            "automargin": true,
            "type": "pie"
           }
          ],
          "scatter": [
           {
            "fillpattern": {
             "fillmode": "overlay",
             "size": 10,
             "solidity": 0.2
            },
            "type": "scatter"
           }
          ],
          "scatter3d": [
           {
            "line": {
             "colorbar": {
              "outlinewidth": 0,
              "ticks": ""
             }
            },
            "marker": {
             "colorbar": {
              "outlinewidth": 0,
              "ticks": ""
             }
            },
            "type": "scatter3d"
           }
          ],
          "scattercarpet": [
           {
            "marker": {
             "colorbar": {
              "outlinewidth": 0,
              "ticks": ""
             }
            },
            "type": "scattercarpet"
           }
          ],
          "scattergeo": [
           {
            "marker": {
             "colorbar": {
              "outlinewidth": 0,
              "ticks": ""
             }
            },
            "type": "scattergeo"
           }
          ],
          "scattergl": [
           {
            "marker": {
             "colorbar": {
              "outlinewidth": 0,
              "ticks": ""
             }
            },
            "type": "scattergl"
           }
          ],
          "scattermapbox": [
           {
            "marker": {
             "colorbar": {
              "outlinewidth": 0,
              "ticks": ""
             }
            },
            "type": "scattermapbox"
           }
          ],
          "scatterpolar": [
           {
            "marker": {
             "colorbar": {
              "outlinewidth": 0,
              "ticks": ""
             }
            },
            "type": "scatterpolar"
           }
          ],
          "scatterpolargl": [
           {
            "marker": {
             "colorbar": {
              "outlinewidth": 0,
              "ticks": ""
             }
            },
            "type": "scatterpolargl"
           }
          ],
          "scatterternary": [
           {
            "marker": {
             "colorbar": {
              "outlinewidth": 0,
              "ticks": ""
             }
            },
            "type": "scatterternary"
           }
          ],
          "surface": [
           {
            "colorbar": {
             "outlinewidth": 0,
             "ticks": ""
            },
            "colorscale": [
             [
              0,
              "#0d0887"
             ],
             [
              0.1111111111111111,
              "#46039f"
             ],
             [
              0.2222222222222222,
              "#7201a8"
             ],
             [
              0.3333333333333333,
              "#9c179e"
             ],
             [
              0.4444444444444444,
              "#bd3786"
             ],
             [
              0.5555555555555556,
              "#d8576b"
             ],
             [
              0.6666666666666666,
              "#ed7953"
             ],
             [
              0.7777777777777778,
              "#fb9f3a"
             ],
             [
              0.8888888888888888,
              "#fdca26"
             ],
             [
              1,
              "#f0f921"
             ]
            ],
            "type": "surface"
           }
          ],
          "table": [
           {
            "cells": {
             "fill": {
              "color": "#EBF0F8"
             },
             "line": {
              "color": "white"
             }
            },
            "header": {
             "fill": {
              "color": "#C8D4E3"
             },
             "line": {
              "color": "white"
             }
            },
            "type": "table"
           }
          ]
         },
         "layout": {
          "annotationdefaults": {
           "arrowcolor": "#2a3f5f",
           "arrowhead": 0,
           "arrowwidth": 1
          },
          "autotypenumbers": "strict",
          "coloraxis": {
           "colorbar": {
            "outlinewidth": 0,
            "ticks": ""
           }
          },
          "colorscale": {
           "diverging": [
            [
             0,
             "#8e0152"
            ],
            [
             0.1,
             "#c51b7d"
            ],
            [
             0.2,
             "#de77ae"
            ],
            [
             0.3,
             "#f1b6da"
            ],
            [
             0.4,
             "#fde0ef"
            ],
            [
             0.5,
             "#f7f7f7"
            ],
            [
             0.6,
             "#e6f5d0"
            ],
            [
             0.7,
             "#b8e186"
            ],
            [
             0.8,
             "#7fbc41"
            ],
            [
             0.9,
             "#4d9221"
            ],
            [
             1,
             "#276419"
            ]
           ],
           "sequential": [
            [
             0,
             "#0d0887"
            ],
            [
             0.1111111111111111,
             "#46039f"
            ],
            [
             0.2222222222222222,
             "#7201a8"
            ],
            [
             0.3333333333333333,
             "#9c179e"
            ],
            [
             0.4444444444444444,
             "#bd3786"
            ],
            [
             0.5555555555555556,
             "#d8576b"
            ],
            [
             0.6666666666666666,
             "#ed7953"
            ],
            [
             0.7777777777777778,
             "#fb9f3a"
            ],
            [
             0.8888888888888888,
             "#fdca26"
            ],
            [
             1,
             "#f0f921"
            ]
           ],
           "sequentialminus": [
            [
             0,
             "#0d0887"
            ],
            [
             0.1111111111111111,
             "#46039f"
            ],
            [
             0.2222222222222222,
             "#7201a8"
            ],
            [
             0.3333333333333333,
             "#9c179e"
            ],
            [
             0.4444444444444444,
             "#bd3786"
            ],
            [
             0.5555555555555556,
             "#d8576b"
            ],
            [
             0.6666666666666666,
             "#ed7953"
            ],
            [
             0.7777777777777778,
             "#fb9f3a"
            ],
            [
             0.8888888888888888,
             "#fdca26"
            ],
            [
             1,
             "#f0f921"
            ]
           ]
          },
          "colorway": [
           "#636efa",
           "#EF553B",
           "#00cc96",
           "#ab63fa",
           "#FFA15A",
           "#19d3f3",
           "#FF6692",
           "#B6E880",
           "#FF97FF",
           "#FECB52"
          ],
          "font": {
           "color": "#2a3f5f"
          },
          "geo": {
           "bgcolor": "white",
           "lakecolor": "white",
           "landcolor": "#E5ECF6",
           "showlakes": true,
           "showland": true,
           "subunitcolor": "white"
          },
          "hoverlabel": {
           "align": "left"
          },
          "hovermode": "closest",
          "mapbox": {
           "style": "light"
          },
          "paper_bgcolor": "white",
          "plot_bgcolor": "#E5ECF6",
          "polar": {
           "angularaxis": {
            "gridcolor": "white",
            "linecolor": "white",
            "ticks": ""
           },
           "bgcolor": "#E5ECF6",
           "radialaxis": {
            "gridcolor": "white",
            "linecolor": "white",
            "ticks": ""
           }
          },
          "scene": {
           "xaxis": {
            "backgroundcolor": "#E5ECF6",
            "gridcolor": "white",
            "gridwidth": 2,
            "linecolor": "white",
            "showbackground": true,
            "ticks": "",
            "zerolinecolor": "white"
           },
           "yaxis": {
            "backgroundcolor": "#E5ECF6",
            "gridcolor": "white",
            "gridwidth": 2,
            "linecolor": "white",
            "showbackground": true,
            "ticks": "",
            "zerolinecolor": "white"
           },
           "zaxis": {
            "backgroundcolor": "#E5ECF6",
            "gridcolor": "white",
            "gridwidth": 2,
            "linecolor": "white",
            "showbackground": true,
            "ticks": "",
            "zerolinecolor": "white"
           }
          },
          "shapedefaults": {
           "line": {
            "color": "#2a3f5f"
           }
          },
          "ternary": {
           "aaxis": {
            "gridcolor": "white",
            "linecolor": "white",
            "ticks": ""
           },
           "baxis": {
            "gridcolor": "white",
            "linecolor": "white",
            "ticks": ""
           },
           "bgcolor": "#E5ECF6",
           "caxis": {
            "gridcolor": "white",
            "linecolor": "white",
            "ticks": ""
           }
          },
          "title": {
           "x": 0.05
          },
          "xaxis": {
           "automargin": true,
           "gridcolor": "white",
           "linecolor": "white",
           "ticks": "",
           "title": {
            "standoff": 15
           },
           "zerolinecolor": "white",
           "zerolinewidth": 2
          },
          "yaxis": {
           "automargin": true,
           "gridcolor": "white",
           "linecolor": "white",
           "ticks": "",
           "title": {
            "standoff": 15
           },
           "zerolinecolor": "white",
           "zerolinewidth": 2
          }
         }
        },
        "title": {
         "text": "Empirical Distribution Function Plot"
        },
        "xaxis": {
         "title": {
          "text": "Objective Value"
         }
        },
        "yaxis": {
         "range": [
          0,
          1
         ],
         "title": {
          "text": "Cumulative Probability"
         }
        }
       }
      }
     },
     "metadata": {},
     "output_type": "display_data"
    }
   ],
   "source": [
    "fig = optuna.visualization.plot_edf([dbocsvm_study])\n",
    "show(fig)"
   ]
  },
  {
   "cell_type": "code",
   "execution_count": 21,
   "metadata": {},
   "outputs": [],
   "source": [
    "parameter_list = {}\n",
    "\n",
    "for key, value in dbocsvm_study.best_params.items():\n",
    "    cluster = key.split(\"_\")[1]\n",
    "    cluster = int(cluster)\n",
    "\n",
    "    parameter_list[cluster] = {\n",
    "        \"kernel\": \"rbf\",\n",
    "        \"gamma\": dbocsvm_study.best_params[f\"gamma_{cluster}\"],\n",
    "        \"nu\": dbocsvm_study.best_params[f\"nu_{cluster}\"],\n",
    "    }"
   ]
  },
  {
   "cell_type": "markdown",
   "metadata": {},
   "source": [
    "best parameters and values"
   ]
  },
  {
   "cell_type": "code",
   "execution_count": 22,
   "metadata": {},
   "outputs": [
    {
     "name": "stdout",
     "output_type": "stream",
     "text": [
      "Best autoencoder model:\n",
      "{'input_dim': 122,\n",
      " 'hidden_dims': [64, 32],\n",
      " 'latent_dim': 8,\n",
      " 'activation_type': 'LeakyReLU',\n",
      " 'negative_slope': 0.2,\n",
      " 'dropout_rate': 0.3,\n",
      " 'output_activation_type': 'Sigmoid',\n",
      " 'val_loss': 0.0009392629441242876}\n",
      "\n",
      "Reconstruction error:\n",
      "{'normal_loss': 0.0014022980549062932,\n",
      " 'anomaly_loss': 0.03032843417434621,\n",
      " 'loss_difference': 0.028926136119439914}\n",
      "\n",
      "Best dbscan parameters\n",
      "{'eps': 16.030210554032887,\n",
      " 'min_samples': 15,\n",
      " 'distance_metric': 'manhattan',\n",
      " 'evaluation_metric': 'silhouette',\n",
      " 'score': 0.5952938199043274,\n",
      " 'n_clusters': 23,\n",
      " 'cluster_data_points': {0: 351,\n",
      "                         1: 3328,\n",
      "                         2: 275,\n",
      "                         3: 36,\n",
      "                         4: 716,\n",
      "                         5: 82,\n",
      "                         6: 195,\n",
      "                         7: 91,\n",
      "                         8: 299,\n",
      "                         9: 22,\n",
      "                         10: 48,\n",
      "                         11: 39,\n",
      "                         12: 33,\n",
      "                         13: 125,\n",
      "                         14: 24,\n",
      "                         15: 46,\n",
      "                         16: 21,\n",
      "                         17: 23,\n",
      "                         18: 32,\n",
      "                         19: 15,\n",
      "                         20: 26,\n",
      "                         21: 19,\n",
      "                         22: 19,\n",
      "                         -1: 869}}\n",
      "\n",
      "Best ocsvm parameters\n",
      "Tree algorithm: ball_tree\n",
      "Accuracy: 0.8812539582013933\n",
      "{0: {'kernel': 'rbf', 'gamma': 0.5757517763551621, 'nu': 0.03283100931585545},\n",
      " 1: {'kernel': 'rbf', 'gamma': 0.4647903380921226, 'nu': 0.2055246904334975},\n",
      " 2: {'kernel': 'rbf', 'gamma': 0.11384006571080982, 'nu': 0.15686146312022403},\n",
      " 3: {'kernel': 'rbf', 'gamma': 0.3005580356555729, 'nu': 0.24652460807720647},\n",
      " 4: {'kernel': 'rbf', 'gamma': 0.16546085720459136, 'nu': 0.36400701774630434},\n",
      " 5: {'kernel': 'rbf', 'gamma': 0.027453242980593446, 'nu': 0.1742656209286344},\n",
      " 6: {'kernel': 'rbf', 'gamma': 0.868475161569277, 'nu': 0.33535773986810413},\n",
      " 7: {'kernel': 'rbf', 'gamma': 0.35989191995623543, 'nu': 0.43170717622363347},\n",
      " 8: {'kernel': 'rbf', 'gamma': 0.3670099105610485, 'nu': 0.46619165451925243},\n",
      " 9: {'kernel': 'rbf', 'gamma': 0.42685744204224196, 'nu': 0.32728596496100687},\n",
      " 10: {'kernel': 'rbf', 'gamma': 0.00950222063950123, 'nu': 0.21091471290480504},\n",
      " 11: {'kernel': 'rbf', 'gamma': 0.9894742279761547, 'nu': 0.25242195114517935},\n",
      " 12: {'kernel': 'rbf', 'gamma': 0.7049871973556343, 'nu': 0.08383075599329053},\n",
      " 13: {'kernel': 'rbf', 'gamma': 0.9746740601576385, 'nu': 0.24200331145726517},\n",
      " 14: {'kernel': 'rbf', 'gamma': 0.16656177794816104, 'nu': 0.3185648964616598},\n",
      " 15: {'kernel': 'rbf', 'gamma': 0.6470365326468259, 'nu': 0.15091303776148504},\n",
      " 16: {'kernel': 'rbf', 'gamma': 0.5457869184294061, 'nu': 0.4080427782284192},\n",
      " 17: {'kernel': 'rbf', 'gamma': 0.7989237002255772, 'nu': 0.08946676352297589},\n",
      " 18: {'kernel': 'rbf', 'gamma': 0.132309900053054, 'nu': 0.037453130484530896},\n",
      " 19: {'kernel': 'rbf', 'gamma': 0.03623295474384085, 'nu': 0.33467612019699305},\n",
      " 20: {'kernel': 'rbf', 'gamma': 0.9537906025239601, 'nu': 0.4724057407827613},\n",
      " 21: {'kernel': 'rbf', 'gamma': 0.8430498500482811, 'nu': 0.46160651702970534},\n",
      " 22: {'kernel': 'rbf', 'gamma': 0.27216262299833466, 'nu': 0.18855945461131238}}\n"
     ]
    }
   ],
   "source": [
    "autoencoder_architecture = {\n",
    "    \"input_dim\": existing_model_architecture[\"input_dim\"],\n",
    "    \"hidden_dims\": existing_model_architecture[\"hidden_dims\"],\n",
    "    \"latent_dim\": existing_model_architecture[\"latent_dim\"],\n",
    "    \"activation_type\": existing_model_architecture[\"activation_type\"],\n",
    "    \"negative_slope\": existing_model_architecture[\"negative_slope\"],\n",
    "    \"dropout_rate\": existing_model_architecture[\"dropout_rate\"],\n",
    "    \"output_activation_type\": existing_model_architecture[\"output_activation_type\"],\n",
    "    \"val_loss\": checkpoint[\"val_loss\"],\n",
    "}\n",
    "\n",
    "print(\"Best autoencoder model:\")\n",
    "pprint.pprint(autoencoder_architecture, sort_dicts=False)\n",
    "print(\"\")\n",
    "\n",
    "print(\"Reconstruction error:\")\n",
    "pprint.pprint(reconstruction_error, sort_dicts=False)\n",
    "print(\"\")\n",
    "\n",
    "best_dbscan_parameters = {\n",
    "    \"eps\": eps,\n",
    "    \"min_samples\": min_samples,\n",
    "    \"distance_metric\": dbscan_tuning_parameters[\"distance_metric\"],\n",
    "    \"evaluation_metric\": dbscan_tuning_parameters[\"evaluation_metric\"],\n",
    "    \"score\": best_trial_dbscan.value,\n",
    "    \"n_clusters\": n_clusters,\n",
    "    \"cluster_data_points\": cluster_data_points,\n",
    "}\n",
    "\n",
    "print(\"Best dbscan parameters\")\n",
    "pprint.pprint(best_dbscan_parameters, sort_dicts=False)\n",
    "print(\"\")\n",
    "\n",
    "print(\"Best ocsvm parameters\")\n",
    "print(f\"Tree algorithm: {dbocsvm_tree_algorithm}\")\n",
    "print(f\"Accuracy: {dbocsvm_study.best_value}\")\n",
    "pprint.pprint(parameter_list, sort_dicts=False)"
   ]
  },
  {
   "cell_type": "code",
   "execution_count": 23,
   "metadata": {},
   "outputs": [],
   "source": [
    "import json\n",
    "\n",
    "tuning_result = {\n",
    "    \"dbscan\": best_dbscan_parameters,\n",
    "    \"ocsvm\": {\n",
    "        \"tree_algorithm\": dbocsvm_tree_algorithm,\n",
    "        \"accuracy\": dbocsvm_study.best_value,\n",
    "        \"parameters\": parameter_list,\n",
    "    },\n",
    "}\n",
    "\n",
    "results = {\n",
    "    \"max_score\": 0,\n",
    "    \"autoencoder_architecture\": autoencoder_architecture,\n",
    "    \"reconstruction_error\": reconstruction_error,\n",
    "    \"tuning_results\": {},\n",
    "}\n",
    "\n",
    "os.makedirs(\"tuning_results\", exist_ok=True)\n",
    "if os.path.exists(results_path):\n",
    "    with open(results_path, \"r\") as file:\n",
    "        existing_results = json.load(file)\n",
    "        if existing_results[\"max_score\"] < dbocsvm_study.best_value:\n",
    "            with open(results_path, \"w\") as f:\n",
    "                existing_results[\"max_score\"] = dbocsvm_study.best_value\n",
    "                tuning_result_id = len(existing_results[\"tuning_results\"])\n",
    "                tuning_result[\"score\"] = dbocsvm_study.best_value\n",
    "                existing_results[\"tuning_results\"][tuning_result_id] = tuning_result\n",
    "                json.dump(existing_results, f)\n",
    "else:\n",
    "    with open(results_path, \"w\") as f:\n",
    "        results[\"max_score\"] = dbocsvm_study.best_value\n",
    "        tuning_result[\"score\"] = dbocsvm_study.best_value\n",
    "        results[\"tuning_results\"][0] = tuning_result\n",
    "        json.dump(results, f)"
   ]
  }
 ],
 "metadata": {
  "kernelspec": {
   "display_name": "venv",
   "language": "python",
   "name": "python3"
  },
  "language_info": {
   "codemirror_mode": {
    "name": "ipython",
    "version": 3
   },
   "file_extension": ".py",
   "mimetype": "text/x-python",
   "name": "python",
   "nbconvert_exporter": "python",
   "pygments_lexer": "ipython3",
   "version": "3.12.3"
  }
 },
 "nbformat": 4,
 "nbformat_minor": 2
}
