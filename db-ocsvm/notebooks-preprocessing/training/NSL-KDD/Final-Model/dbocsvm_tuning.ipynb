{
 "cells": [
  {
   "cell_type": "code",
   "execution_count": 25,
   "metadata": {},
   "outputs": [],
   "source": [
    "import torch\n",
    "\n",
    "device = \"cuda\" if torch.cuda.is_available() else \"cpu\"\n",
    "\n",
    "with_storage_dbscan = False\n",
    "with_storage_dbocsvm = False\n",
    "dbscan_optuna_storage_path = \"sqlite:///optuna_storage/dbscan_study.db\"\n",
    "ocsvm_optuna_storage_path = \"sqlite:///optuna_storage/dbocsvm_study.db\"\n",
    "\n",
    "# Only need to change sample size, dataset paths, with_storage, ocsvm_trials\n",
    "\n",
    "sample_size = 0.05\n",
    "use_sample = True\n",
    "\n",
    "use_full_train_set = True\n",
    "\n",
    "best_model_path = \"best_models/best_model_proposed.pth\"\n",
    "\n",
    "export_model = True\n",
    "onnx_path = \"saved_models/autoencoder.onnx\"\n",
    "\n",
    "use_existing_model = False\n",
    "existing_model_path = (\n",
    "    \"saved_models/autoencoder_Model_1_hidden[96, 64]_latent55_best.pth\"\n",
    ")\n",
    "\n",
    "existing_model_architecture = {\n",
    "    \"input_dim\": 122,\n",
    "    \"hidden_dims\": [96, 64],\n",
    "    \"latent_dim\": 55,\n",
    "    \"activation_type\": \"LeakyReLU\",\n",
    "    \"output_activation_type\": \"Sigmoid\",\n",
    "}\n",
    "\n",
    "train_set_path = (\n",
    "    \"/home/jbct/Projects/thesis/db-ocsvm/data/processed/NSL-KDD/train_set_full.csv\"\n",
    ")\n",
    "test_set_path = (\n",
    "    \"/home/jbct/Projects/thesis/db-ocsvm/data/processed/NSL-KDD/test_set.csv\"\n",
    ")"
   ]
  },
  {
   "cell_type": "code",
   "execution_count": 26,
   "metadata": {},
   "outputs": [],
   "source": [
    "# model architecture if not using existing model\n",
    "new_model_architecture = {\n",
    "    \"hidden_dims\": [116, 96, 64, 48],\n",
    "    \"latent_dim\": 22,\n",
    "    \"activation_type\": \"LeakyReLU\",\n",
    "    \"output_activation_type\": \"Sigmoid\",\n",
    "}\n",
    "\n",
    "new_model_learning_parameters = {\n",
    "    \"lr\": 0.001,\n",
    "    \"batch_size\": 128,\n",
    "    \"epochs\": 50,\n",
    "    \"improvement_threshold\": 0.000000001,\n",
    "    \"good_model_threshold\": 0.00015,\n",
    "    \"early_stopping_patience\": 10,\n",
    "}"
   ]
  },
  {
   "cell_type": "code",
   "execution_count": 27,
   "metadata": {},
   "outputs": [],
   "source": [
    "dbscan_tuning_parameters = {\n",
    "    \"evaluation_metric\": \"silhouette\",  # silhouette, calinski_harabasz, davies_bouldin\n",
    "    \"distance_metric\": \"manhattan\",  # manhattan, euclidean\n",
    "    \"trials\": 10,\n",
    "}\n",
    "\n",
    "dbocsvm_tree_algorithm = \"kd_tree\"  # \"ball_tree\" or \"kd_tree\"\n",
    "\n",
    "ocsvm_trials = 10"
   ]
  },
  {
   "cell_type": "markdown",
   "metadata": {},
   "source": [
    "import dataset"
   ]
  },
  {
   "cell_type": "code",
   "execution_count": 28,
   "metadata": {},
   "outputs": [
    {
     "name": "stdout",
     "output_type": "stream",
     "text": [
      "(3367, 122)\n"
     ]
    },
    {
     "data": {
      "text/html": [
       "<div>\n",
       "<style scoped>\n",
       "    .dataframe tbody tr th:only-of-type {\n",
       "        vertical-align: middle;\n",
       "    }\n",
       "\n",
       "    .dataframe tbody tr th {\n",
       "        vertical-align: top;\n",
       "    }\n",
       "\n",
       "    .dataframe thead th {\n",
       "        text-align: right;\n",
       "    }\n",
       "</style>\n",
       "<table border=\"1\" class=\"dataframe\">\n",
       "  <thead>\n",
       "    <tr style=\"text-align: right;\">\n",
       "      <th></th>\n",
       "      <th>duration</th>\n",
       "      <th>src_bytes</th>\n",
       "      <th>dst_bytes</th>\n",
       "      <th>land</th>\n",
       "      <th>wrong_fragment</th>\n",
       "      <th>urgent</th>\n",
       "      <th>hot</th>\n",
       "      <th>num_failed_logins</th>\n",
       "      <th>logged_in</th>\n",
       "      <th>num_compromised</th>\n",
       "      <th>...</th>\n",
       "      <th>flag_REJ</th>\n",
       "      <th>flag_RSTO</th>\n",
       "      <th>flag_RSTOS0</th>\n",
       "      <th>flag_RSTR</th>\n",
       "      <th>flag_S0</th>\n",
       "      <th>flag_S1</th>\n",
       "      <th>flag_S2</th>\n",
       "      <th>flag_S3</th>\n",
       "      <th>flag_SF</th>\n",
       "      <th>flag_SH</th>\n",
       "    </tr>\n",
       "  </thead>\n",
       "  <tbody>\n",
       "    <tr>\n",
       "      <th>0</th>\n",
       "      <td>0.0</td>\n",
       "      <td>5.833486e-07</td>\n",
       "      <td>2.572642e-07</td>\n",
       "      <td>0.0</td>\n",
       "      <td>0.0</td>\n",
       "      <td>0.0</td>\n",
       "      <td>0.0</td>\n",
       "      <td>0.0</td>\n",
       "      <td>1.0</td>\n",
       "      <td>0.0</td>\n",
       "      <td>...</td>\n",
       "      <td>0.0</td>\n",
       "      <td>0.0</td>\n",
       "      <td>0.0</td>\n",
       "      <td>0.0</td>\n",
       "      <td>0.0</td>\n",
       "      <td>0.0</td>\n",
       "      <td>0.0</td>\n",
       "      <td>0.0</td>\n",
       "      <td>1.0</td>\n",
       "      <td>0.0</td>\n",
       "    </tr>\n",
       "  </tbody>\n",
       "</table>\n",
       "<p>1 rows × 122 columns</p>\n",
       "</div>"
      ],
      "text/plain": [
       "   duration     src_bytes     dst_bytes  land  wrong_fragment  urgent  hot  \\\n",
       "0       0.0  5.833486e-07  2.572642e-07   0.0             0.0     0.0  0.0   \n",
       "\n",
       "   num_failed_logins  logged_in  num_compromised  ...  flag_REJ  flag_RSTO  \\\n",
       "0                0.0        1.0              0.0  ...       0.0        0.0   \n",
       "\n",
       "   flag_RSTOS0  flag_RSTR  flag_S0  flag_S1  flag_S2  flag_S3  flag_SF  \\\n",
       "0          0.0        0.0      0.0      0.0      0.0      0.0      1.0   \n",
       "\n",
       "   flag_SH  \n",
       "0      0.0  \n",
       "\n",
       "[1 rows x 122 columns]"
      ]
     },
     "execution_count": 28,
     "metadata": {},
     "output_type": "execute_result"
    }
   ],
   "source": [
    "import pandas as pd\n",
    "\n",
    "train_df = pd.read_csv(train_set_path)\n",
    "\n",
    "if use_sample:\n",
    "    train_df = train_df.sample(frac=sample_size, random_state=42).reset_index(drop=True)\n",
    "\n",
    "print(train_df.shape)\n",
    "train_df.head(1)"
   ]
  },
  {
   "cell_type": "code",
   "execution_count": 29,
   "metadata": {},
   "outputs": [
    {
     "name": "stdout",
     "output_type": "stream",
     "text": [
      "(2693, 122) (674, 122) (3367, 122)\n"
     ]
    }
   ],
   "source": [
    "from sklearn.model_selection import train_test_split\n",
    "\n",
    "X_train_full = train_df.values\n",
    "\n",
    "X_train, X_val = train_test_split(train_df, test_size=0.2, random_state=42)\n",
    "X_train = X_train.values\n",
    "X_val = X_val.values\n",
    "\n",
    "print(X_train.shape, X_val.shape, X_train_full.shape)"
   ]
  },
  {
   "cell_type": "code",
   "execution_count": 30,
   "metadata": {},
   "outputs": [],
   "source": [
    "import torch\n",
    "from torch.utils.data import DataLoader, TensorDataset\n",
    "\n",
    "# Convert to PyTorch tensors\n",
    "X_train_tensor = torch.FloatTensor(X_train)\n",
    "X_val_tensor = torch.FloatTensor(X_val)\n",
    "\n",
    "# Create data loaders\n",
    "train_dataset = TensorDataset(X_train_tensor)\n",
    "val_dataset = TensorDataset(X_val_tensor)\n",
    "\n",
    "input_dim = X_train_full.shape[1]"
   ]
  },
  {
   "cell_type": "markdown",
   "metadata": {},
   "source": [
    "training the autoencoder or use existing"
   ]
  },
  {
   "cell_type": "code",
   "execution_count": null,
   "metadata": {},
   "outputs": [],
   "source": [
    "from models import BatchNormAutoencoder\n",
    "from torch import nn, optim\n",
    "\n",
    "if use_existing_model:\n",
    "    autoencoder = BatchNormAutoencoder(\n",
    "        input_dim=existing_model_architecture[\"input_dim\"],\n",
    "        hidden_dims=existing_model_architecture[\"hidden_dims\"],\n",
    "        latent_dim=existing_model_architecture[\"latent_dim\"],\n",
    "        activation_type=existing_model_architecture[\"activation_type\"],\n",
    "        output_activation_type=existing_model_architecture[\"output_activation_type\"],\n",
    "    )\n",
    "else:\n",
    "    # Create model\n",
    "    autoencoder = BatchNormAutoencoder(\n",
    "        input_dim=input_dim,\n",
    "        hidden_dims=new_model_architecture[\"hidden_dims\"],\n",
    "        latent_dim=new_model_architecture[\"latent_dim\"],\n",
    "        activation_type=new_model_architecture[\"activation_type\"],\n",
    "        output_activation_type=new_model_architecture[\"output_activation_type\"],\n",
    "    )\n",
    "\n",
    "    # loss and optimizer\n",
    "    optimizer = optim.Adam(\n",
    "        autoencoder.parameters(), lr=new_model_learning_parameters[\"lr\"]\n",
    "    )\n",
    "    criterion = nn.MSELoss()"
   ]
  },
  {
   "cell_type": "code",
   "execution_count": 32,
   "metadata": {},
   "outputs": [],
   "source": [
    "train_loader = DataLoader(\n",
    "    train_dataset,\n",
    "    batch_size=new_model_learning_parameters[\"batch_size\"],\n",
    "    shuffle=True,\n",
    ")\n",
    "\n",
    "val_loader = DataLoader(\n",
    "    val_dataset,\n",
    "    batch_size=new_model_learning_parameters[\"batch_size\"],\n",
    "    shuffle=False,\n",
    ")"
   ]
  },
  {
   "cell_type": "code",
   "execution_count": 33,
   "metadata": {},
   "outputs": [
    {
     "name": "stdout",
     "output_type": "stream",
     "text": [
      "\n",
      "Using device: cpu\n",
      "Training autoencoder...\n",
      "Epoch 1/50, Train Loss: 0.1761468947, Val Loss: 0.1269641792\n",
      "✅ Model saved with val_loss: 0.1269641792\n",
      "Epoch 2/50, Train Loss: 0.0696490194, Val Loss: 0.0485399812\n",
      "✅ Model saved with val_loss: 0.0485399812\n",
      "Epoch 3/50, Train Loss: 0.0304667127, Val Loss: 0.0206658930\n",
      "✅ Model saved with val_loss: 0.0206658930\n",
      "Epoch 4/50, Train Loss: 0.0185534508, Val Loss: 0.0138697834\n",
      "✅ Model saved with val_loss: 0.0138697834\n",
      "Epoch 5/50, Train Loss: 0.0143945384, Val Loss: 0.0110340949\n",
      "✅ Model saved with val_loss: 0.0110340949\n",
      "Epoch 6/50, Train Loss: 0.0113368459, Val Loss: 0.0087991237\n",
      "✅ Model saved with val_loss: 0.0087991237\n",
      "Epoch 7/50, Train Loss: 0.0097608249, Val Loss: 0.0075242958\n",
      "✅ Model saved with val_loss: 0.0075242958\n",
      "Epoch 8/50, Train Loss: 0.0092207311, Val Loss: 0.0069646700\n",
      "✅ Model saved with val_loss: 0.0069646700\n",
      "Epoch 9/50, Train Loss: 0.0085630535, Val Loss: 0.0062469068\n",
      "✅ Model saved with val_loss: 0.0062469068\n",
      "Epoch 10/50, Train Loss: 0.0081792780, Val Loss: 0.0059103651\n",
      "✅ Model saved with val_loss: 0.0059103651\n",
      "Epoch 11/50, Train Loss: 0.0070936777, Val Loss: 0.0055573940\n",
      "✅ Model saved with val_loss: 0.0055573940\n",
      "Epoch 12/50, Train Loss: 0.0071457176, Val Loss: 0.0053073002\n",
      "✅ Model saved with val_loss: 0.0053073002\n",
      "Epoch 13/50, Train Loss: 0.0063652088, Val Loss: 0.0050090688\n",
      "✅ Model saved with val_loss: 0.0050090688\n",
      "Epoch 14/50, Train Loss: 0.0069076060, Val Loss: 0.0048538949\n",
      "✅ Model saved with val_loss: 0.0048538949\n",
      "Epoch 15/50, Train Loss: 0.0062840814, Val Loss: 0.0047021437\n",
      "✅ Model saved with val_loss: 0.0047021437\n",
      "Epoch 16/50, Train Loss: 0.0064853800, Val Loss: 0.0045603103\n",
      "✅ Model saved with val_loss: 0.0045603103\n",
      "Epoch 17/50, Train Loss: 0.0056937636, Val Loss: 0.0044943312\n",
      "✅ Model saved with val_loss: 0.0044943312\n",
      "Epoch 18/50, Train Loss: 0.0061580281, Val Loss: 0.0044345751\n",
      "✅ Model saved with val_loss: 0.0044345751\n",
      "Epoch 19/50, Train Loss: 0.0056840372, Val Loss: 0.0042273117\n",
      "✅ Model saved with val_loss: 0.0042273117\n",
      "Epoch 20/50, Train Loss: 0.0052934288, Val Loss: 0.0042515741\n",
      "Epoch 21/50, Train Loss: 0.0037605892, Val Loss: 0.0036069766\n",
      "✅ Model saved with val_loss: 0.0036069766\n",
      "Epoch 22/50, Train Loss: 0.0052878689, Val Loss: 0.0040436202\n",
      "Epoch 23/50, Train Loss: 0.0034775409, Val Loss: 0.0034720600\n",
      "✅ Model saved with val_loss: 0.0034720600\n",
      "Epoch 24/50, Train Loss: 0.0055254704, Val Loss: 0.0038406796\n",
      "Epoch 25/50, Train Loss: 0.0038801583, Val Loss: 0.0033910011\n",
      "✅ Model saved with val_loss: 0.0033910011\n",
      "Epoch 26/50, Train Loss: 0.0052895262, Val Loss: 0.0038798122\n",
      "Epoch 27/50, Train Loss: 0.0033561783, Val Loss: 0.0032806690\n",
      "✅ Model saved with val_loss: 0.0032806690\n",
      "Epoch 28/50, Train Loss: 0.0052114353, Val Loss: 0.0035612615\n",
      "Epoch 29/50, Train Loss: 0.0032909977, Val Loss: 0.0031657337\n",
      "✅ Model saved with val_loss: 0.0031657337\n",
      "Epoch 30/50, Train Loss: 0.0050829364, Val Loss: 0.0035529919\n",
      "Epoch 31/50, Train Loss: 0.0034906845, Val Loss: 0.0031145362\n",
      "✅ Model saved with val_loss: 0.0031145362\n",
      "Epoch 32/50, Train Loss: 0.0052101890, Val Loss: 0.0033545844\n",
      "Epoch 33/50, Train Loss: 0.0030773353, Val Loss: 0.0030148815\n",
      "✅ Model saved with val_loss: 0.0030148815\n",
      "Epoch 34/50, Train Loss: 0.0046721106, Val Loss: 0.0033247145\n",
      "Epoch 35/50, Train Loss: 0.0028569124, Val Loss: 0.0029814731\n",
      "✅ Model saved with val_loss: 0.0029814731\n",
      "Epoch 36/50, Train Loss: 0.0047262648, Val Loss: 0.0032011893\n",
      "Epoch 37/50, Train Loss: 0.0027902441, Val Loss: 0.0028499802\n",
      "✅ Model saved with val_loss: 0.0028499802\n",
      "Epoch 38/50, Train Loss: 0.0046253149, Val Loss: 0.0031369192\n",
      "Epoch 39/50, Train Loss: 0.0028948833, Val Loss: 0.0027909671\n",
      "✅ Model saved with val_loss: 0.0027909671\n",
      "Epoch 40/50, Train Loss: 0.0048518468, Val Loss: 0.0031551833\n",
      "Epoch 41/50, Train Loss: 0.0026885314, Val Loss: 0.0027776564\n",
      "✅ Model saved with val_loss: 0.0027776564\n",
      "Epoch 42/50, Train Loss: 0.0046156149, Val Loss: 0.0030996794\n",
      "Epoch 43/50, Train Loss: 0.0029577057, Val Loss: 0.0027733137\n",
      "✅ Model saved with val_loss: 0.0027733137\n",
      "Epoch 44/50, Train Loss: 0.0043428054, Val Loss: 0.0031171913\n",
      "Epoch 45/50, Train Loss: 0.0027435079, Val Loss: 0.0026817172\n",
      "✅ Model saved with val_loss: 0.0026817172\n",
      "Epoch 46/50, Train Loss: 0.0043563841, Val Loss: 0.0028892290\n",
      "Epoch 47/50, Train Loss: 0.0026380617, Val Loss: 0.0025877189\n",
      "✅ Model saved with val_loss: 0.0025877189\n",
      "Epoch 48/50, Train Loss: 0.0043567658, Val Loss: 0.0029115263\n",
      "Epoch 49/50, Train Loss: 0.0025218387, Val Loss: 0.0025958331\n",
      "Epoch 50/50, Train Loss: 0.0022551112, Val Loss: 0.0024603789\n",
      "✅ Model saved with val_loss: 0.0024603789\n"
     ]
    },
    {
     "data": {
      "image/png": "[encoded data removed]",
      "text/plain": [
       "<Figure size 1500x1000 with 1 Axes>"
      ]
     },
     "metadata": {},
     "output_type": "display_data"
    },
    {
     "name": "stdout",
     "output_type": "stream",
     "text": [
      "Model is bad with loss 0.0024603788818543157\n"
     ]
    }
   ],
   "source": [
    "from utils import train_autoencoder\n",
    "\n",
    "if not use_existing_model:\n",
    "    history, is_good_model = train_autoencoder(\n",
    "        model=autoencoder,\n",
    "        train_loader=train_loader,\n",
    "        val_loader=val_loader,\n",
    "        optimizer=optimizer,\n",
    "        criterion=criterion,\n",
    "        epochs=new_model_learning_parameters[\"epochs\"],\n",
    "        best_model_path=best_model_path,\n",
    "        verbose=True,\n",
    "        early_stopping_patience=new_model_learning_parameters[\n",
    "            \"early_stopping_patience\"\n",
    "        ],\n",
    "        improvement_threshold=new_model_learning_parameters[\"improvement_threshold\"],\n",
    "        good_model_threshold=new_model_learning_parameters[\"good_model_threshold\"],\n",
    "        plot_results=True,\n",
    "    )"
   ]
  },
  {
   "cell_type": "code",
   "execution_count": 34,
   "metadata": {},
   "outputs": [
    {
     "name": "stdout",
     "output_type": "stream",
     "text": [
      "Pytorch model saved at: best_models/best_model_proposed.pth\n"
     ]
    }
   ],
   "source": [
    "print(\"Pytorch model saved at:\", best_model_path)"
   ]
  },
  {
   "cell_type": "code",
   "execution_count": 35,
   "metadata": {},
   "outputs": [
    {
     "data": {
      "text/plain": [
       "BatchNormAutoencoderV2(\n",
       "  (encoder): Sequential(\n",
       "    (0): Linear(in_features=122, out_features=116, bias=True)\n",
       "    (1): BatchNorm1d(116, eps=1e-05, momentum=0.1, affine=True, track_running_stats=True)\n",
       "    (2): LeakyReLU(negative_slope=0.2)\n",
       "    (3): Dropout(p=0.2, inplace=False)\n",
       "    (4): Linear(in_features=116, out_features=96, bias=True)\n",
       "    (5): BatchNorm1d(96, eps=1e-05, momentum=0.1, affine=True, track_running_stats=True)\n",
       "    (6): LeakyReLU(negative_slope=0.2)\n",
       "    (7): Dropout(p=0.2, inplace=False)\n",
       "    (8): Linear(in_features=96, out_features=64, bias=True)\n",
       "    (9): BatchNorm1d(64, eps=1e-05, momentum=0.1, affine=True, track_running_stats=True)\n",
       "    (10): LeakyReLU(negative_slope=0.2)\n",
       "    (11): Dropout(p=0.2, inplace=False)\n",
       "    (12): Linear(in_features=64, out_features=48, bias=True)\n",
       "    (13): BatchNorm1d(48, eps=1e-05, momentum=0.1, affine=True, track_running_stats=True)\n",
       "    (14): LeakyReLU(negative_slope=0.2)\n",
       "    (15): Dropout(p=0.2, inplace=False)\n",
       "    (16): Linear(in_features=48, out_features=22, bias=True)\n",
       "  )\n",
       "  (decoder): Sequential(\n",
       "    (0): Linear(in_features=22, out_features=48, bias=True)\n",
       "    (1): BatchNorm1d(48, eps=1e-05, momentum=0.1, affine=True, track_running_stats=True)\n",
       "    (2): LeakyReLU(negative_slope=0.2)\n",
       "    (3): Dropout(p=0.2, inplace=False)\n",
       "    (4): Linear(in_features=48, out_features=64, bias=True)\n",
       "    (5): BatchNorm1d(64, eps=1e-05, momentum=0.1, affine=True, track_running_stats=True)\n",
       "    (6): LeakyReLU(negative_slope=0.2)\n",
       "    (7): Dropout(p=0.2, inplace=False)\n",
       "    (8): Linear(in_features=64, out_features=96, bias=True)\n",
       "    (9): BatchNorm1d(96, eps=1e-05, momentum=0.1, affine=True, track_running_stats=True)\n",
       "    (10): LeakyReLU(negative_slope=0.2)\n",
       "    (11): Dropout(p=0.2, inplace=False)\n",
       "    (12): Linear(in_features=96, out_features=116, bias=True)\n",
       "    (13): BatchNorm1d(116, eps=1e-05, momentum=0.1, affine=True, track_running_stats=True)\n",
       "    (14): LeakyReLU(negative_slope=0.2)\n",
       "    (15): Dropout(p=0.2, inplace=False)\n",
       "    (16): Linear(in_features=116, out_features=122, bias=True)\n",
       "    (17): Sigmoid()\n",
       "  )\n",
       ")"
      ]
     },
     "execution_count": 35,
     "metadata": {},
     "output_type": "execute_result"
    }
   ],
   "source": [
    "# Load best model\n",
    "if use_existing_model:\n",
    "    checkpoint = torch.load(existing_model_path)\n",
    "    autoencoder.load_state_dict(checkpoint[\"model_state_dict\"])\n",
    "else:\n",
    "    checkpoint = torch.load(best_model_path)\n",
    "    autoencoder.load_state_dict(checkpoint[\"model_state_dict\"])\n",
    "\n",
    "autoencoder.eval()"
   ]
  },
  {
   "cell_type": "markdown",
   "metadata": {},
   "source": [
    "saving the model"
   ]
  },
  {
   "cell_type": "code",
   "execution_count": 36,
   "metadata": {},
   "outputs": [
    {
     "name": "stdout",
     "output_type": "stream",
     "text": [
      "Model exported to ONNX format: saved_models/autoencoder.onnx\n"
     ]
    }
   ],
   "source": [
    "import torch.onnx\n",
    "\n",
    "if export_model and not use_existing_model:\n",
    "    # Prepare a sample input tensor with the correct shape\n",
    "    dummy_input = torch.randn(1, input_dim, device=device)\n",
    "\n",
    "    torch.onnx.export(\n",
    "        autoencoder,  # model being run\n",
    "        dummy_input,  # model input\n",
    "        onnx_path,  # where to save the model\n",
    "        export_params=True,  # store trained parameters inside model file\n",
    "        opset_version=17,  # ONNX version\n",
    "        do_constant_folding=True,  # optimize constant folding\n",
    "        input_names=[\"input\"],  # model's input names\n",
    "        output_names=[\"output\"],  # model's output names\n",
    "        dynamic_axes={\n",
    "            \"input\": {0: \"batch_size\"},  # variable length axes\n",
    "            \"output\": {0: \"batch_size\"},\n",
    "        },\n",
    "    )\n",
    "\n",
    "    print(f\"Model exported to ONNX format: {onnx_path}\")"
   ]
  },
  {
   "cell_type": "markdown",
   "metadata": {},
   "source": [
    "dbscan tuning"
   ]
  },
  {
   "cell_type": "code",
   "execution_count": 37,
   "metadata": {},
   "outputs": [],
   "source": [
    "import numpy as np\n",
    "\n",
    "# extract encoded features\n",
    "X_train_full_tensor = torch.FloatTensor(X_train_full)\n",
    "X_train_full_dataset = TensorDataset(X_train_full_tensor)\n",
    "X_train_full_loader = DataLoader(X_train_full_dataset, batch_size=256)\n",
    "\n",
    "# Extract in batches to prevent memory issues\n",
    "if use_full_train_set:\n",
    "    X_encoded = []\n",
    "    with torch.no_grad():\n",
    "        for data in X_train_full_loader:\n",
    "            data_x = data[0].to(device)\n",
    "            encoded = autoencoder.encode(data_x)\n",
    "            X_encoded.append(encoded.cpu().numpy())\n",
    "    X_encoded = np.vstack(X_encoded)\n",
    "else:\n",
    "    X_encoded = []\n",
    "    with torch.no_grad():\n",
    "        for data in train_loader:\n",
    "            data_x = data[0].to(device)\n",
    "            encoded = autoencoder.encode(data_x)\n",
    "            X_encoded.append(encoded.cpu().numpy())\n",
    "    X_encoded = np.vstack(X_encoded)"
   ]
  },
  {
   "cell_type": "code",
   "execution_count": 38,
   "metadata": {},
   "outputs": [
    {
     "data": {
      "text/plain": [
       "(np.float64(3.0104310512542725), np.float64(12.04172420501709))"
      ]
     },
     "execution_count": 38,
     "metadata": {},
     "output_type": "execute_result"
    }
   ],
   "source": [
    "from utils import find_eps_range_with_elbow_method\n",
    "\n",
    "input_dim_encoded = X_encoded.shape[1]\n",
    "\n",
    "k_for_elbow = int((20 + input_dim_encoded * 2) / 2)\n",
    "min_eps, max_eps = find_eps_range_with_elbow_method(\n",
    "    X_encoded,\n",
    "    k=k_for_elbow,\n",
    "    plot=False,\n",
    ")\n",
    "min_eps, max_eps"
   ]
  },
  {
   "cell_type": "code",
   "execution_count": 39,
   "metadata": {},
   "outputs": [
    {
     "name": "stderr",
     "output_type": "stream",
     "text": [
      "[I 2025-03-08 04:36:50,049] A new study created in memory with name: no-name-5829e491-adef-4067-a6e7-f9eaf3d245a5\n",
      "[I 2025-03-08 04:36:50,437] Trial 0 finished with value: 0.5257735252380371 and parameters: {'eps': 3.5338014813199083, 'min_samples': 7}. Best is trial 0 with value: 0.5257735252380371.\n",
      "[I 2025-03-08 04:36:50,849] Trial 1 finished with value: 0.5507420301437378 and parameters: {'eps': 6.225904829494025, 'min_samples': 15}. Best is trial 1 with value: 0.5507420301437378.\n",
      "[I 2025-03-08 04:36:51,357] Trial 2 finished with value: 0.5596916675567627 and parameters: {'eps': 11.689228833058232, 'min_samples': 26}. Best is trial 2 with value: 0.5596916675567627.\n",
      "[I 2025-03-08 04:36:51,982] Trial 3 finished with value: 0.5581104755401611 and parameters: {'eps': 11.494020577742253, 'min_samples': 17}. Best is trial 2 with value: 0.5596916675567627.\n",
      "[I 2025-03-08 04:36:52,256] Trial 4 finished with value: 0.6090736985206604 and parameters: {'eps': 3.5821672766474038, 'min_samples': 22}. Best is trial 4 with value: 0.6090736985206604.\n",
      "[I 2025-03-08 04:36:52,618] Trial 5 finished with value: 0.45807260274887085 and parameters: {'eps': 9.06057266512353, 'min_samples': 35}. Best is trial 4 with value: 0.6090736985206604.\n",
      "[I 2025-03-08 04:36:52,986] Trial 6 finished with value: 0.3812083303928375 and parameters: {'eps': 9.904864937943971, 'min_samples': 9}. Best is trial 4 with value: 0.6090736985206604.\n",
      "[I 2025-03-08 04:36:53,489] Trial 7 finished with value: 0.5513716340065002 and parameters: {'eps': 6.642164644437679, 'min_samples': 19}. Best is trial 4 with value: 0.6090736985206604.\n",
      "[I 2025-03-08 04:36:53,805] Trial 8 finished with value: 0.5874274969100952 and parameters: {'eps': 3.8426615136077658, 'min_samples': 19}. Best is trial 4 with value: 0.6090736985206604.\n",
      "[I 2025-03-08 04:36:54,358] Trial 9 finished with value: 0.5741268396377563 and parameters: {'eps': 5.32552533812324, 'min_samples': 24}. Best is trial 4 with value: 0.6090736985206604.\n"
     ]
    }
   ],
   "source": [
    "from utils import objective_dbscan\n",
    "import optuna\n",
    "\n",
    "dbscan_objective_lambda = lambda trial: objective_dbscan(\n",
    "    trial,\n",
    "    X_encoded=X_encoded,\n",
    "    evaluation_metric=dbscan_tuning_parameters[\"evaluation_metric\"],\n",
    "    eps_range=(min_eps, max_eps),\n",
    "    min_samples_range=(1, input_dim_encoded * 2),\n",
    "    distance_metric=dbscan_tuning_parameters[\"distance_metric\"],\n",
    "    n_jobs=-1,\n",
    ")\n",
    "\n",
    "if with_storage_dbscan:\n",
    "    dbscan_study = optuna.create_study(\n",
    "        direction=\"maximize\",\n",
    "        storage=dbscan_optuna_storage_path,\n",
    "        study_name=\"dbscan_study\",\n",
    "        load_if_exists=True,\n",
    "    )\n",
    "    dbscan_study.optimize(\n",
    "        dbscan_objective_lambda,\n",
    "        n_trials=dbscan_tuning_parameters[\"trials\"],\n",
    "    )\n",
    "else:\n",
    "    dbscan_study = optuna.create_study(direction=\"maximize\")\n",
    "    dbscan_study.optimize(\n",
    "        dbscan_objective_lambda,\n",
    "        n_trials=dbscan_tuning_parameters[\"trials\"],\n",
    "    )"
   ]
  },
  {
   "cell_type": "code",
   "execution_count": 40,
   "metadata": {},
   "outputs": [
    {
     "name": "stdout",
     "output_type": "stream",
     "text": [
      "eps = 3.5821672766474038\n",
      "min_samples = 22\n",
      "n_clusters = 12\n",
      "cluster_data_points\n",
      "{-1: 677,\n",
      " 0: 160,\n",
      " 1: 1668,\n",
      " 2: 351,\n",
      " 3: 49,\n",
      " 4: 113,\n",
      " 5: 79,\n",
      " 6: 28,\n",
      " 7: 23,\n",
      " 8: 25,\n",
      " 9: 125,\n",
      " 10: 44,\n",
      " 11: 25}\n"
     ]
    }
   ],
   "source": [
    "import pprint\n",
    "\n",
    "# get dbscan best parameters\n",
    "eps = dbscan_study.best_params[\"eps\"]\n",
    "min_samples = dbscan_study.best_params[\"min_samples\"]\n",
    "\n",
    "# get dbscan best trial\n",
    "best_trial_dbscan = dbscan_study.best_trial\n",
    "best_trial_dbscan_user_attrs = best_trial_dbscan.user_attrs\n",
    "\n",
    "n_clusters = best_trial_dbscan_user_attrs[\"n_clusters\"]\n",
    "cluster_data_points = best_trial_dbscan_user_attrs[\"cluster_data_points\"]\n",
    "\n",
    "print(f\"eps = {eps}\")\n",
    "print(f\"min_samples = {min_samples}\")\n",
    "print(f\"n_clusters = {n_clusters}\")\n",
    "print(\"cluster_data_points\")\n",
    "pprint.pprint(cluster_data_points)"
   ]
  },
  {
   "cell_type": "markdown",
   "metadata": {},
   "source": [
    "fit the DBSCAN"
   ]
  },
  {
   "cell_type": "code",
   "execution_count": 41,
   "metadata": {},
   "outputs": [],
   "source": [
    "from models import DBOCSVM_V2\n",
    "\n",
    "# Create DB-OC-SVM model with default ocsvm parameters\n",
    "dbocsvm = DBOCSVM_V2(\n",
    "    kernel=\"rbf\",\n",
    "    gamma=\"auto\",\n",
    "    nu=0.2,\n",
    "    eps=eps,\n",
    "    min_samples=min_samples,\n",
    "    dbscan_metric=dbscan_tuning_parameters[\"distance_metric\"],\n",
    "    algorithm=dbocsvm_tree_algorithm,  # ball_tree, kd_tree,\n",
    ")"
   ]
  },
  {
   "cell_type": "code",
   "execution_count": 42,
   "metadata": {},
   "outputs": [
    {
     "name": "stdout",
     "output_type": "stream",
     "text": [
      "Fitting DBSCAN...\n",
      "DBSCAN Fitted...\n",
      "Unique Clusters: [-1  0  1  2  3  4  5  6  7  8  9 10 11]\n",
      "Cluster Sizes: {-1: 677, 0: 160, 1: 1668, 2: 351, 3: 49, 4: 113, 5: 79, 6: 28, 7: 23, 8: 25, 9: 125, 10: 44, 11: 25}\n"
     ]
    }
   ],
   "source": [
    "dbocsvm.fit_cluster(X_encoded, verbose=True)"
   ]
  },
  {
   "cell_type": "markdown",
   "metadata": {},
   "source": [
    "importing test set"
   ]
  },
  {
   "cell_type": "code",
   "execution_count": 43,
   "metadata": {},
   "outputs": [
    {
     "name": "stdout",
     "output_type": "stream",
     "text": [
      "(22543, 125)\n"
     ]
    },
    {
     "data": {
      "text/html": [
       "<div>\n",
       "<style scoped>\n",
       "    .dataframe tbody tr th:only-of-type {\n",
       "        vertical-align: middle;\n",
       "    }\n",
       "\n",
       "    .dataframe tbody tr th {\n",
       "        vertical-align: top;\n",
       "    }\n",
       "\n",
       "    .dataframe thead th {\n",
       "        text-align: right;\n",
       "    }\n",
       "</style>\n",
       "<table border=\"1\" class=\"dataframe\">\n",
       "  <thead>\n",
       "    <tr style=\"text-align: right;\">\n",
       "      <th></th>\n",
       "      <th>duration</th>\n",
       "      <th>src_bytes</th>\n",
       "      <th>dst_bytes</th>\n",
       "      <th>land</th>\n",
       "      <th>wrong_fragment</th>\n",
       "      <th>urgent</th>\n",
       "      <th>hot</th>\n",
       "      <th>num_failed_logins</th>\n",
       "      <th>logged_in</th>\n",
       "      <th>num_compromised</th>\n",
       "      <th>...</th>\n",
       "      <th>flag_RSTR</th>\n",
       "      <th>flag_S0</th>\n",
       "      <th>flag_S1</th>\n",
       "      <th>flag_S2</th>\n",
       "      <th>flag_S3</th>\n",
       "      <th>flag_SF</th>\n",
       "      <th>flag_SH</th>\n",
       "      <th>attack_binary</th>\n",
       "      <th>attack_categorical</th>\n",
       "      <th>attack_class</th>\n",
       "    </tr>\n",
       "  </thead>\n",
       "  <tbody>\n",
       "    <tr>\n",
       "      <th>0</th>\n",
       "      <td>0.0</td>\n",
       "      <td>0.0</td>\n",
       "      <td>0.0</td>\n",
       "      <td>0.0</td>\n",
       "      <td>0.0</td>\n",
       "      <td>0.0</td>\n",
       "      <td>0.0</td>\n",
       "      <td>0.0</td>\n",
       "      <td>0.0</td>\n",
       "      <td>0.0</td>\n",
       "      <td>...</td>\n",
       "      <td>0.0</td>\n",
       "      <td>0.0</td>\n",
       "      <td>0.0</td>\n",
       "      <td>0.0</td>\n",
       "      <td>0.0</td>\n",
       "      <td>0.0</td>\n",
       "      <td>0.0</td>\n",
       "      <td>-1</td>\n",
       "      <td>neptune</td>\n",
       "      <td>DoS</td>\n",
       "    </tr>\n",
       "  </tbody>\n",
       "</table>\n",
       "<p>1 rows × 125 columns</p>\n",
       "</div>"
      ],
      "text/plain": [
       "   duration  src_bytes  dst_bytes  land  wrong_fragment  urgent  hot  \\\n",
       "0       0.0        0.0        0.0   0.0             0.0     0.0  0.0   \n",
       "\n",
       "   num_failed_logins  logged_in  num_compromised  ...  flag_RSTR  flag_S0  \\\n",
       "0                0.0        0.0              0.0  ...        0.0      0.0   \n",
       "\n",
       "   flag_S1  flag_S2  flag_S3  flag_SF  flag_SH  attack_binary  \\\n",
       "0      0.0      0.0      0.0      0.0      0.0             -1   \n",
       "\n",
       "   attack_categorical  attack_class  \n",
       "0             neptune           DoS  \n",
       "\n",
       "[1 rows x 125 columns]"
      ]
     },
     "execution_count": 43,
     "metadata": {},
     "output_type": "execute_result"
    }
   ],
   "source": [
    "test_df = pd.read_csv(test_set_path)\n",
    "print(test_df.shape)\n",
    "test_df.head(1)"
   ]
  },
  {
   "cell_type": "code",
   "execution_count": 44,
   "metadata": {},
   "outputs": [
    {
     "name": "stdout",
     "output_type": "stream",
     "text": [
      "(22543, 122) (22543,)\n"
     ]
    }
   ],
   "source": [
    "# Splitting into X and y\n",
    "X_test = test_df.drop(\n",
    "    columns=[\"attack_binary\", \"attack_categorical\", \"attack_class\"]\n",
    ").values\n",
    "y_test = test_df[\"attack_binary\"].values\n",
    "y_test_class = test_df[\"attack_class\"]\n",
    "\n",
    "print(X_test.shape, y_test.shape)"
   ]
  },
  {
   "cell_type": "markdown",
   "metadata": {},
   "source": [
    "extract features from test data"
   ]
  },
  {
   "cell_type": "code",
   "execution_count": 45,
   "metadata": {},
   "outputs": [
    {
     "name": "stdout",
     "output_type": "stream",
     "text": [
      "(22543, 22)\n"
     ]
    }
   ],
   "source": [
    "X_test_tensor = torch.FloatTensor(X_test).to(device)\n",
    "\n",
    "test_dataset = TensorDataset(X_test_tensor, torch.zeros(len(X_test_tensor)))\n",
    "test_loader = DataLoader(test_dataset, batch_size=128)\n",
    "\n",
    "X_test_encoded = []\n",
    "with torch.no_grad():\n",
    "    for data, _ in test_loader:\n",
    "        encoded = autoencoder.encode(data)\n",
    "        X_test_encoded.append(encoded.cpu().numpy())\n",
    "\n",
    "X_test_encoded = np.vstack(X_test_encoded)\n",
    "print(X_test_encoded.shape)"
   ]
  },
  {
   "cell_type": "markdown",
   "metadata": {},
   "source": [
    "tuning the ocsvms"
   ]
  },
  {
   "cell_type": "code",
   "execution_count": 46,
   "metadata": {},
   "outputs": [
    {
     "name": "stderr",
     "output_type": "stream",
     "text": [
      "[I 2025-03-08 04:36:55,334] A new study created in memory with name: no-name-14582076-b7e9-4bfb-8a5b-bba91df814a2\n",
      "[I 2025-03-08 04:36:58,126] Trial 0 finished with value: 0.7630750121989087 and parameters: {'gamma_0': 0.017306790970474113, 'nu_0': 0.4594379151326204, 'gamma_1': 0.650875496265205, 'nu_1': 0.42273079573558964, 'gamma_2': 0.10762471696008048, 'nu_2': 0.1946742106476493, 'gamma_3': 0.8238253588350257, 'nu_3': 0.19751680339040156, 'gamma_4': 0.5577982007098046, 'nu_4': 0.3637516611359019, 'gamma_5': 0.8848628903597172, 'nu_5': 0.35953978791484525, 'gamma_6': 0.08775026811526096, 'nu_6': 0.015716180991930794, 'gamma_7': 0.4695508900054048, 'nu_7': 0.21607761008027554, 'gamma_8': 0.016806737609846033, 'nu_8': 0.09047259288585588, 'gamma_9': 0.49778242919190024, 'nu_9': 0.20870529536600155, 'gamma_10': 0.29405583259373924, 'nu_10': 0.19182816210849957, 'gamma_11': 0.6934105551162736, 'nu_11': 0.10100119933634831}. Best is trial 0 with value: 0.7630750121989087.\n",
      "[I 2025-03-08 04:37:00,530] Trial 1 finished with value: 0.839462360821541 and parameters: {'gamma_0': 0.5633341117864609, 'nu_0': 0.06217328448190552, 'gamma_1': 0.7184023361069355, 'nu_1': 0.11612226186539124, 'gamma_2': 0.9804803284104344, 'nu_2': 0.4074109893835292, 'gamma_3': 0.7872368149562935, 'nu_3': 0.3267093917799813, 'gamma_4': 0.699301203464905, 'nu_4': 0.4865078469628353, 'gamma_5': 0.8694254306491187, 'nu_5': 0.4030460718593519, 'gamma_6': 0.6044852070745463, 'nu_6': 0.32578939099682946, 'gamma_7': 0.04415003457454734, 'nu_7': 0.2047467299749565, 'gamma_8': 0.4605428765496188, 'nu_8': 0.03230655487656977, 'gamma_9': 0.2426117879870379, 'nu_9': 0.1737189916178744, 'gamma_10': 0.653926263760547, 'nu_10': 0.46200413763533094, 'gamma_11': 0.6111722532026588, 'nu_11': 0.20366436888245124}. Best is trial 1 with value: 0.839462360821541.\n",
      "[I 2025-03-08 04:37:02,890] Trial 2 finished with value: 0.8253559863372222 and parameters: {'gamma_0': 0.9911117416924949, 'nu_0': 0.42529190296344066, 'gamma_1': 0.3521213684352725, 'nu_1': 0.2382341828873297, 'gamma_2': 0.48270752220547913, 'nu_2': 0.015138854582050006, 'gamma_3': 0.4917288867140156, 'nu_3': 0.2637331356283561, 'gamma_4': 0.6043049655572624, 'nu_4': 0.4899257979850991, 'gamma_5': 0.3984740171212639, 'nu_5': 0.47983156284634737, 'gamma_6': 0.6589887115587011, 'nu_6': 0.11647014183018664, 'gamma_7': 0.0911362894971379, 'nu_7': 0.1932669819733686, 'gamma_8': 0.17602658136164923, 'nu_8': 0.13811106681146887, 'gamma_9': 0.8604724337642087, 'nu_9': 0.02161124305009164, 'gamma_10': 0.24657863197513724, 'nu_10': 0.25621245545999205, 'gamma_11': 0.781564433527828, 'nu_11': 0.2987377499140392}. Best is trial 1 with value: 0.839462360821541.\n",
      "[I 2025-03-08 04:37:05,348] Trial 3 finished with value: 0.8220733708911857 and parameters: {'gamma_0': 0.820642183729057, 'nu_0': 0.09770729463871355, 'gamma_1': 0.36527963028421345, 'nu_1': 0.21061000906725275, 'gamma_2': 0.12658732055025948, 'nu_2': 0.18910216861188278, 'gamma_3': 0.95367956935485, 'nu_3': 0.38623150272510853, 'gamma_4': 0.9882207181713961, 'nu_4': 0.2850343643903865, 'gamma_5': 0.09795815971579569, 'nu_5': 0.11471936835264357, 'gamma_6': 0.34893390845569566, 'nu_6': 0.24192862596953135, 'gamma_7': 0.7916186114229653, 'nu_7': 0.3264648146305966, 'gamma_8': 0.23392742101221187, 'nu_8': 0.21663929257520165, 'gamma_9': 0.7401804392027381, 'nu_9': 0.3672186894549533, 'gamma_10': 0.8597917622270931, 'nu_10': 0.39118035540569723, 'gamma_11': 0.05605225856659629, 'nu_11': 0.3003887374669614}. Best is trial 1 with value: 0.839462360821541.\n",
      "[I 2025-03-08 04:37:07,703] Trial 4 finished with value: 0.786053320321164 and parameters: {'gamma_0': 0.7801317828681017, 'nu_0': 0.05846654995882075, 'gamma_1': 0.8763557035051056, 'nu_1': 0.30466021775783236, 'gamma_2': 0.8455652430926328, 'nu_2': 0.33787443285216057, 'gamma_3': 0.613152904911444, 'nu_3': 0.46677014078286017, 'gamma_4': 0.06687293543473725, 'nu_4': 0.055291869421942454, 'gamma_5': 0.7201469454021571, 'nu_5': 0.36395026227789135, 'gamma_6': 0.07678027389843292, 'nu_6': 0.10144458727820262, 'gamma_7': 0.5023082288956568, 'nu_7': 0.46770217481037374, 'gamma_8': 0.29551909523029773, 'nu_8': 0.2244085593238256, 'gamma_9': 0.8268663364236655, 'nu_9': 0.2271768638070182, 'gamma_10': 0.41452855001782485, 'nu_10': 0.4072283291516103, 'gamma_11': 0.10654514334529042, 'nu_11': 0.19965582714013969}. Best is trial 1 with value: 0.839462360821541.\n",
      "[I 2025-03-08 04:37:10,357] Trial 5 finished with value: 0.7641396442354611 and parameters: {'gamma_0': 0.7760443282906112, 'nu_0': 0.2600982273746706, 'gamma_1': 0.19655226779787704, 'nu_1': 0.4490315411539556, 'gamma_2': 0.24361142819602455, 'nu_2': 0.23774350863939306, 'gamma_3': 0.40468497702300416, 'nu_3': 0.3209354134440049, 'gamma_4': 0.011128957961495644, 'nu_4': 0.28533541157611786, 'gamma_5': 0.7368950768034092, 'nu_5': 0.46757932138441555, 'gamma_6': 0.8096032962043428, 'nu_6': 0.2502824662836795, 'gamma_7': 0.01807085574963684, 'nu_7': 0.05256363209492658, 'gamma_8': 0.6866186790179338, 'nu_8': 0.35096399659719507, 'gamma_9': 0.38303932196002033, 'nu_9': 0.25114753510788473, 'gamma_10': 0.6846747412505954, 'nu_10': 0.17004686902477287, 'gamma_11': 0.7718483297260736, 'nu_11': 0.42891114256781865}. Best is trial 1 with value: 0.839462360821541.\n",
      "[I 2025-03-08 04:37:12,687] Trial 6 finished with value: 0.7806414408020228 and parameters: {'gamma_0': 0.7155260542653777, 'nu_0': 0.21544789886855062, 'gamma_1': 0.9140030132400229, 'nu_1': 0.34967942784589473, 'gamma_2': 0.5750241467379682, 'nu_2': 0.376936251319724, 'gamma_3': 0.05303645128452858, 'nu_3': 0.1671891143615024, 'gamma_4': 0.7555946071176873, 'nu_4': 0.19241171487631045, 'gamma_5': 0.6942870159260063, 'nu_5': 0.31467218584512785, 'gamma_6': 0.2997770698882996, 'nu_6': 0.11486768339631528, 'gamma_7': 0.3827611308481087, 'nu_7': 0.0984717209993154, 'gamma_8': 0.8892281122751798, 'nu_8': 0.4399247980573419, 'gamma_9': 0.25477936679548874, 'nu_9': 0.1817577001044952, 'gamma_10': 0.06739265766802022, 'nu_10': 0.3575272440852248, 'gamma_11': 0.9867855917322621, 'nu_11': 0.46023404005440643}. Best is trial 1 with value: 0.839462360821541.\n",
      "[I 2025-03-08 04:37:14,973] Trial 7 finished with value: 0.7920418755267711 and parameters: {'gamma_0': 0.1777769835630925, 'nu_0': 0.06130668119776232, 'gamma_1': 0.493107072470356, 'nu_1': 0.28281045239062835, 'gamma_2': 0.5625433184726097, 'nu_2': 0.4722911296615776, 'gamma_3': 0.5587780888851982, 'nu_3': 0.3945165465736505, 'gamma_4': 0.09730395380412232, 'nu_4': 0.0733605545736197, 'gamma_5': 0.06380367096869959, 'nu_5': 0.1982304952156613, 'gamma_6': 0.4758707735138559, 'nu_6': 0.4120493871283842, 'gamma_7': 0.49268554581836455, 'nu_7': 0.24423427529890673, 'gamma_8': 0.9892656628003524, 'nu_8': 0.07220228093977131, 'gamma_9': 0.2987887187882839, 'nu_9': 0.4646091934689731, 'gamma_10': 0.4899052976172932, 'nu_10': 0.11339357140492454, 'gamma_11': 0.79260379967821, 'nu_11': 0.32519154974769526}. Best is trial 1 with value: 0.839462360821541.\n",
      "[I 2025-03-08 04:37:17,348] Trial 8 finished with value: 0.8081887947478152 and parameters: {'gamma_0': 0.8693722118433407, 'nu_0': 0.35964212113706057, 'gamma_1': 0.4187993191314305, 'nu_1': 0.26741805959726445, 'gamma_2': 0.43166790721870363, 'nu_2': 0.12298711254231436, 'gamma_3': 0.27007582714678313, 'nu_3': 0.10743973832797411, 'gamma_4': 0.7872647330345217, 'nu_4': 0.14507893589621734, 'gamma_5': 0.7386416660092457, 'nu_5': 0.16486319019279028, 'gamma_6': 0.34148042397088, 'nu_6': 0.03252171586209094, 'gamma_7': 0.16828679459566612, 'nu_7': 0.15651947086533027, 'gamma_8': 0.6235462998822302, 'nu_8': 0.09469544700471104, 'gamma_9': 0.05374259954696835, 'nu_9': 0.47298539728999, 'gamma_10': 0.2678966920435904, 'nu_10': 0.37048869349088226, 'gamma_11': 0.9205126587392283, 'nu_11': 0.2231443566411312}. Best is trial 1 with value: 0.839462360821541.\n",
      "[I 2025-03-08 04:37:19,392] Trial 9 finished with value: 0.8658120037262121 and parameters: {'gamma_0': 0.5489972536306758, 'nu_0': 0.43669512527094123, 'gamma_1': 0.6475839689582553, 'nu_1': 0.020021354395165593, 'gamma_2': 0.5754992314287082, 'nu_2': 0.1193955581014561, 'gamma_3': 0.5043013531468987, 'nu_3': 0.19251709928896177, 'gamma_4': 0.9512741655529502, 'nu_4': 0.0957575467031634, 'gamma_5': 0.8872696618354677, 'nu_5': 0.043061671113129196, 'gamma_6': 0.8609336268701211, 'nu_6': 0.1125428914537249, 'gamma_7': 0.9805599501593574, 'nu_7': 0.377776579833688, 'gamma_8': 0.08483248803288397, 'nu_8': 0.20398489410632237, 'gamma_9': 0.09151674599664772, 'nu_9': 0.32804655251927045, 'gamma_10': 0.24041923620775715, 'nu_10': 0.11698810333898936, 'gamma_11': 0.30769886156235454, 'nu_11': 0.18828352679729227}. Best is trial 9 with value: 0.8658120037262121.\n"
     ]
    }
   ],
   "source": [
    "from utils import objective_dbocsvm_fit_ocsvm\n",
    "\n",
    "# Inner Optuna study for DBSCAN\n",
    "dbocsvm_fit_ocsvm_objective_lambda = lambda trial: objective_dbocsvm_fit_ocsvm(\n",
    "    trial,\n",
    "    model=dbocsvm,\n",
    "    X_encoded_train=X_encoded,\n",
    "    X_encoded_test=X_test_encoded,\n",
    "    y_test=y_test,\n",
    "    cluster_count=n_clusters,\n",
    ")\n",
    "\n",
    "if with_storage_dbocsvm:\n",
    "    dbocsvm_study = optuna.create_study(\n",
    "        direction=\"maximize\",\n",
    "        storage=ocsvm_optuna_storage_path,\n",
    "        study_name=\"dbocsvm_study\",\n",
    "        load_if_exists=True,\n",
    "    )\n",
    "    dbocsvm_study.optimize(\n",
    "        dbocsvm_fit_ocsvm_objective_lambda,\n",
    "        n_trials=ocsvm_trials,\n",
    "    )\n",
    "else:\n",
    "    dbocsvm_study = optuna.create_study(direction=\"maximize\")\n",
    "    dbocsvm_study.optimize(\n",
    "        dbocsvm_fit_ocsvm_objective_lambda,\n",
    "        n_trials=ocsvm_trials,\n",
    "    )"
   ]
  },
  {
   "cell_type": "code",
   "execution_count": 47,
   "metadata": {},
   "outputs": [],
   "source": [
    "parameter_list = {}\n",
    "\n",
    "for key, value in dbocsvm_study.best_params.items():\n",
    "    cluster = key.split(\"_\")[1]\n",
    "    cluster = int(cluster)\n",
    "\n",
    "    parameter_list[cluster] = {\n",
    "        \"kernel\": \"rbf\",\n",
    "        \"gamma\": dbocsvm_study.best_params[f\"gamma_{cluster}\"],\n",
    "        \"nu\": dbocsvm_study.best_params[f\"nu_{cluster}\"],\n",
    "    }"
   ]
  },
  {
   "cell_type": "markdown",
   "metadata": {},
   "source": [
    "best parameters and values"
   ]
  },
  {
   "cell_type": "code",
   "execution_count": 48,
   "metadata": {},
   "outputs": [
    {
     "name": "stdout",
     "output_type": "stream",
     "text": [
      "Best autoencoder model:\n",
      "{'input_dim': 122,\n",
      " 'hidden_dims': [116, 96, 64, 48],\n",
      " 'latent_dim': 22,\n",
      " 'activation_type': 'LeakyReLU',\n",
      " 'output_activation_type': 'Sigmoid',\n",
      " 'learning_rate': 0.001,\n",
      " 'batch_size': 128,\n",
      " 'epochs': 50,\n",
      " 'improvement_threshold': 1e-09,\n",
      " 'good_model_threshold': 0.00015,\n",
      " 'early_stopping_patience': 10,\n",
      " 'val_loss': 0.0024603788818543157}\n",
      "\n",
      "Best dbscan parameters\n",
      "{'eps': 3.5821672766474038,\n",
      " 'min_samples': 22,\n",
      " 'distance_metric': 'manhattan',\n",
      " 'evaluation_metric': 'silhouette',\n",
      " 'score': 0.6090736985206604}\n",
      "\n",
      "Best ocsvm parameters\n",
      "Tree algorithm: kd_tree\n",
      "Accuracy: 0.8658120037262121\n",
      "{0: {'kernel': 'rbf', 'gamma': 0.5489972536306758, 'nu': 0.43669512527094123},\n",
      " 1: {'kernel': 'rbf', 'gamma': 0.6475839689582553, 'nu': 0.020021354395165593},\n",
      " 2: {'kernel': 'rbf', 'gamma': 0.5754992314287082, 'nu': 0.1193955581014561},\n",
      " 3: {'kernel': 'rbf', 'gamma': 0.5043013531468987, 'nu': 0.19251709928896177},\n",
      " 4: {'kernel': 'rbf', 'gamma': 0.9512741655529502, 'nu': 0.0957575467031634},\n",
      " 5: {'kernel': 'rbf', 'gamma': 0.8872696618354677, 'nu': 0.043061671113129196},\n",
      " 6: {'kernel': 'rbf', 'gamma': 0.8609336268701211, 'nu': 0.1125428914537249},\n",
      " 7: {'kernel': 'rbf', 'gamma': 0.9805599501593574, 'nu': 0.377776579833688},\n",
      " 8: {'kernel': 'rbf', 'gamma': 0.08483248803288397, 'nu': 0.20398489410632237},\n",
      " 9: {'kernel': 'rbf', 'gamma': 0.09151674599664772, 'nu': 0.32804655251927045},\n",
      " 10: {'kernel': 'rbf', 'gamma': 0.24041923620775715, 'nu': 0.11698810333898936},\n",
      " 11: {'kernel': 'rbf', 'gamma': 0.30769886156235454, 'nu': 0.18828352679729227}}\n"
     ]
    }
   ],
   "source": [
    "if use_existing_model:\n",
    "    autoencoder_architecture = {\n",
    "        \"input_dim\": existing_model_architecture[\"input_dim\"],\n",
    "        \"hidden_dims\": existing_model_architecture[\"hidden_dims\"],\n",
    "        \"latent_dim\": existing_model_architecture[\"latent_dim\"],\n",
    "        \"activation_type\": existing_model_architecture[\"activation_type\"],\n",
    "        \"output_activation_type\": existing_model_architecture[\"output_activation_type\"],\n",
    "        \"val_loss\": checkpoint[\"val_loss\"],\n",
    "    }\n",
    "else:\n",
    "    autoencoder_architecture = {\n",
    "        \"input_dim\": input_dim,\n",
    "        \"hidden_dims\": new_model_architecture[\"hidden_dims\"],\n",
    "        \"latent_dim\": new_model_architecture[\"latent_dim\"],\n",
    "        \"activation_type\": new_model_architecture[\"activation_type\"],\n",
    "        \"output_activation_type\": new_model_architecture[\"output_activation_type\"],\n",
    "        \"learning_rate\": new_model_learning_parameters[\"lr\"],\n",
    "        \"batch_size\": new_model_learning_parameters[\"batch_size\"],\n",
    "        \"epochs\": new_model_learning_parameters[\"epochs\"],\n",
    "        \"improvement_threshold\": new_model_learning_parameters[\"improvement_threshold\"],\n",
    "        \"good_model_threshold\": new_model_learning_parameters[\"good_model_threshold\"],\n",
    "        \"early_stopping_patience\": new_model_learning_parameters[\n",
    "            \"early_stopping_patience\"\n",
    "        ],\n",
    "        \"val_loss\": checkpoint[\"val_loss\"],\n",
    "    }\n",
    "\n",
    "print(\"Best autoencoder model:\")\n",
    "pprint.pprint(autoencoder_architecture, sort_dicts=False)\n",
    "print(\"\")\n",
    "\n",
    "best_dbscan_parameters = {\n",
    "    \"eps\": eps,\n",
    "    \"min_samples\": min_samples,\n",
    "    \"distance_metric\": dbscan_tuning_parameters[\"distance_metric\"],\n",
    "    \"evaluation_metric\": dbscan_tuning_parameters[\"evaluation_metric\"],\n",
    "    \"score\": best_trial_dbscan.value,\n",
    "}\n",
    "\n",
    "print(\"Best dbscan parameters\")\n",
    "pprint.pprint(best_dbscan_parameters, sort_dicts=False)\n",
    "print(\"\")\n",
    "\n",
    "print(\"Best ocsvm parameters\")\n",
    "print(f\"Tree algorithm: {dbocsvm_tree_algorithm}\")\n",
    "print(f\"Accuracy: {dbocsvm_study.best_value}\")\n",
    "pprint.pprint(parameter_list, sort_dicts=False)"
   ]
  }
 ],
 "metadata": {
  "kernelspec": {
   "display_name": "venv",
   "language": "python",
   "name": "python3"
  },
  "language_info": {
   "codemirror_mode": {
    "name": "ipython",
    "version": 3
   },
   "file_extension": ".py",
   "mimetype": "text/x-python",
   "name": "python",
   "nbconvert_exporter": "python",
   "pygments_lexer": "ipython3",
   "version": "3.12.3"
  }
 },
 "nbformat": 4,
 "nbformat_minor": 2
}
