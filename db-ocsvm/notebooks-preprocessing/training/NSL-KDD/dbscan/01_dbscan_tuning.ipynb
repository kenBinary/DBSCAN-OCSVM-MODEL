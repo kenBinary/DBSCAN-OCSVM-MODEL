{
 "cells": [
  {
   "cell_type": "markdown",
   "id": "a2a224dc",
   "metadata": {},
   "source": [
    "# Tuning with PCA"
   ]
  },
  {
   "cell_type": "code",
   "execution_count": null,
   "id": "652cd685",
   "metadata": {},
   "outputs": [],
   "source": [
    "import pandas as pd"
   ]
  },
  {
   "cell_type": "code",
   "execution_count": null,
   "id": "cb692a1d",
   "metadata": {},
   "outputs": [],
   "source": [
    "# use this to run tuning with or without storage\n",
    "with_storage = False"
   ]
  },
  {
   "cell_type": "code",
   "execution_count": null,
   "id": "3aed4718",
   "metadata": {},
   "outputs": [],
   "source": [
    "train_set = pd.read_csv(\n",
    "    \"/home/jbct/Projects/thesis/db-ocsvm/data/processed/NSL-KDD/train_set_full.csv\"\n",
    ")\n",
    "print(train_set.shape)\n",
    "train_set = train_set.sample(frac=0.1, random_state=42)\n",
    "train_set.head()"
   ]
  },
  {
   "cell_type": "code",
   "execution_count": null,
   "id": "57e18514",
   "metadata": {},
   "outputs": [],
   "source": [
    "from sklearn.decomposition import PCA\n",
    "\n",
    "# Initialize PCA with 99998% variance retention\n",
    "pca = PCA(n_components=0.99998)\n",
    "\n",
    "# Fit PCA on the training data and transform it\n",
    "train_set = pca.fit_transform(train_set)\n",
    "\n",
    "# Print the number of components and explained variance ratio\n",
    "print(f\"Number of components selected: {pca.n_components_}\")\n",
    "print(f\"Total variance explained: {sum(pca.explained_variance_ratio_):.4f}\")"
   ]
  },
  {
   "cell_type": "code",
   "execution_count": null,
   "id": "e2d5dfc9",
   "metadata": {},
   "outputs": [],
   "source": [
    "from sklearn.metrics import (\n",
    "    silhouette_score,\n",
    "    davies_bouldin_score,\n",
    "    calinski_harabasz_score,\n",
    ")\n",
    "\n",
    "\n",
    "def get_score(X, labels, metric_name, mask=None):\n",
    "    if mask is not None:\n",
    "        X = X[mask]\n",
    "        labels = labels[mask]\n",
    "\n",
    "    if metric_name == \"silhouette\":\n",
    "        return silhouette_score(X, labels)\n",
    "    elif metric_name == \"davies_bouldin\":\n",
    "        return -davies_bouldin_score(X, labels)  # Negative because we want to maximize\n",
    "    elif metric_name == \"calinski_harabasz\":\n",
    "        return calinski_harabasz_score(X, labels)\n",
    "    else:\n",
    "        raise ValueError(f\"Unknown metric: {metric_name}\")"
   ]
  },
  {
   "cell_type": "code",
   "execution_count": null,
   "id": "ccc80d9f",
   "metadata": {},
   "outputs": [],
   "source": [
    "from sklearn.cluster import DBSCAN\n",
    "import optuna\n",
    "\n",
    "def objective(trial, metric_name=\"silhouette\"):\n",
    "    # Define the parameter search space\n",
    "    eps = trial.suggest_float(\"eps\", 0.1, 15.0)\n",
    "    min_samples = trial.suggest_int(\"min_samples\", 20, 50)\n",
    "    # metric = trial.suggest_categorical(\"metric\", [\"euclidean\", \"manhattan\", \"cosine\"])\n",
    "    metric = \"euclidean\"\n",
    "\n",
    "    # Create and fit DBSCAN\n",
    "    dbscan = DBSCAN(eps=eps, min_samples=min_samples, metric=metric, n_jobs=-1)\n",
    "\n",
    "    cluster_labels = dbscan.fit_predict(train_set)\n",
    "\n",
    "    # Calculate the evaluation metric\n",
    "    n_clusters = len(set(cluster_labels)) - (1 if -1 in cluster_labels else 0)\n",
    "\n",
    "    if n_clusters < 2:\n",
    "        return -float(\"inf\")  # Penalize solutions with too few clusters\n",
    "\n",
    "    # For silhouette score, we need to exclude noise points (-1)\n",
    "    if metric_name == \"silhouette\":\n",
    "        mask = cluster_labels != -1\n",
    "        if sum(mask) < 2:\n",
    "            return -float(\"inf\")\n",
    "        score = get_score(train_set, cluster_labels, metric_name, mask)\n",
    "    else:\n",
    "        score = get_score(train_set, cluster_labels, metric_name)\n",
    "\n",
    "    return score"
   ]
  },
  {
   "cell_type": "code",
   "execution_count": null,
   "id": "118171c3",
   "metadata": {},
   "outputs": [],
   "source": [
    "metric_name = \"silhouette\"\n",
    "storage_path = \"sqlite:///optuna_storage/01_dbscan.db\"\n",
    "trials = 10\n",
    "\n",
    "if with_storage:\n",
    "    # Study with storage\n",
    "    study = optuna.create_study(\n",
    "        direction=\"maximize\",\n",
    "        storage=storage_path,\n",
    "        study_name=\"01_dbscan\",\n",
    "        load_if_exists=True,\n",
    "    )\n",
    "    study.optimize(lambda trial: objective(trial, metric_name), n_trials=trials)\n",
    "else:\n",
    "    study = optuna.create_study(direction=\"maximize\")\n",
    "    study.optimize(lambda trial: objective(trial, metric_name), n_trials=trials)"
   ]
  },
  {
   "cell_type": "code",
   "execution_count": null,
   "id": "064b6e9e",
   "metadata": {},
   "outputs": [],
   "source": [
    "print(\"Best parameters:\", study.best_params)\n",
    "print(f\"Best {metric_name} score:\", study.best_value)"
   ]
  },
  {
   "cell_type": "code",
   "execution_count": null,
   "id": "31fe9bac",
   "metadata": {},
   "outputs": [],
   "source": [
    "import numpy as np\n",
    "import matplotlib.pyplot as plt\n",
    "\n",
    "# Apply DBSCAN with best parameters\n",
    "eps = study.best_params[\"eps\"]\n",
    "min_samples = study.best_params[\"min_samples\"]\n",
    "dbscan = DBSCAN(eps=eps, min_samples=min_samples, metric=\"euclidean\", n_jobs=-1)\n",
    "clusters = dbscan.fit_predict(train_set)"
   ]
  },
  {
   "cell_type": "code",
   "execution_count": null,
   "id": "ac3d139c",
   "metadata": {},
   "outputs": [],
   "source": [
    "# Print cluster information\n",
    "n_clusters = len(np.unique(clusters[clusters != -1]))\n",
    "print(f\"Number of clusters (excluding noise): {n_clusters}\")"
   ]
  },
  {
   "cell_type": "code",
   "execution_count": null,
   "id": "f49291cc",
   "metadata": {},
   "outputs": [],
   "source": [
    "unique, counts = np.unique(clusters, return_counts=True)\n",
    "print(\"\\nCluster distribution:\")\n",
    "for label, count in zip(unique, counts):\n",
    "    if label == -1:\n",
    "        print(f\"Noise points: {count}\")\n",
    "    else:\n",
    "        print(f\"Cluster {label}: {count} points\")"
   ]
  },
  {
   "cell_type": "code",
   "execution_count": null,
   "id": "e4a62d60",
   "metadata": {},
   "outputs": [],
   "source": [
    "from sklearn.manifold import TSNE\n",
    "\n",
    "# Dimensionality reduction using t-SNE\n",
    "tsne = TSNE(n_components=2, random_state=42)\n",
    "reduced_data = tsne.fit_transform(train_set)\n",
    "\n",
    "\n",
    "cmap_colors = plt.cm.get_cmap(\n",
    "    \"Paired\", len(set(clusters))\n",
    ")  # Adjust len(set(clusters)) if needed\n",
    "\n",
    "# Visualize the clusters\n",
    "plt.figure(figsize=(8, 6))\n",
    "scatter = plt.scatter(\n",
    "    # reduced_data[:, 0], reduced_data[:, 1], c=clusters, cmap=\"viridis\", alpha=0.6\n",
    "    reduced_data[:, 0],\n",
    "    reduced_data[:, 1],\n",
    "    c=clusters,\n",
    "    cmap=cmap_colors,\n",
    "    alpha=0.6,\n",
    ")\n",
    "plt.title(\"DBSCAN Clusters Visualized after t-SNE\")\n",
    "plt.xlabel(\"t-SNE Component 1\")\n",
    "plt.ylabel(\"t-SNE Component 2\")\n",
    "plt.colorbar(scatter, label=\"Cluster Label\")\n",
    "plt.show()"
   ]
  }
 ],
 "metadata": {
  "kernelspec": {
   "display_name": "venv",
   "language": "python",
   "name": "python3"
  },
  "language_info": {
   "codemirror_mode": {
    "name": "ipython",
    "version": 3
   },
   "file_extension": ".py",
   "mimetype": "text/x-python",
   "name": "python",
   "nbconvert_exporter": "python",
   "pygments_lexer": "ipython3",
   "version": "3.12.3"
  }
 },
 "nbformat": 4,
 "nbformat_minor": 5
}
